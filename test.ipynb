{
 "cells": [
  {
   "cell_type": "code",
   "execution_count": 2,
   "id": "1dbbf474",
   "metadata": {},
   "outputs": [
    {
     "name": "stdout",
     "output_type": "stream",
     "text": [
      "Requirement already satisfied: numpy in /opt/anaconda/envs/mlops/lib/python3.11/site-packages (2.3.4)\n",
      "\u001b[33mWARNING: Running pip as the 'root' user can result in broken permissions and conflicting behaviour with the system package manager, possibly rendering your system unusable. It is recommended to use a virtual environment instead: https://pip.pypa.io/warnings/venv. Use the --root-user-action option if you know what you are doing and want to suppress this warning.\u001b[0m\u001b[33m\n",
      "\u001b[0m"
     ]
    }
   ],
   "source": [
    "!pip install numpy"
   ]
  },
  {
   "cell_type": "code",
   "execution_count": 3,
   "id": "ec579a8f",
   "metadata": {},
   "outputs": [
    {
     "name": "stdout",
     "output_type": "stream",
     "text": [
      "[1 2]\n"
     ]
    }
   ],
   "source": [
    "import numpy as np\n",
    "arr=np.array([1,2])\n",
    "print(arr)"
   ]
  },
  {
   "cell_type": "code",
   "execution_count": 3,
   "id": "fbe2dc42",
   "metadata": {},
   "outputs": [
    {
     "name": "stdout",
     "output_type": "stream",
     "text": [
      "1\n"
     ]
    }
   ],
   "source": [
    "print(np.array([1,2,3]).ndim)"
   ]
  },
  {
   "cell_type": "code",
   "execution_count": 4,
   "id": "94b3c049",
   "metadata": {},
   "outputs": [
    {
     "data": {
      "text/plain": [
       "array([[1., 0., 0.],\n",
       "       [0., 1., 0.],\n",
       "       [0., 0., 1.]])"
      ]
     },
     "execution_count": 4,
     "metadata": {},
     "output_type": "execute_result"
    }
   ],
   "source": [
    "np.eye(3)"
   ]
  },
  {
   "cell_type": "code",
   "execution_count": 5,
   "id": "ccbec49c",
   "metadata": {},
   "outputs": [
    {
     "name": "stdout",
     "output_type": "stream",
     "text": [
      "int64\n"
     ]
    }
   ],
   "source": [
    "arr=np.array([1,2,3])\n",
    "print(arr.dtype)"
   ]
  },
  {
   "cell_type": "code",
   "execution_count": 6,
   "id": "2245ef09",
   "metadata": {},
   "outputs": [
    {
     "data": {
      "text/plain": [
       "array([ 0. ,  2.5,  5. ,  7.5, 10. ])"
      ]
     },
     "execution_count": 6,
     "metadata": {},
     "output_type": "execute_result"
    }
   ],
   "source": [
    "np.linspace(0,10,5)"
   ]
  },
  {
   "cell_type": "code",
   "execution_count": 7,
   "id": "ca3e1eea",
   "metadata": {},
   "outputs": [
    {
     "data": {
      "text/plain": [
       "array([[inf, inf],\n",
       "       [inf, inf]])"
      ]
     },
     "execution_count": 7,
     "metadata": {},
     "output_type": "execute_result"
    }
   ],
   "source": [
    "np.full((2,2), np.inf) "
   ]
  },
  {
   "cell_type": "code",
   "execution_count": 8,
   "id": "b21cc61f",
   "metadata": {},
   "outputs": [
    {
     "name": "stdout",
     "output_type": "stream",
     "text": [
      "[20 50]\n"
     ]
    }
   ],
   "source": [
    "arr = np.array([[10,20,30],[40,50,60]])\n",
    "print(arr[:,1])"
   ]
  },
  {
   "cell_type": "code",
   "execution_count": 9,
   "id": "3b9ce7b3",
   "metadata": {},
   "outputs": [
    {
     "data": {
      "text/plain": [
       "array([[0.94849352, 0.57388431, 0.80723369],\n",
       "       [0.08519343, 0.8628661 , 0.93349809]])"
      ]
     },
     "execution_count": 9,
     "metadata": {},
     "output_type": "execute_result"
    }
   ],
   "source": [
    "np.random.rand(2,3)"
   ]
  },
  {
   "cell_type": "code",
   "execution_count": 11,
   "id": "7596ab6b",
   "metadata": {},
   "outputs": [
    {
     "name": "stdout",
     "output_type": "stream",
     "text": [
      "[1 0 0 0 5]\n"
     ]
    }
   ],
   "source": [
    "arr=np.array([1,2,3,4,5])\n",
    "arr[1:4]=0\n",
    "print(arr)"
   ]
  },
  {
   "cell_type": "code",
   "execution_count": 14,
   "id": "b385592f-6ff4-4f84-89db-4a7e11a72d45",
   "metadata": {},
   "outputs": [
    {
     "name": "stdout",
     "output_type": "stream",
     "text": [
      "[ 1  2  3  4  5  6  7  8  9 10 11 12]\n"
     ]
    }
   ],
   "source": [
    "print(np.ravel(np.array([[1,2,3,4],[5,6,7,8],[9,10,11,12]]),order=\"C\"))"
   ]
  },
  {
   "cell_type": "markdown",
   "id": "243b75cd-dfbe-44d2-9ccc-eae58a970c39",
   "metadata": {},
   "source": [
    "# "
   ]
  },
  {
   "cell_type": "code",
   "execution_count": 1,
   "id": "0d4e7c5b-05ef-459d-9caa-86c0a64836b3",
   "metadata": {},
   "outputs": [],
   "source": [
    "import pandas as pd"
   ]
  },
  {
   "cell_type": "code",
   "execution_count": 4,
   "id": "c5f0aec4-f100-49f5-a938-134098bb5b7f",
   "metadata": {},
   "outputs": [
    {
     "name": "stdout",
     "output_type": "stream",
     "text": [
      "Sample Data Created and Saved as employees.csv\n"
     ]
    }
   ],
   "source": [
    "np.random.seed(42)\n",
    "ids = np.arange(1, 11)\n",
    "ages = np.random.randint(18, 60, 10)\n",
    "salaries = np.random.randint(30000, 90000, 10)\n",
    "departments = np.array([\"HR\", \"IT\", \"Finance\", \"IT\", \"HR\", \"Sales\", \"Finance\", \"IT\", \"Sales\", \"HR\"])\n",
    "DF = pd.DataFrame({\n",
    "\"id\": ids,\n",
    "\"age\": ages,\n",
    "\"salary\": salaries,\n",
    "\"dept\": departments\n",
    "})\n",
    "DF.to_csv(\"employees.csv\", index=False)\n",
    "print(\"Sample Data Created and Saved as employees.csv\")\n"
   ]
  },
  {
   "cell_type": "markdown",
   "id": "e9711a62-a9d7-4bb1-9344-419718836787",
   "metadata": {},
   "source": [
    "# Q1. Create NumPy arrays from the ages and salaries data generated above. Print both arrays and display their dtype, ndim, shape, and size."
   ]
  },
  {
   "cell_type": "code",
   "execution_count": 5,
   "id": "bbb663cb-f8c0-4c14-b6fd-fd04b39518e8",
   "metadata": {},
   "outputs": [
    {
     "name": "stdout",
     "output_type": "stream",
     "text": [
      "Array:[56 46 32 25 38 56 36 40 28 28], dtype: int64, ndim: 1, shape: (10,), size: 10\n",
      "Array:[77191 74131 46023 71090 31685 30769 89735 86101 32433 35311], dtype: int64, ndim: 1, shape: (10,), size: 10\n"
     ]
    }
   ],
   "source": [
    "ages_numpy_array=np.array(ages)\n",
    "salaries_numpy_array=np.array(salaries)\n",
    "print(f\"Array:{ages_numpy_array}, dtype: {ages_numpy_array.dtype}, ndim: {ages_numpy_array.ndim}, shape: {ages_numpy_array.shape}, size: {ages_numpy_array.size}\")\n",
    "print(f\"Array:{salaries_numpy_array}, dtype: {salaries_numpy_array.dtype}, ndim: {salaries_numpy_array.ndim}, shape: {salaries_numpy_array.shape}, size: {salaries_numpy_array.size}\")"
   ]
  },
  {
   "cell_type": "markdown",
   "id": "884aa57c-ce94-42ef-b6e7-0bbf3c73a267",
   "metadata": {},
   "source": [
    "# Q2. Using the salaries array, find and print the highest and lowest salary values. Also, calculate and print the average salary and age using NumPy functions."
   ]
  },
  {
   "cell_type": "code",
   "execution_count": 6,
   "id": "15ddd28d-33e0-454e-854d-86117264f061",
   "metadata": {},
   "outputs": [
    {
     "name": "stdout",
     "output_type": "stream",
     "text": [
      "Highest salary: 89735,\n",
      "lowest salary: 30769,\n",
      "average salary: 57446.9,\n",
      "average age: 38.5\n"
     ]
    }
   ],
   "source": [
    "print(f\"Highest salary: {np.max(salaries_numpy_array)},\\nlowest salary: {np.min(salaries_numpy_array)},\\naverage salary: {np.average(salaries_numpy_array)},\\naverage age: {np.average(ages_numpy_array)}\")\n"
   ]
  },
  {
   "cell_type": "markdown",
   "id": "70c36a1b-8358-42bf-8c7c-e7bf4162d13f",
   "metadata": {},
   "source": [
    "# Q3. From the ages array, filter and print all ages greater than 30 using a boolean condition. Then count and print how many employees are older than 30."
   ]
  },
  {
   "cell_type": "code",
   "execution_count": 7,
   "id": "ad50469c-2c52-4ee8-a0a9-94d1b6d0570a",
   "metadata": {},
   "outputs": [
    {
     "name": "stdout",
     "output_type": "stream",
     "text": [
      "[56 46 32 38 56 36 40],7\n"
     ]
    }
   ],
   "source": [
    "print(f\"{ages_numpy_array[ages_numpy_array>30]},{np.sum(ages_numpy_array>30)}\")"
   ]
  },
  {
   "cell_type": "markdown",
   "id": "703a353c-e4d8-4a88-b20d-2e17c89da45a",
   "metadata": {},
   "source": [
    "# Q4. Create a new NumPy array that increases every employee’s age by 5 years (without modifying the original array). Print the new updated ages array."
   ]
  },
  {
   "cell_type": "code",
   "execution_count": 8,
   "id": "dca23b72-4164-4992-93a1-5d71475b42dd",
   "metadata": {},
   "outputs": [
    {
     "name": "stdout",
     "output_type": "stream",
     "text": [
      "[61 51 37 30 43 61 41 45 33 33]\n"
     ]
    }
   ],
   "source": [
    "copy_ages_numpy_array=ages.copy()\n",
    "copy_ages_numpy_array+=5\n",
    "print(copy_ages_numpy_array)"
   ]
  },
  {
   "cell_type": "markdown",
   "id": "608e92b1-d96b-49a8-a086-4143aef7db1b",
   "metadata": {},
   "source": [
    "# Q5. Using NumPy, calculate the total salary expense (sum of all salaries) and the difference between the maximum and minimum salary. Print both results.\n"
   ]
  },
  {
   "cell_type": "code",
   "execution_count": 12,
   "id": "e6b29f11-8874-4202-a871-030522079d10",
   "metadata": {},
   "outputs": [
    {
     "name": "stdout",
     "output_type": "stream",
     "text": [
      "Total salary expense: 574469,\n",
      "difference between the maximum and minimum salary: 58966\n"
     ]
    }
   ],
   "source": [
    "total_salary_expense=salaries_numpy_array.sum()\n",
    "maximum_salary=salaries_numpy_array.max()\n",
    "minimum_salary=salaries_numpy_array.min()\n",
    "print(f\"Total salary expense: {total_salary_expense},\\ndifference between the maximum and minimum salary: {maximum_salary-minimum_salary}\")"
   ]
  },
  {
   "cell_type": "markdown",
   "id": "687e284f-0772-4c1e-9df8-2b5a54cb97fc",
   "metadata": {},
   "source": [
    "# Q6. Load the employees.csv file into a Pandas DataFrame. Display the first 5 rows, and check basic info using info() and summary statistics using describe().\n"
   ]
  },
  {
   "cell_type": "code",
   "execution_count": 16,
   "id": "eed96985-2149-4279-917f-d2cb9c43a6c3",
   "metadata": {},
   "outputs": [
    {
     "name": "stdout",
     "output_type": "stream",
     "text": [
      "   id  age  salary     dept\n",
      "0   1   56   77191       HR\n",
      "1   2   46   74131       IT\n",
      "2   3   32   46023  Finance\n",
      "3   4   25   71090       IT\n",
      "4   5   38   31685       HR\n",
      "<class 'pandas.core.frame.DataFrame'>\n",
      "RangeIndex: 10 entries, 0 to 9\n",
      "Data columns (total 4 columns):\n",
      " #   Column  Non-Null Count  Dtype \n",
      "---  ------  --------------  ----- \n",
      " 0   id      10 non-null     int64 \n",
      " 1   age     10 non-null     int64 \n",
      " 2   salary  10 non-null     int64 \n",
      " 3   dept    10 non-null     object\n",
      "dtypes: int64(3), object(1)\n",
      "memory usage: 452.0+ bytes\n",
      "None\n",
      "             id       age        salary\n",
      "count  10.00000  10.00000     10.000000\n",
      "mean    5.50000  38.50000  57446.900000\n",
      "std     3.02765  11.16791  24357.262884\n",
      "min     1.00000  25.00000  30769.000000\n",
      "25%     3.25000  29.00000  33152.500000\n",
      "50%     5.50000  37.00000  58556.500000\n",
      "75%     7.75000  44.50000  76426.000000\n",
      "max    10.00000  56.00000  89735.000000\n"
     ]
    }
   ],
   "source": [
    "df=pd.read_csv(\"employees.csv\")\n",
    "print(df.head(5))\n",
    "print(df.info())\n",
    "print(df.describe())"
   ]
  },
  {
   "cell_type": "markdown",
   "id": "fa345bc2-9367-44b7-aee7-6651ea811fb0",
   "metadata": {},
   "source": [
    "# Q7. Display only the id, age, and salary columns. Then show the last 3 rows using tail()."
   ]
  },
  {
   "cell_type": "code",
   "execution_count": 23,
   "id": "de1c6dfd-d50f-42a2-a4b1-5bdaa582b3a7",
   "metadata": {},
   "outputs": [
    {
     "name": "stdout",
     "output_type": "stream",
     "text": [
      "   id  age  salary\n",
      "0   1   56   77191\n",
      "1   2   46   74131\n",
      "2   3   32   46023\n",
      "3   4   25   71090\n",
      "4   5   38   31685\n",
      "5   6   56   30769\n",
      "6   7   36   89735\n",
      "7   8   40   86101\n",
      "8   9   28   32433\n",
      "9  10   28   35311\n",
      "   id  age  salary   dept\n",
      "7   8   40   86101     IT\n",
      "8   9   28   32433  Sales\n",
      "9  10   28   35311     HR\n"
     ]
    }
   ],
   "source": [
    "print(df.loc[:,['id','age','salary']])\n",
    "print(df.tail(3))"
   ]
  },
  {
   "cell_type": "markdown",
   "id": "45c1a5c6-59b7-49b6-b8b6-f400deeca89d",
   "metadata": {},
   "source": [
    "# Q8. Filter the DataFrame to show only employees who work in the IT department. Print the result and show the total number of IT employees.\n"
   ]
  },
  {
   "cell_type": "code",
   "execution_count": 29,
   "id": "0d04111a-2aa5-4fd0-a309-e5817e5b3399",
   "metadata": {},
   "outputs": [
    {
     "name": "stdout",
     "output_type": "stream",
     "text": [
      "   id  age  salary dept\n",
      "1   2   46   74131   IT\n",
      "3   4   25   71090   IT\n",
      "7   8   40   86101   IT\n",
      "id        3\n",
      "age       3\n",
      "salary    3\n",
      "dept      3\n",
      "dtype: int64\n"
     ]
    }
   ],
   "source": [
    "it=df.loc[df['dept']==\"IT\"]\n",
    "print(it)\n",
    "print(it.count())"
   ]
  },
  {
   "cell_type": "markdown",
   "id": "3b666a62-e9f9-414d-ab4d-f3753eab3291",
   "metadata": {},
   "source": [
    "# Q9. Sort the DataFrame by salary in descending order and display the top 3 highest-paid employees along with their department and age.\n"
   ]
  },
  {
   "cell_type": "code",
   "execution_count": 40,
   "id": "3f29c3af-4639-4786-9ef4-6eec60c3f735",
   "metadata": {},
   "outputs": [
    {
     "name": "stdout",
     "output_type": "stream",
     "text": [
      "   id  age  salary     dept\n",
      "6   7   36   89735  Finance\n",
      "7   8   40   86101       IT\n",
      "0   1   56   77191       HR\n"
     ]
    }
   ],
   "source": [
    "sorted_df=df.sort_values(by='salary',ascending=0)\n",
    "print(sorted_df.head(3))"
   ]
  },
  {
   "cell_type": "markdown",
   "id": "c2746d75-9d60-44de-bdad-fc1ea69efd51",
   "metadata": {},
   "source": [
    "# Q10. Replace all salary values greater than 80000 with 80000 using loc. Then calculate and print the new average salary of all employees after replacement.\n",
    "\n"
   ]
  },
  {
   "cell_type": "code",
   "execution_count": 45,
   "id": "eb0c750a-7acf-42cd-8147-56e0130e44b7",
   "metadata": {},
   "outputs": [
    {
     "name": "stdout",
     "output_type": "stream",
     "text": [
      "55863.3\n"
     ]
    }
   ],
   "source": [
    "copy_df=df\n",
    "copy_df.loc[copy_df['salary']>80000,'salary']=80000\n",
    "print(np.average(np.array(df['salary'])))"
   ]
  },
  {
   "cell_type": "code",
   "execution_count": null,
   "id": "ad06991d-6134-4b58-9f34-487369c202ce",
   "metadata": {},
   "outputs": [],
   "source": []
  }
 ],
 "metadata": {
  "kernelspec": {
   "display_name": "Python 3 (ipykernel)",
   "language": "python",
   "name": "python3"
  },
  "language_info": {
   "codemirror_mode": {
    "name": "ipython",
    "version": 3
   },
   "file_extension": ".py",
   "mimetype": "text/x-python",
   "name": "python",
   "nbconvert_exporter": "python",
   "pygments_lexer": "ipython3",
   "version": "3.11.13"
  },
  "widgets": {
   "application/vnd.jupyter.widget-state+json": {
    "state": {},
    "version_major": 2,
    "version_minor": 0
   }
  }
 },
 "nbformat": 4,
 "nbformat_minor": 5
}
