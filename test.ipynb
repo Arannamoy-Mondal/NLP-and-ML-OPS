{
 "cells": [
  {
   "cell_type": "code",
   "execution_count": 1,
   "id": "1dbbf474",
   "metadata": {},
   "outputs": [
    {
     "name": "stdout",
     "output_type": "stream",
     "text": [
      "Collecting numpy\n",
      "  Downloading numpy-2.3.4-cp311-cp311-manylinux_2_27_x86_64.manylinux_2_28_x86_64.whl.metadata (62 kB)\n",
      "Downloading numpy-2.3.4-cp311-cp311-manylinux_2_27_x86_64.manylinux_2_28_x86_64.whl (16.9 MB)\n",
      "\u001b[2K   \u001b[38;2;114;156;31m━━━━━━━━━━━━━━━━━━━━━━━━━━━━━━━━━━━━━━━━\u001b[0m \u001b[32m16.9/16.9 MB\u001b[0m \u001b[31m186.4 kB/s\u001b[0m  \u001b[33m0:01:12\u001b[0m\u001b[0m eta \u001b[36m0:00:01\u001b[0m[36m0:00:03\u001b[0m\n",
      "\u001b[?25hInstalling collected packages: numpy\n",
      "Successfully installed numpy-2.3.4\n",
      "\u001b[33mWARNING: Running pip as the 'root' user can result in broken permissions and conflicting behaviour with the system package manager, possibly rendering your system unusable. It is recommended to use a virtual environment instead: https://pip.pypa.io/warnings/venv. Use the --root-user-action option if you know what you are doing and want to suppress this warning.\u001b[0m\u001b[33m\n",
      "\u001b[0m"
     ]
    }
   ],
   "source": [
    "!pip install numpy"
   ]
  },
  {
   "cell_type": "code",
   "execution_count": 1,
   "id": "ec579a8f",
   "metadata": {},
   "outputs": [
    {
     "name": "stdout",
     "output_type": "stream",
     "text": [
      "[1 2]\n"
     ]
    }
   ],
   "source": [
    "import numpy as np\n",
    "arr=np.array([1,2])\n",
    "print(arr)"
   ]
  },
  {
   "cell_type": "code",
   "execution_count": 3,
   "id": "fbe2dc42",
   "metadata": {},
   "outputs": [
    {
     "name": "stdout",
     "output_type": "stream",
     "text": [
      "1\n"
     ]
    }
   ],
   "source": [
    "print(np.array([1,2,3]).ndim)"
   ]
  },
  {
   "cell_type": "code",
   "execution_count": 4,
   "id": "94b3c049",
   "metadata": {},
   "outputs": [
    {
     "data": {
      "text/plain": [
       "array([[1., 0., 0.],\n",
       "       [0., 1., 0.],\n",
       "       [0., 0., 1.]])"
      ]
     },
     "execution_count": 4,
     "metadata": {},
     "output_type": "execute_result"
    }
   ],
   "source": [
    "np.eye(3)"
   ]
  },
  {
   "cell_type": "code",
   "execution_count": 5,
   "id": "ccbec49c",
   "metadata": {},
   "outputs": [
    {
     "name": "stdout",
     "output_type": "stream",
     "text": [
      "int64\n"
     ]
    }
   ],
   "source": [
    "arr=np.array([1,2,3])\n",
    "print(arr.dtype)"
   ]
  },
  {
   "cell_type": "code",
   "execution_count": 6,
   "id": "2245ef09",
   "metadata": {},
   "outputs": [
    {
     "data": {
      "text/plain": [
       "array([ 0. ,  2.5,  5. ,  7.5, 10. ])"
      ]
     },
     "execution_count": 6,
     "metadata": {},
     "output_type": "execute_result"
    }
   ],
   "source": [
    "np.linspace(0,10,5)"
   ]
  },
  {
   "cell_type": "code",
   "execution_count": 7,
   "id": "ca3e1eea",
   "metadata": {},
   "outputs": [
    {
     "data": {
      "text/plain": [
       "array([[inf, inf],\n",
       "       [inf, inf]])"
      ]
     },
     "execution_count": 7,
     "metadata": {},
     "output_type": "execute_result"
    }
   ],
   "source": [
    "np.full((2,2), np.inf) "
   ]
  },
  {
   "cell_type": "code",
   "execution_count": 8,
   "id": "b21cc61f",
   "metadata": {},
   "outputs": [
    {
     "name": "stdout",
     "output_type": "stream",
     "text": [
      "[20 50]\n"
     ]
    }
   ],
   "source": [
    "arr = np.array([[10,20,30],[40,50,60]])\n",
    "print(arr[:,1])"
   ]
  },
  {
   "cell_type": "code",
   "execution_count": 9,
   "id": "3b9ce7b3",
   "metadata": {},
   "outputs": [
    {
     "data": {
      "text/plain": [
       "array([[0.94849352, 0.57388431, 0.80723369],\n",
       "       [0.08519343, 0.8628661 , 0.93349809]])"
      ]
     },
     "execution_count": 9,
     "metadata": {},
     "output_type": "execute_result"
    }
   ],
   "source": [
    "np.random.rand(2,3)"
   ]
  },
  {
   "cell_type": "code",
   "execution_count": 11,
   "id": "7596ab6b",
   "metadata": {},
   "outputs": [
    {
     "name": "stdout",
     "output_type": "stream",
     "text": [
      "[1 0 0 0 5]\n"
     ]
    }
   ],
   "source": [
    "arr=np.array([1,2,3,4,5])\n",
    "arr[1:4]=0\n",
    "print(arr)"
   ]
  },
  {
   "cell_type": "code",
   "execution_count": 14,
   "id": "b385592f-6ff4-4f84-89db-4a7e11a72d45",
   "metadata": {},
   "outputs": [
    {
     "name": "stdout",
     "output_type": "stream",
     "text": [
      "[ 1  2  3  4  5  6  7  8  9 10 11 12]\n"
     ]
    }
   ],
   "source": [
    "print(np.ravel(np.array([[1,2,3,4],[5,6,7,8],[9,10,11,12]]),order=\"C\"))"
   ]
  },
  {
   "cell_type": "markdown",
   "id": "243b75cd-dfbe-44d2-9ccc-eae58a970c39",
   "metadata": {},
   "source": [
    "# "
   ]
  },
  {
   "cell_type": "code",
   "execution_count": 2,
   "id": "0d4e7c5b-05ef-459d-9caa-86c0a64836b3",
   "metadata": {},
   "outputs": [],
   "source": [
    "import pandas as pd"
   ]
  },
  {
   "cell_type": "code",
   "execution_count": 3,
   "id": "c5f0aec4-f100-49f5-a938-134098bb5b7f",
   "metadata": {},
   "outputs": [
    {
     "name": "stdout",
     "output_type": "stream",
     "text": [
      "Sample Data Created and Saved as employees.csv\n"
     ]
    }
   ],
   "source": [
    "np.random.seed(42)\n",
    "ids = np.arange(1, 11)\n",
    "ages = np.random.randint(18, 60, 10)\n",
    "salaries = np.random.randint(30000, 90000, 10)\n",
    "departments = np.array([\"HR\", \"IT\", \"Finance\", \"IT\", \"HR\", \"Sales\", \"Finance\", \"IT\", \"Sales\", \"HR\"])\n",
    "DF = pd.DataFrame({\n",
    "\"id\": ids,\n",
    "\"age\": ages,\n",
    "\"salary\": salaries,\n",
    "\"dept\": departments\n",
    "})\n",
    "DF.to_csv(\"employees.csv\", index=False)\n",
    "print(\"Sample Data Created and Saved as employees.csv\")\n"
   ]
  },
  {
   "cell_type": "markdown",
   "id": "e9711a62-a9d7-4bb1-9344-419718836787",
   "metadata": {},
   "source": [
    "# Q1. Create NumPy arrays from the ages and salaries data generated above. Print both arrays and display their dtype, ndim, shape, and size."
   ]
  },
  {
   "cell_type": "code",
   "execution_count": 12,
   "id": "bbb663cb-f8c0-4c14-b6fd-fd04b39518e8",
   "metadata": {},
   "outputs": [
    {
     "name": "stdout",
     "output_type": "stream",
     "text": [
      "Array:[56 46 32 25 38 56 36 40 28 28], dtype: int64, ndim: 1, shape: (10,), size: 10\n",
      "Array:[77191 74131 46023 71090 31685 30769 89735 86101 32433 35311], dtype: int64, ndim: 1, shape: (10,), size: 10\n"
     ]
    }
   ],
   "source": [
    "ages_numpy_array=np.array(ages)\n",
    "salaries_numpy_array=np.array(salaries)\n",
    "print(f\"Array:{ages_numpy_array}, dtype: {ages_numpy_array.dtype}, ndim: {ages_numpy_array.ndim}, shape: {ages_numpy_array.shape}, size: {ages_numpy_array.size}\")\n",
    "print(f\"Array:{salaries_numpy_array}, dtype: {salaries_numpy_array.dtype}, ndim: {salaries_numpy_array.ndim}, shape: {salaries_numpy_array.shape}, size: {salaries_numpy_array.size}\")"
   ]
  },
  {
   "cell_type": "markdown",
   "id": "884aa57c-ce94-42ef-b6e7-0bbf3c73a267",
   "metadata": {},
   "source": [
    "# Q2. Using the salaries array, find and print the highest and lowest salary values. Also, calculate and print the average salary and age using NumPy functions."
   ]
  },
  {
   "cell_type": "code",
   "execution_count": 19,
   "id": "15ddd28d-33e0-454e-854d-86117264f061",
   "metadata": {},
   "outputs": [
    {
     "name": "stdout",
     "output_type": "stream",
     "text": [
      "Highest salary: 89735,\n",
      "lowest salary: 30769,\n",
      "average salary: 57446.9,\n",
      "average age: 38.5\n"
     ]
    }
   ],
   "source": [
    "print(f\"Highest salary: {np.max(salaries_numpy_array)},\\nlowest salary: {np.min(salaries_numpy_array)},\\naverage salary: {np.average(salaries_numpy_array)},\\naverage age: {np.average(ages_numpy_array)}\")\n"
   ]
  },
  {
   "cell_type": "markdown",
   "id": "70c36a1b-8358-42bf-8c7c-e7bf4162d13f",
   "metadata": {},
   "source": [
    "# Q3. From the ages array, filter and print all ages greater than 30 using a boolean condition. Then count and print how many employees are older than 30."
   ]
  },
  {
   "cell_type": "code",
   "execution_count": 28,
   "id": "ad50469c-2c52-4ee8-a0a9-94d1b6d0570a",
   "metadata": {},
   "outputs": [
    {
     "name": "stdout",
     "output_type": "stream",
     "text": [
      "[56 46 32 38 56 36 40],7\n"
     ]
    }
   ],
   "source": [
    "print(f\"{ages_numpy_array[ages_numpy_array>30]},{np.sum(ages_numpy_array>30)}\")"
   ]
  },
  {
   "cell_type": "code",
   "execution_count": null,
   "id": "235f9b7a-c3c6-4154-9a33-6e533ef69074",
   "metadata": {},
   "outputs": [],
   "source": []
  },
  {
   "cell_type": "code",
   "execution_count": null,
   "id": "dca23b72-4164-4992-93a1-5d71475b42dd",
   "metadata": {},
   "outputs": [],
   "source": []
  },
  {
   "cell_type": "code",
   "execution_count": null,
   "id": "c08c0806-08c9-40a3-994c-1c53bfbad743",
   "metadata": {},
   "outputs": [],
   "source": []
  }
 ],
 "metadata": {
  "kernelspec": {
   "display_name": "Python 3 (ipykernel)",
   "language": "python",
   "name": "python3"
  },
  "language_info": {
   "codemirror_mode": {
    "name": "ipython",
    "version": 3
   },
   "file_extension": ".py",
   "mimetype": "text/x-python",
   "name": "python",
   "nbconvert_exporter": "python",
   "pygments_lexer": "ipython3",
   "version": "3.11.13"
  },
  "widgets": {
   "application/vnd.jupyter.widget-state+json": {
    "state": {},
    "version_major": 2,
    "version_minor": 0
   }
  }
 },
 "nbformat": 4,
 "nbformat_minor": 5
}
