{
 "cells": [
  {
   "cell_type": "markdown",
   "id": "9e98c7ea-8a97-4dea-8f6f-7fad7026a1f5",
   "metadata": {},
   "source": [
    "# 1 . Create a 1D, 2D, and 3D NumPy array and print their dimensions and shapes."
   ]
  },
  {
   "cell_type": "code",
   "execution_count": 1,
   "id": "f5b4aadc-3b41-4dea-9712-7d26340d7663",
   "metadata": {},
   "outputs": [],
   "source": [
    "import numpy as np"
   ]
  },
  {
   "cell_type": "code",
   "execution_count": 9,
   "id": "51a0fdd8-77e6-47d0-9a14-a72100c57f09",
   "metadata": {},
   "outputs": [
    {
     "name": "stdout",
     "output_type": "stream",
     "text": [
      "[1 3 5 7 9]\n",
      "Dimension: 1\n",
      "Shape: (5,)\n"
     ]
    }
   ],
   "source": [
    "one_d=np.array(np.arange(1,10,2))\n",
    "print(one_d)\n",
    "print(\"Dimension:\",one_d.ndim)\n",
    "print(\"Shape:\",np.shape(one_d))"
   ]
  },
  {
   "cell_type": "code",
   "execution_count": 10,
   "id": "03acffca-e2f5-4d14-a4b7-8f764f77637f",
   "metadata": {},
   "outputs": [
    {
     "name": "stdout",
     "output_type": "stream",
     "text": [
      "[[ 1  3  5  7  9]\n",
      " [20 22 24 26 28]]\n",
      "Dimension: 2\n",
      "Shape: (2, 5)\n"
     ]
    }
   ],
   "source": [
    "two_d=np.array([np.arange(1,10,2),np.arange(20,30,2)])\n",
    "print(two_d)\n",
    "print(\"Dimension:\",two_d.ndim)\n",
    "print(\"Shape:\",np.shape(two_d))"
   ]
  },
  {
   "cell_type": "code",
   "execution_count": 13,
   "id": "3c4ab6e2-2833-45b8-a3d5-7dd219c93e7c",
   "metadata": {},
   "outputs": [
    {
     "name": "stdout",
     "output_type": "stream",
     "text": [
      "[[[ 0  1  2  3  4  5  6  7]\n",
      "  [ 8  9 10 11 12 13 14 15]\n",
      "  [16 17 18 19 20 21 22 23]]\n",
      "\n",
      " [[24 25 26 27 28 29 30 31]\n",
      "  [32 33 34 35 36 37 38 39]\n",
      "  [40 41 42 43 44 45 46 47]]]\n",
      "Dimension: 3\n",
      "Shape: (2, 3, 8)\n"
     ]
    }
   ],
   "source": [
    "three_d=np.arange(48).reshape(2,3,8)\n",
    "print(three_d)\n",
    "print(\"Dimension:\",three_d.ndim)\n",
    "print(\"Shape:\",np.shape(three_d))"
   ]
  },
  {
   "cell_type": "markdown",
   "id": "38b86e7a-e782-40e4-a20f-1abec1939293",
   "metadata": {},
   "source": [
    "# 2 . Create:\n",
    "- an array of zeros of shape (3,3)\n",
    "- an array of ones of shape (2,5)\n",
    "- an array filled with 7"
   ]
  },
  {
   "cell_type": "code",
   "execution_count": 27,
   "id": "05ed77b0-37ab-49d4-90b1-40e1999ef32c",
   "metadata": {},
   "outputs": [
    {
     "name": "stdout",
     "output_type": "stream",
     "text": [
      "[[0. 0. 0.]\n",
      " [0. 0. 0.]\n",
      " [0. 0. 0.]]\n"
     ]
    }
   ],
   "source": [
    "zeros=np.zeros((3,3))\n",
    "print(zeros)"
   ]
  },
  {
   "cell_type": "code",
   "execution_count": 28,
   "id": "4b976cb1-f1d1-4fae-83a3-34d78ab29290",
   "metadata": {},
   "outputs": [
    {
     "name": "stdout",
     "output_type": "stream",
     "text": [
      "[[1. 1.]\n",
      " [1. 1.]\n",
      " [1. 1.]\n",
      " [1. 1.]\n",
      " [1. 1.]]\n"
     ]
    }
   ],
   "source": [
    "ones=np.ones((5,2))\n",
    "print(ones)"
   ]
  },
  {
   "cell_type": "code",
   "execution_count": 29,
   "id": "d6719975-7503-4715-bfd8-2069e50f3d5a",
   "metadata": {},
   "outputs": [
    {
     "name": "stdout",
     "output_type": "stream",
     "text": [
      "[[7 7 7]\n",
      " [7 7 7]\n",
      " [7 7 7]]\n"
     ]
    }
   ],
   "source": [
    "full=np.full((3,3),7)\n",
    "print(full)"
   ]
  },
  {
   "cell_type": "markdown",
   "id": "04639f93-44ce-403a-b1de-2838cc34a99d",
   "metadata": {},
   "source": [
    "# 3 . Create an array of even numbers between 10 and 50 using arange.\n"
   ]
  },
  {
   "cell_type": "code",
   "execution_count": 30,
   "id": "59cdbbcb-7026-4bc3-9962-f0a8b4b25fa7",
   "metadata": {},
   "outputs": [
    {
     "name": "stdout",
     "output_type": "stream",
     "text": [
      "[10 12 14 16 18 20 22 24 26 28 30 32 34 36 38 40 42 44 46 48]\n"
     ]
    }
   ],
   "source": [
    "array=np.arange(10,50,2)\n",
    "print(array)"
   ]
  },
  {
   "cell_type": "markdown",
   "id": "5b901f8e-36b9-4b62-b6b3-63ef75d14c7a",
   "metadata": {},
   "source": [
    "# 4 . Create a 4×4 matrix from 0–15. Then , extract:\n",
    "- the first row\n",
    "- the last column\n",
    "- a 2×2 subarray from the center"
   ]
  },
  {
   "cell_type": "code",
   "execution_count": 43,
   "id": "2c22161b-25bf-48ef-972b-f4119102c9fe",
   "metadata": {},
   "outputs": [
    {
     "name": "stdout",
     "output_type": "stream",
     "text": [
      "[[ 0  1  2  3]\n",
      " [ 4  5  6  7]\n",
      " [ 8  9 10 11]\n",
      " [12 13 14 15]]\n",
      "[0 1 2 3]\n",
      "[ 3  7 11 15]\n",
      "[[ 5  6]\n",
      " [ 9 10]]\n"
     ]
    }
   ],
   "source": [
    "array=np.arange(0,16).reshape(4,4)\n",
    "print(array)\n",
    "print(array[0,:])\n",
    "print(array[:,-1])\n",
    "print(array[1:3,1:3])"
   ]
  },
  {
   "cell_type": "markdown",
   "id": "5202b580-7e96-4e51-86aa-6e2456a6d255",
   "metadata": {},
   "source": [
    "# 5 . Add a 1D array [1,2,3] to each row of a 3×3 matrix."
   ]
  },
  {
   "cell_type": "code",
   "execution_count": 45,
   "id": "f0da54f1-3c34-4923-ba8b-c4daad8939e8",
   "metadata": {},
   "outputs": [
    {
     "name": "stdout",
     "output_type": "stream",
     "text": [
      "[[0 1 2]\n",
      " [3 4 5]\n",
      " [6 7 8]]\n",
      "[1 2 3]\n",
      "[[ 1  3  5]\n",
      " [ 4  6  8]\n",
      " [ 7  9 11]]\n"
     ]
    }
   ],
   "source": [
    "array_1=np.arange(9).reshape(3,3)\n",
    "array_2=np.arange(1,4)\n",
    "print(array_1)\n",
    "print(array_2)\n",
    "print(array_1+array_2)"
   ]
  },
  {
   "cell_type": "markdown",
   "id": "74dc8b16-4594-4906-bed1-cd5c92348c98",
   "metadata": {},
   "source": [
    "# 6 . Given two arrays A and B, compute:\n",
    "- (A + B) / 2\n",
    "- A^2 + B^2\n"
   ]
  },
  {
   "cell_type": "code",
   "execution_count": 50,
   "id": "3b58ab0a-3061-49cc-87e8-e3d370be4e29",
   "metadata": {},
   "outputs": [
    {
     "name": "stdout",
     "output_type": "stream",
     "text": [
      "[ 5.  6.  7.  8.  9. 10. 11. 12. 13. 14.]\n",
      "[100 122 148 178 212 250 292 338 388 442]\n"
     ]
    }
   ],
   "source": [
    "a=np.arange(0,10)\n",
    "b=np.arange(10,20)\n",
    "print((a+b)/2)\n",
    "print(a**2+b**2)\n"
   ]
  },
  {
   "cell_type": "code",
   "execution_count": null,
   "id": "d9fe423c-05ea-4f0f-9cdc-a91042509ff0",
   "metadata": {},
   "outputs": [],
   "source": []
  }
 ],
 "metadata": {
  "kernelspec": {
   "display_name": "Python 3 (ipykernel)",
   "language": "python",
   "name": "python3"
  },
  "language_info": {
   "codemirror_mode": {
    "name": "ipython",
    "version": 3
   },
   "file_extension": ".py",
   "mimetype": "text/x-python",
   "name": "python",
   "nbconvert_exporter": "python",
   "pygments_lexer": "ipython3",
   "version": "3.11.13"
  },
  "widgets": {
   "application/vnd.jupyter.widget-state+json": {
    "state": {},
    "version_major": 2,
    "version_minor": 0
   }
  }
 },
 "nbformat": 4,
 "nbformat_minor": 5
}
