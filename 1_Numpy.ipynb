{
 "cells": [
  {
   "cell_type": "markdown",
   "id": "aa8f299c",
   "metadata": {},
   "source": [
    "# Install numpy "
   ]
  },
  {
   "cell_type": "code",
   "execution_count": 1,
   "id": "5fd4da3d",
   "metadata": {},
   "outputs": [
    {
     "name": "stdout",
     "output_type": "stream",
     "text": [
      "Collecting numpy\n",
      "  Using cached numpy-2.2.6-cp312-cp312-manylinux_2_17_x86_64.manylinux2014_x86_64.whl.metadata (62 kB)\n",
      "Using cached numpy-2.2.6-cp312-cp312-manylinux_2_17_x86_64.manylinux2014_x86_64.whl (16.5 MB)\n",
      "Installing collected packages: numpy\n",
      "Successfully installed numpy-2.2.6\n"
     ]
    }
   ],
   "source": [
    "!pip install numpy"
   ]
  },
  {
   "cell_type": "markdown",
   "id": "b3ad4f88",
   "metadata": {},
   "source": [
    "import numpy as np alias\n"
   ]
  },
  {
   "cell_type": "code",
   "execution_count": 4,
   "id": "a47ba2a0",
   "metadata": {},
   "outputs": [
    {
     "name": "stdout",
     "output_type": "stream",
     "text": [
      "[1 2 3 4 5]\n",
      "<class 'numpy.ndarray'>\n",
      "(5,)\n"
     ]
    }
   ],
   "source": [
    "import numpy as np\n",
    "arr1=np.array([1,2,3,4,5]) # create a 1d array\n",
    "print(arr1)\n",
    "print(type(arr1))\n",
    "print(arr1.shape)\n"
   ]
  },
  {
   "cell_type": "code",
   "execution_count": null,
   "id": "e5a7138f",
   "metadata": {},
   "outputs": [
    {
     "data": {
      "text/plain": [
       "array([[1],\n",
       "       [2],\n",
       "       [3],\n",
       "       [4],\n",
       "       [5]])"
      ]
     },
     "execution_count": 7,
     "metadata": {},
     "output_type": "execute_result"
    }
   ],
   "source": [
    "arr2=np.array([1,2,3,4,5])\n",
    "arr2.reshape(1,5) # 2d array here (1,5) mean 1r 5c\n",
    "arr2.reshape(5,1) # her 5r 1c\n"
   ]
  },
  {
   "cell_type": "code",
   "execution_count": null,
   "id": "1411808b",
   "metadata": {},
   "outputs": [
    {
     "name": "stdout",
     "output_type": "stream",
     "text": [
      "[[1 2 3 4 5]\n",
      " [1 2 3 4 5]]\n",
      "(2, 5)\n"
     ]
    }
   ],
   "source": [
    "arr2=np.array([[1,2,3,4,5],[1,2,3,4,5]]) # 2r 5c\n",
    "print(arr2)\n",
    "print(arr2.shape)"
   ]
  },
  {
   "cell_type": "code",
   "execution_count": null,
   "id": "fadac8e2",
   "metadata": {},
   "outputs": [
    {
     "name": "stdout",
     "output_type": "stream",
     "text": [
      "[0 2 4 6 8]\n",
      "[[0]\n",
      " [2]\n",
      " [4]\n",
      " [6]\n",
      " [8]]\n"
     ]
    }
   ],
   "source": [
    "print(np.arange(0,10,2)) # here 1st param is initializer,2nd param is limit  ,3rd param is i++ \n",
    "print(np.arange(0,10,2).reshape(5,1)) # reshape the array in 5r 1c"
   ]
  },
  {
   "cell_type": "code",
   "execution_count": null,
   "id": "d071a0b1",
   "metadata": {},
   "outputs": [
    {
     "data": {
      "text/plain": [
       "array([[1.],\n",
       "       [1.],\n",
       "       [1.]])"
      ]
     },
     "execution_count": 21,
     "metadata": {},
     "output_type": "execute_result"
    }
   ],
   "source": [
    "np.ones((3,1)) # array's all element will 1"
   ]
  },
  {
   "cell_type": "code",
   "execution_count": null,
   "id": "3dc0bd8a",
   "metadata": {},
   "outputs": [
    {
     "data": {
      "text/plain": [
       "array([[1., 0., 0.],\n",
       "       [0., 1., 0.],\n",
       "       [0., 0., 1.]])"
      ]
     },
     "execution_count": 23,
     "metadata": {},
     "output_type": "execute_result"
    }
   ],
   "source": [
    "np.eye(3) # identitcal array: main diagonal element will be 1, others will be zero "
   ]
  },
  {
   "cell_type": "code",
   "execution_count": null,
   "id": "d9d917ca",
   "metadata": {},
   "outputs": [
    {
     "name": "stdout",
     "output_type": "stream",
     "text": [
      "Array:\n",
      " [[1 2 3 4]\n",
      " [4 5 6 7]]\n",
      "Array dimension:\n",
      " (2, 4)\n",
      "Array size (total element):\n",
      " 8\n",
      "Data type:\n",
      " int64\n",
      "Element size of array:\n",
      " 8\n"
     ]
    }
   ],
   "source": [
    "arr=np.array([[1,2,3,4],[4,5,6,7]])\n",
    "print(\"Array:\\n\",arr)\n",
    "print(\"Array dimension:\\n\",arr.shape)\n",
    "print(\"Array size (total element):\\n\",arr.size)\n",
    "print(\"Data type:\\n\",arr.dtype)\n",
    "print(\"Element size of array:\\n\",arr.itemsize) # it depends of system bit like as win32,win64"
   ]
  },
  {
   "cell_type": "markdown",
   "id": "3f31d602",
   "metadata": {},
   "source": [
    "# Vectorized operation using numpy"
   ]
  },
  {
   "cell_type": "code",
   "execution_count": null,
   "id": "0e8960c9",
   "metadata": {},
   "outputs": [
    {
     "name": "stdout",
     "output_type": "stream",
     "text": [
      "Addition operation:\n",
      " [11 22 33 44 55]\n",
      "Substraction operation:\n",
      " [ -9 -18 -27 -36 -45]\n",
      "Multiplication operation:\n",
      " [ 10  40  90 160 250]\n",
      "Divide operation:\n",
      " [0.1 0.1 0.1 0.1 0.1]\n"
     ]
    }
   ],
   "source": [
    "arr1=np.array([1,2,3,4,5])\n",
    "arr2=np.array([10,20,30,40,50])\n",
    "\n",
    "# Elementwise \n",
    "print(\"Addition operation:\\n\",arr1+arr2)\n",
    "print(\"Substraction operation:\\n\",arr1-arr2)\n",
    "print(\"Multiplication operation:\\n\",arr1*arr2)\n",
    "print(\"Division operation:\\n\",arr1/arr2)"
   ]
  },
  {
   "cell_type": "markdown",
   "id": "0aa67481",
   "metadata": {},
   "source": [
    "# Mathematical operation using universal function"
   ]
  },
  {
   "cell_type": "code",
   "execution_count": 35,
   "id": "77829464",
   "metadata": {},
   "outputs": [
    {
     "name": "stdout",
     "output_type": "stream",
     "text": [
      "[1.         1.41421356 1.73205081 2.         2.23606798]\n",
      "[  2.71828183   7.3890561   20.08553692  54.59815003 148.4131591 ]\n",
      "[ 0.84147098  0.90929743  0.14112001 -0.7568025  -0.95892427]\n",
      "[0.         0.69314718 1.09861229 1.38629436 1.60943791]\n"
     ]
    }
   ],
   "source": [
    "arr=np.array([1,2,3,4,5])\n",
    "print(np.sqrt(arr)) # square root\n",
    "print(np.exp(arr)) # exponential\n",
    "print(np.sin(arr)) # sine \n",
    "print(np.log(arr)) # log"
   ]
  },
  {
   "cell_type": "markdown",
   "id": "d9b44e3b",
   "metadata": {},
   "source": [
    "# Array slicing and indexing operation"
   ]
  },
  {
   "cell_type": "code",
   "execution_count": null,
   "id": "46f2056c",
   "metadata": {},
   "outputs": [
    {
     "name": "stdout",
     "output_type": "stream",
     "text": [
      "[[ 1  2  3  4  5]\n",
      " [ 6  7  8  9 10]\n",
      " [11 12 13 14 15]]\n",
      "2\n",
      "6 7 8\n",
      "[[ 6  7  8  9 10]\n",
      " [11 12 13 14 15]]\n",
      "[[ 1]\n",
      " [ 6]\n",
      " [11]]\n",
      "[[ 4  5]\n",
      " [ 9 10]]\n",
      "[]\n"
     ]
    }
   ],
   "source": [
    "arr=np.array([[1,2,3,4,5],[6,7,8,9,10],[11,12,13,14,15]])\n",
    "print(arr)\n",
    "print(arr[0][1]) # 0r 1c element\n",
    "print(arr[1][0],arr[1][1],arr[1][2])\n",
    "print(arr[1:]) # full row \n",
    "print(arr[:,:1]) # full col\n",
    "print(arr[:2,3:]) # 4 5 9 10\n"
   ]
  },
  {
   "cell_type": "markdown",
   "id": "4ed84d55",
   "metadata": {},
   "source": [
    "- here print(arr[i:n,j:m]), i is initializer that means which row and n is the ending row where iteration finished.j is the initializer for column and m is the ending column where iteration finished."
   ]
  },
  {
   "cell_type": "code",
   "execution_count": null,
   "id": "66e41c45",
   "metadata": {},
   "outputs": [
    {
     "name": "stdout",
     "output_type": "stream",
     "text": [
      "[[6 7]]\n",
      "[[ 9 10]]\n"
     ]
    }
   ],
   "source": [
    "print(arr[1:2,:2]) # 6 7 9 10\n",
    "print(arr[1:2,3:]) "
   ]
  },
  {
   "cell_type": "markdown",
   "id": "63fff00d",
   "metadata": {},
   "source": [
    "# Modify array element\n"
   ]
  },
  {
   "cell_type": "code",
   "execution_count": 75,
   "id": "f14301b5",
   "metadata": {},
   "outputs": [
    {
     "name": "stdout",
     "output_type": "stream",
     "text": [
      "[[ 1  2  3  4  5]\n",
      " [ 3  3  3  9 10]\n",
      " [11 12 13 14 15]]\n"
     ]
    }
   ],
   "source": [
    "arr[1:2,:3]=3\n",
    "print(arr) # 1st r 0th to 2nd column element will replace with 0"
   ]
  },
  {
   "cell_type": "markdown",
   "id": "ddb3943a",
   "metadata": {},
   "source": [
    "# Statistical concept "
   ]
  },
  {
   "cell_type": "code",
   "execution_count": 82,
   "id": "6a9adb7f",
   "metadata": {},
   "outputs": [
    {
     "name": "stdout",
     "output_type": "stream",
     "text": [
      "Mean:  7.2\n",
      "Standard deviation:  4.763752022653292\n",
      "Median:  5.0\n",
      "Variance:  22.69333333333333\n",
      "Normalized array:\n",
      " [[-1.30149512 -1.09157655 -0.88165798 -0.67173942 -0.46182085]\n",
      " [-0.88165798 -0.88165798 -0.88165798  0.37785342  0.58777199]\n",
      " [ 0.79769056  1.00760912  1.21752769  1.42744626  1.63736483]]\n"
     ]
    }
   ],
   "source": [
    "print('Mean: ',np.mean(arr)) # arithmatic mean\n",
    "print('Standard deviation: ',np.std(arr)) # standard deviation\n",
    "print('Median: ',np.median(arr)) # median\n",
    "print('Variance: ',np.var(arr)) # variance\n",
    "print('Normalized array:\\n',(arr-np.mean(arr))/np.std(arr)) # normalized data/standard normal distribution"
   ]
  },
  {
   "cell_type": "markdown",
   "id": "040557f0",
   "metadata": {},
   "source": [
    "# Logical Operations"
   ]
  },
  {
   "cell_type": "code",
   "execution_count": 102,
   "id": "3c3c3ba2",
   "metadata": {},
   "outputs": [
    {
     "name": "stdout",
     "output_type": "stream",
     "text": [
      "Data between 50 to 100:  [52 54 56 58 60 62 64 66 68 70 72 74 76 78 80 82 84 86 88 90 92 94 96 98]\n",
      "Data:  [92 94 96 98]\n"
     ]
    }
   ],
   "source": [
    "data=np.array([np.arange(0,1000,2)])\n",
    "print('Data between 50 to 100: ',data[(data>50) & (data<100)])  # just use logical signs &,^\n",
    "print('Data: ',data[(data%2==0) & ((data<100) & (data>90))])"
   ]
  },
  {
   "cell_type": "markdown",
   "id": "bc75eb72",
   "metadata": {},
   "source": []
  }
 ],
 "metadata": {
  "kernelspec": {
   "display_name": ".venv",
   "language": "python",
   "name": "python3"
  },
  "language_info": {
   "codemirror_mode": {
    "name": "ipython",
    "version": 3
   },
   "file_extension": ".py",
   "mimetype": "text/x-python",
   "name": "python",
   "nbconvert_exporter": "python",
   "pygments_lexer": "ipython3",
   "version": "3.12.3"
  }
 },
 "nbformat": 4,
 "nbformat_minor": 5
}
