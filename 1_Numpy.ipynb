{
 "cells": [
  {
   "cell_type": "markdown",
   "id": "85b66d65",
   "metadata": {},
   "source": [
    "# Topic\n",
    "1) [zip()](#1-zip)\n",
    "2) [np.array()](#2-array)\n",
    "3) [np.arange()](#3-arange)\n",
    "4) [array slicing](#4-slicing)\n",
    "5) [time-comparison-list-vs-numpy-array](#5-time-comparison-list-vs-numpy-array)\n",
    "6) [2d array](#6-2d-array)\n",
    "7) [memory-comparison-numpy-vs-list](#7-memory-comparison-numpy-vs-list)\n",
    "8) [vectorization and list comprehension time complexity difference](#8-vectorization)\n",
    "10) [np.zeros()](#9-npzeros)\n",
    "11) [np.eye()](#10-npeye)\n",
    "12) [np.ones()](#11-npones)\n",
    "13) [np.full()](#12-npfull)\n",
    "14) [np.linspace()](#13-nplinspace)\n",
    "15) [arraay.ndim()](#14-arrayndim)\n",
    "16) [array.size()](#15-arraysize)\n",
    "17) [print-data-type-float-explicitly](#17-print-data-type-float-explicitly)\n",
    "18) [array.astype()](#18-arrayastype)\n",
    "19) [array.reshape()](#19-arrayreshape)\n",
    "20) [array.flatten()](#20-arrayflatten)\n",
    "21) [indexing & slicing-in-numpy](#21-indexing--slicing-for-numpy)\n",
    "22) [view vs copy in numpy](#22-view-vs-copy-in-numpy)\n",
    "23) [fancy-indexing](#23-fancy-indexing)\n",
    "24) [boolean-masking](#24-boolean-masking)\n",
    "25) [np.sum(array,axis=0) && np.sum(array,axis=0)](#25-npsumarrayaxis0--npsumarrayaxis0)\n",
    "26) [comma-separated-indexing](#26-comma-separated-indexing)\n",
    "27) [2d-dimensional-array-index-and-slicing](#27-2d-dimensional-array-index-and-slicing)\n",
    "28) [3d-dimensional-array-index-and-slicing](#28-3d-dimensional-array-index-and-slicing)\n",
    "29) [changing-data-along-an-axis](#29-changing-data-along-an-axis)\n",
    "30) [data-types-in-numpy](#30-data-types-in-numpy)\n",
    "31) [broadcasting](#31-broadcasting)\n",
    "32) [mean-std-normalized_data](#32-mean-std-normalized_data)\n",
    "33) [np.min(array)](#33-npminarray)\n",
    "34) [np.max(array)](#34-npmaxarray)\n",
    "35) [np.sum(array)](#35-npsumarray)\n",
    "36) [np.prod(array)](#36-npprodarray)\n",
    "37) [np.median(array)](#37-npmedianarray)\n",
    "38) [np.log(array)](#38-nplogarray)\n",
    "39) [np.percentile(array,n-th-percentile)](#39-nppercentilearrayn-th-percentile)\n",
    "40) [np.argmin(array)](#40-npargminarray)\n",
    "41) [np.argmax(array)](#41-npargmaxarray)\n",
    "42) [np.unique(array0](#42-npuniquearray)\n",
    "43) [np.corrcoef(array) --> for-correlation-coefficient](#43-npcorrcoefarray--for-correlation-coefficient)\n",
    "44) [np.cumsum(array) -->for-cumulative-sum](#44-npcumsumarray--for-cumulative-sum)\n",
    "45) [np.diff(array) -->for-differences-between-nth-element](#45-npdiffarray--for-differences-between-nth-element)\n",
    "46) [np.linspace(array) with explanation](#46-nplinspacearray)\n",
    "47) [np.log(array)](#47-nplogarray)\n",
    "48) [np.exp(array)](#48-npexparray)\n",
    "\n",
    "# Optional\n",
    "- [SMID, RISC-V, MISC-V](#-simd-single-instruction-multiple-dataset-instruction-sets)"
   ]
  },
  {
   "cell_type": "code",
   "execution_count": 3,
   "id": "b3350572",
   "metadata": {},
   "outputs": [],
   "source": [
    "import numpy as np"
   ]
  },
  {
   "cell_type": "code",
   "execution_count": 4,
   "id": "b3dfe846",
   "metadata": {},
   "outputs": [],
   "source": [
    "import time\n"
   ]
  },
  {
   "cell_type": "markdown",
   "id": "66884f0d",
   "metadata": {},
   "source": [
    "[Topic](#topic)\n",
    "# 1 zip"
   ]
  },
  {
   "cell_type": "code",
   "execution_count": 31,
   "id": "a6e9567a",
   "metadata": {},
   "outputs": [
    {
     "name": "stdout",
     "output_type": "stream",
     "text": [
      "0.11004948616027832\n",
      "2\n"
     ]
    }
   ],
   "source": [
    "t1=time.time()\n",
    "size=1_000_000\n",
    "list1=list(range(size))\n",
    "list2=list(range(size))\n",
    "list3=[x+y for x,y in zip(list1,list2)]\n",
    "print(time.time()-t1)\n",
    "print(list3[1])"
   ]
  },
  {
   "cell_type": "markdown",
   "id": "f130519d",
   "metadata": {},
   "source": [
    "[Topic](#topic)\n",
    "# 2) array()"
   ]
  },
  {
   "cell_type": "code",
   "execution_count": 32,
   "id": "8d0ee90c",
   "metadata": {},
   "outputs": [
    {
     "name": "stdout",
     "output_type": "stream",
     "text": [
      "0.009958505630493164\n",
      "0\n",
      "<class 'numpy.ndarray'>\n"
     ]
    }
   ],
   "source": [
    "t1=time.time()\n",
    "ar1=np.array(np.arange(0,size))\n",
    "ar2=np.array(np.arange(0,size))\n",
    "ar3=ar1+ar2\n",
    "print(time.time()-t1)\n",
    "print(ar1[0])\n",
    "print(type(ar1))"
   ]
  },
  {
   "cell_type": "markdown",
   "id": "757a023b",
   "metadata": {},
   "source": [
    "[Topic](#topic)\n",
    "# 3) arange()"
   ]
  },
  {
   "cell_type": "code",
   "execution_count": 52,
   "id": "6124a759",
   "metadata": {},
   "outputs": [
    {
     "name": "stdout",
     "output_type": "stream",
     "text": [
      "[1 2 3 4 5 6 7 8 9]\n",
      "<class 'numpy.ndarray'>\n",
      "[1 3 5 7 9]\n"
     ]
    }
   ],
   "source": [
    "ar1=np.arange(1,10)\n",
    "print(ar1)\n",
    "print(type(ar1))\n",
    "print(np.arange(1,10,2))"
   ]
  },
  {
   "cell_type": "markdown",
   "id": "bf13e432",
   "metadata": {},
   "source": [
    "[Topic](#topic)\n",
    "# 4) slicing "
   ]
  },
  {
   "cell_type": "code",
   "execution_count": 23,
   "id": "4603a589",
   "metadata": {},
   "outputs": [
    {
     "name": "stdout",
     "output_type": "stream",
     "text": [
      "[0, 2, 4, 6, 8, 10, 12, 14, 16, 18]\n"
     ]
    }
   ],
   "source": [
    "print(list3[0:10])"
   ]
  },
  {
   "cell_type": "markdown",
   "id": "b1b772b7",
   "metadata": {},
   "source": [
    "[Topic](#topic)\n",
    "# 5) time comparison list vs numpy array"
   ]
  },
  {
   "cell_type": "code",
   "execution_count": 36,
   "id": "142fb11f",
   "metadata": {},
   "outputs": [
    {
     "name": "stdout",
     "output_type": "stream",
     "text": [
      "0.14596867561340332\n",
      "0.007377147674560547\n"
     ]
    }
   ],
   "source": [
    "size=1_000_000\n",
    "t1=time.time()\n",
    "list1=list(range(size))\n",
    "list2=list(range(size))\n",
    "list3=[x+y for x,y in zip(list1,list2)]\n",
    "t2=time.time()\n",
    "print(t2-t1)\n",
    "\n",
    "t3=time.time()\n",
    "array1=np.array(np.arange(size))\n",
    "array2=np.array(np.arange(size))\n",
    "array3=array1+array2\n",
    "t4=time.time()\n",
    "print(t4-t3)"
   ]
  },
  {
   "cell_type": "markdown",
   "id": "7d41be3d",
   "metadata": {},
   "source": [
    "[Topic](#topic)\n",
    "# 7) Memory comparison numpy vs list"
   ]
  },
  {
   "cell_type": "code",
   "execution_count": 41,
   "id": "96e05dcb",
   "metadata": {},
   "outputs": [
    {
     "name": "stdout",
     "output_type": "stream",
     "text": [
      "8250710937.5  megabyte\n",
      "7812.5  megabyte\n"
     ]
    }
   ],
   "source": [
    "import sys\n",
    "print((sys.getsizeof(list3)*len(list3))/1024, \" megabyte\")\n",
    "print(array3.nbytes/1024,\" megabyte\")"
   ]
  },
  {
   "cell_type": "markdown",
   "id": "80c4d797",
   "metadata": {},
   "source": [
    "[Topic](#topic)\n",
    "# 6) 2d array"
   ]
  },
  {
   "cell_type": "code",
   "execution_count": 38,
   "id": "0ecb88ae",
   "metadata": {},
   "outputs": [
    {
     "name": "stdout",
     "output_type": "stream",
     "text": [
      "[[1 2 3 4]\n",
      " [5 6 7 8]]\n"
     ]
    }
   ],
   "source": [
    "array_2d=np.array([[1,2,3,4],[5,6,7,8]])\n",
    "print(array_2d)"
   ]
  },
  {
   "cell_type": "markdown",
   "id": "1d7e3176",
   "metadata": {},
   "source": [
    "[Topic](#topic)\n",
    "# 8) vectorization"
   ]
  },
  {
   "cell_type": "code",
   "execution_count": 43,
   "id": "84b14339",
   "metadata": {},
   "outputs": [
    {
     "name": "stdout",
     "output_type": "stream",
     "text": [
      "0.06417346000671387\n",
      "0.0013196468353271484\n"
     ]
    }
   ],
   "source": [
    "t1=time.time()\n",
    "list4=[x*2 for x in list1]\n",
    "t2=time.time()\n",
    "print(time.time()-t1)\n",
    "t2=time.time()\n",
    "array4=array1*2 # vectorization\n",
    "print(time.time()-t2)"
   ]
  },
  {
   "cell_type": "markdown",
   "id": "5bb2d87d",
   "metadata": {},
   "source": [
    "[Topic](#topic)\n",
    "# 9) np.zeros()"
   ]
  },
  {
   "cell_type": "code",
   "execution_count": 44,
   "id": "04c28d3d",
   "metadata": {},
   "outputs": [
    {
     "data": {
      "text/plain": [
       "array([[0., 0., 0.],\n",
       "       [0., 0., 0.],\n",
       "       [0., 0., 0.]])"
      ]
     },
     "execution_count": 44,
     "metadata": {},
     "output_type": "execute_result"
    }
   ],
   "source": [
    "arr0=np.zeros((3,3))\n",
    "arr0"
   ]
  },
  {
   "cell_type": "markdown",
   "id": "2b57c645",
   "metadata": {},
   "source": [
    "[Topic](#topic)\n",
    "# 10) np.eye()"
   ]
  },
  {
   "cell_type": "code",
   "execution_count": 45,
   "id": "efe13826",
   "metadata": {},
   "outputs": [
    {
     "name": "stdout",
     "output_type": "stream",
     "text": [
      "[[1. 0. 0.]\n",
      " [0. 1. 0.]\n",
      " [0. 0. 1.]]\n"
     ]
    }
   ],
   "source": [
    "print(np.eye(3,3))"
   ]
  },
  {
   "cell_type": "markdown",
   "id": "af18a8ef",
   "metadata": {},
   "source": [
    "[Topic](#topic)\n",
    "# 11) np.ones()"
   ]
  },
  {
   "cell_type": "code",
   "execution_count": 47,
   "id": "b9db201a",
   "metadata": {},
   "outputs": [
    {
     "name": "stdout",
     "output_type": "stream",
     "text": [
      "[[1. 1. 1.]\n",
      " [1. 1. 1.]\n",
      " [1. 1. 1.]]\n"
     ]
    }
   ],
   "source": [
    "print(np.ones((3,3)))"
   ]
  },
  {
   "cell_type": "markdown",
   "id": "1a061886",
   "metadata": {},
   "source": [
    "[Topic](#topic)\n",
    "# 12) np.full()"
   ]
  },
  {
   "cell_type": "code",
   "execution_count": 51,
   "id": "2894435a",
   "metadata": {},
   "outputs": [
    {
     "name": "stdout",
     "output_type": "stream",
     "text": [
      "[[7 7 7]\n",
      " [7 7 7]\n",
      " [7 7 7]]\n"
     ]
    }
   ],
   "source": [
    "print(np.full((3,3),7))"
   ]
  },
  {
   "cell_type": "markdown",
   "id": "92d6fa80",
   "metadata": {},
   "source": [
    "[Topic](#topic)\n",
    "# 13) np.linspace()"
   ]
  },
  {
   "cell_type": "code",
   "execution_count": 53,
   "id": "cac7349f",
   "metadata": {},
   "outputs": [
    {
     "name": "stdout",
     "output_type": "stream",
     "text": [
      "[  1.    25.75  50.5   75.25 100.  ]\n"
     ]
    }
   ],
   "source": [
    "print(np.linspace(1,100,5))"
   ]
  },
  {
   "cell_type": "markdown",
   "id": "ddf18d0d",
   "metadata": {},
   "source": [
    "[Topic](#topic)\n",
    "# 14) array.ndim"
   ]
  },
  {
   "cell_type": "code",
   "execution_count": 57,
   "id": "1d4a13c7",
   "metadata": {},
   "outputs": [
    {
     "name": "stdout",
     "output_type": "stream",
     "text": [
      "2\n"
     ]
    }
   ],
   "source": [
    "ar1=np.array([[1,2,3,4],[4,5,6,7]])\n",
    "print(ar1.ndim)"
   ]
  },
  {
   "cell_type": "markdown",
   "id": "ae69fd92",
   "metadata": {},
   "source": [
    "[Topic](#topic)\n",
    "# 15) array.size"
   ]
  },
  {
   "cell_type": "code",
   "execution_count": 58,
   "id": "80490ead",
   "metadata": {},
   "outputs": [
    {
     "name": "stdout",
     "output_type": "stream",
     "text": [
      "8\n"
     ]
    }
   ],
   "source": [
    "print(ar1.size)"
   ]
  },
  {
   "cell_type": "markdown",
   "id": "44e0e287",
   "metadata": {},
   "source": [
    "[Topic](#topic)\n",
    "# 16) array.dtype"
   ]
  },
  {
   "cell_type": "code",
   "execution_count": 59,
   "id": "4b5620c6",
   "metadata": {},
   "outputs": [
    {
     "name": "stdout",
     "output_type": "stream",
     "text": [
      "int64\n"
     ]
    }
   ],
   "source": [
    "print(ar1.dtype)"
   ]
  },
  {
   "cell_type": "markdown",
   "id": "d43cf997",
   "metadata": {},
   "source": [
    "[Topic](#topic)\n",
    "# 17) print data type float explicitly"
   ]
  },
  {
   "cell_type": "code",
   "execution_count": 60,
   "id": "657bd5dc",
   "metadata": {},
   "outputs": [
    {
     "name": "stdout",
     "output_type": "stream",
     "text": [
      "[1. 2. 3. 4.]\n"
     ]
    }
   ],
   "source": [
    "print(np.array([1,2,3,4],dtype=\"float32\"))"
   ]
  },
  {
   "cell_type": "markdown",
   "id": "6393ac56",
   "metadata": {},
   "source": [
    "[Topic](#topic)\n",
    "# 18) array.astype()"
   ]
  },
  {
   "cell_type": "code",
   "execution_count": 61,
   "id": "69468419",
   "metadata": {},
   "outputs": [
    {
     "name": "stdout",
     "output_type": "stream",
     "text": [
      "[[1. 2. 3. 4.]\n",
      " [4. 5. 6. 7.]]\n"
     ]
    }
   ],
   "source": [
    "print(ar1.astype(\"float\"))"
   ]
  },
  {
   "cell_type": "markdown",
   "id": "39128d28",
   "metadata": {},
   "source": [
    "[Topic](#topic)\n",
    "# 19) array.reshape()"
   ]
  },
  {
   "cell_type": "code",
   "execution_count": 64,
   "id": "f0f46c04",
   "metadata": {},
   "outputs": [
    {
     "name": "stdout",
     "output_type": "stream",
     "text": [
      "[[1 2 3 4]\n",
      " [4 5 6 7]]\n",
      "[[1 2]\n",
      " [3 4]\n",
      " [4 5]\n",
      " [6 7]]\n"
     ]
    }
   ],
   "source": [
    "print(ar1.reshape(2,4))\n",
    "print(ar1.reshape(4,2))"
   ]
  },
  {
   "cell_type": "markdown",
   "id": "d815cd7a",
   "metadata": {},
   "source": [
    "[Topic](#topic)\n",
    "# 20) array.flatten()"
   ]
  },
  {
   "cell_type": "code",
   "execution_count": 68,
   "id": "c4baf88e",
   "metadata": {},
   "outputs": [
    {
     "name": "stdout",
     "output_type": "stream",
     "text": [
      "[1 2 3 4 5 6 7 8]\n"
     ]
    }
   ],
   "source": [
    "print(np.array([[1,2,3,4],[5,6,7,8]]).flatten())"
   ]
  },
  {
   "cell_type": "markdown",
   "id": "1c365deb",
   "metadata": {},
   "source": [
    "[Topic](#topic)\n",
    "# 21) indexing & slicing for numpy"
   ]
  },
  {
   "cell_type": "code",
   "execution_count": 75,
   "id": "9cb7450a",
   "metadata": {},
   "outputs": [
    {
     "name": "stdout",
     "output_type": "stream",
     "text": [
      "[1 2 3 4 4 5 6 7]\n"
     ]
    }
   ],
   "source": [
    "\n",
    "flat=ar1.flatten()\n",
    "print(flat)\n"
   ]
  },
  {
   "cell_type": "code",
   "execution_count": 76,
   "id": "faac7279",
   "metadata": {},
   "outputs": [
    {
     "data": {
      "text/plain": [
       "array([1, 2, 3, 4, 4, 5, 6, 7])"
      ]
     },
     "execution_count": 76,
     "metadata": {},
     "output_type": "execute_result"
    }
   ],
   "source": [
    "flat[0:]"
   ]
  },
  {
   "cell_type": "code",
   "execution_count": 77,
   "id": "96899b3f",
   "metadata": {},
   "outputs": [
    {
     "data": {
      "text/plain": [
       "array([1, 2])"
      ]
     },
     "execution_count": 77,
     "metadata": {},
     "output_type": "execute_result"
    }
   ],
   "source": [
    "flat[0:2]"
   ]
  },
  {
   "cell_type": "code",
   "execution_count": 78,
   "id": "df6b9473",
   "metadata": {},
   "outputs": [
    {
     "data": {
      "text/plain": [
       "array([1, 2, 3])"
      ]
     },
     "execution_count": 78,
     "metadata": {},
     "output_type": "execute_result"
    }
   ],
   "source": [
    "flat[:3]"
   ]
  },
  {
   "cell_type": "code",
   "execution_count": 79,
   "id": "d49f5640",
   "metadata": {},
   "outputs": [
    {
     "data": {
      "text/plain": [
       "array([1, 2, 3, 4, 4])"
      ]
     },
     "execution_count": 79,
     "metadata": {},
     "output_type": "execute_result"
    }
   ],
   "source": [
    "flat[0:5:1]"
   ]
  },
  {
   "cell_type": "markdown",
   "id": "122a6354",
   "metadata": {},
   "source": [
    "[Topic](#topic)\n",
    "# 22) view vs copy in numpy"
   ]
  },
  {
   "cell_type": "code",
   "execution_count": 81,
   "id": "99fea735",
   "metadata": {},
   "outputs": [
    {
     "data": {
      "text/plain": [
       "array([1, 2, 3, 4, 4, 5, 6, 7])"
      ]
     },
     "execution_count": 81,
     "metadata": {},
     "output_type": "execute_result"
    }
   ],
   "source": [
    "flat=ar1.flatten()\n",
    "flat\n"
   ]
  },
  {
   "cell_type": "code",
   "execution_count": 82,
   "id": "02137ee1",
   "metadata": {},
   "outputs": [
    {
     "data": {
      "text/plain": [
       "array([1, 2, 3])"
      ]
     },
     "execution_count": 82,
     "metadata": {},
     "output_type": "execute_result"
    }
   ],
   "source": [
    "b=flat[0:3]\n",
    "b"
   ]
  },
  {
   "cell_type": "code",
   "execution_count": 83,
   "id": "d6bba2bf",
   "metadata": {},
   "outputs": [],
   "source": [
    "b[0]=1000"
   ]
  },
  {
   "cell_type": "code",
   "execution_count": 89,
   "id": "2c6bcda6",
   "metadata": {},
   "outputs": [
    {
     "data": {
      "text/plain": [
       "array([1000,    2,    3,    4,    4,    5,    6,    7])"
      ]
     },
     "execution_count": 89,
     "metadata": {},
     "output_type": "execute_result"
    }
   ],
   "source": [
    "flat # slicing returns the view of a array not copy because in numpy slicing uses same memory address. for solving this issue use b=flat[0:3].copy() "
   ]
  },
  {
   "cell_type": "code",
   "execution_count": 90,
   "id": "eabe91f9",
   "metadata": {},
   "outputs": [
    {
     "data": {
      "text/plain": [
       "array([1000,    2,    3,    4,    4,    5,    6,    7])"
      ]
     },
     "execution_count": 90,
     "metadata": {},
     "output_type": "execute_result"
    }
   ],
   "source": [
    "b=flat[0:3].copy() # for solve\n",
    "b[0]=0\n",
    "flat"
   ]
  },
  {
   "cell_type": "code",
   "execution_count": 91,
   "id": "ae7f27b9",
   "metadata": {},
   "outputs": [
    {
     "data": {
      "text/plain": [
       "array([0, 2, 3])"
      ]
     },
     "execution_count": 91,
     "metadata": {},
     "output_type": "execute_result"
    }
   ],
   "source": [
    "b"
   ]
  },
  {
   "cell_type": "markdown",
   "id": "ec5cc094",
   "metadata": {},
   "source": [
    "[Topic](#topic)\n",
    "# 23) fancy indexing"
   ]
  },
  {
   "cell_type": "code",
   "execution_count": 96,
   "id": "4d05775f",
   "metadata": {},
   "outputs": [
    {
     "name": "stdout",
     "output_type": "stream",
     "text": [
      "[2 3 4]\n"
     ]
    }
   ],
   "source": [
    "print(flat[[1,2,3]]) # arrray[index1,index2,index3]"
   ]
  },
  {
   "cell_type": "markdown",
   "id": "96fc542b",
   "metadata": {},
   "source": [
    "[Topic](#topic)\n",
    "# 24) boolean masking"
   ]
  },
  {
   "cell_type": "code",
   "execution_count": 100,
   "id": "635b6c8b",
   "metadata": {},
   "outputs": [
    {
     "name": "stdout",
     "output_type": "stream",
     "text": [
      "[1000]\n"
     ]
    }
   ],
   "source": [
    "print(flat[flat>100]) # array[array>condition]"
   ]
  },
  {
   "cell_type": "markdown",
   "id": "13c4cbb0",
   "metadata": {},
   "source": [
    "[Topic](#topic)\n",
    "# 25) np.sum(array,axis=0) && np.sum(array,axis=0)"
   ]
  },
  {
   "cell_type": "code",
   "execution_count": 105,
   "id": "b209d315",
   "metadata": {},
   "outputs": [
    {
     "name": "stdout",
     "output_type": "stream",
     "text": [
      "[[0 1 2 3 4 5 6 7 8 9]\n",
      " [0 1 2 3 4 5 6 7 8 9]]\n",
      "Sum of rows:  [45 45]\n",
      "Sum of columns:  [ 0  2  4  6  8 10 12 14 16 18]\n"
     ]
    }
   ],
   "source": [
    "arr=np.array([np.arange(10),np.arange(10)])\n",
    "print(arr)\n",
    "print(\"Sum of rows: \",np.sum(arr,axis=1))\n",
    "print(\"Sum of columns: \",np.sum(arr,axis=0))"
   ]
  },
  {
   "cell_type": "markdown",
   "id": "d55864d9",
   "metadata": {},
   "source": [
    "[Topic](#topic)\n",
    "# 26) comma separated indexing"
   ]
  },
  {
   "cell_type": "code",
   "execution_count": null,
   "id": "3b9e387c",
   "metadata": {},
   "outputs": [
    {
     "name": "stdout",
     "output_type": "stream",
     "text": [
      "0\n",
      "[1 1]\n",
      "[5 6]\n"
     ]
    }
   ],
   "source": [
    "print(arr[0,0])\n",
    "print(arr[0:2,1])\n",
    "print(arr[1,5:7]) \n",
    "# find "
   ]
  },
  {
   "cell_type": "markdown",
   "id": "dc9380e5",
   "metadata": {},
   "source": [
    "[Topic](#topic)\n",
    "# 27) 2d Dimensional Array Index And Slicing"
   ]
  },
  {
   "cell_type": "code",
   "execution_count": 8,
   "id": "0ada1e98",
   "metadata": {},
   "outputs": [
    {
     "name": "stdout",
     "output_type": "stream",
     "text": [
      "[15 40 65]\n",
      "[18 21 24 27 30]\n"
     ]
    }
   ],
   "source": [
    "arr=np.array([[1,2,3,4,5],[6,7,8,9,10],[11,12,13,14,15]])\n",
    "# sum of every rows\n",
    "print(np.sum(arr,axis=1))\n",
    "# sum of every column\n",
    "print(np.sum(arr,axis=0))"
   ]
  },
  {
   "cell_type": "code",
   "execution_count": 10,
   "id": "df688c6c",
   "metadata": {},
   "outputs": [
    {
     "data": {
      "text/plain": [
       "np.int64(2)"
      ]
     },
     "execution_count": 10,
     "metadata": {},
     "output_type": "execute_result"
    }
   ],
   "source": [
    "arr[0,1] # index"
   ]
  },
  {
   "cell_type": "code",
   "execution_count": 13,
   "id": "36512105",
   "metadata": {},
   "outputs": [
    {
     "data": {
      "text/plain": [
       "array([[ 4,  5],\n",
       "       [ 9, 10]])"
      ]
     },
     "execution_count": 13,
     "metadata": {},
     "output_type": "execute_result"
    }
   ],
   "source": [
    "# print [4,5],[9,10]\n",
    "arr[0:2,3:5]"
   ]
  },
  {
   "cell_type": "markdown",
   "id": "b023cb18",
   "metadata": {},
   "source": [
    "[Topic](#topic)\n",
    "# 28) 3d Dimensional Array Index And Slicing"
   ]
  },
  {
   "cell_type": "code",
   "execution_count": 20,
   "id": "8243f5e9",
   "metadata": {},
   "outputs": [
    {
     "data": {
      "text/plain": [
       "(2, 2, 3)"
      ]
     },
     "execution_count": 20,
     "metadata": {},
     "output_type": "execute_result"
    }
   ],
   "source": [
    "arr=np.array([[[1,2,3],[4,5,6]],[[7,8,9],[10,11,12]]]) # 3d array= array[depth][row][column] . depth means the index number of 2d arrays.\n",
    "arr.shape"
   ]
  },
  {
   "cell_type": "code",
   "execution_count": 21,
   "id": "27d932aa",
   "metadata": {},
   "outputs": [
    {
     "data": {
      "text/plain": [
       "array([[1, 2, 3],\n",
       "       [4, 5, 6]])"
      ]
     },
     "execution_count": 21,
     "metadata": {},
     "output_type": "execute_result"
    }
   ],
   "source": [
    "# print [1,2,3],[4,5,6]\n",
    "arr[0,0:2,:]"
   ]
  },
  {
   "cell_type": "code",
   "execution_count": 22,
   "id": "13a1ac09",
   "metadata": {},
   "outputs": [
    {
     "data": {
      "text/plain": [
       "array([[2, 3],\n",
       "       [5, 6]])"
      ]
     },
     "execution_count": 22,
     "metadata": {},
     "output_type": "execute_result"
    }
   ],
   "source": [
    "# print [2,3],[5,6]\n",
    "\n",
    "arr[0,0:2,1:]"
   ]
  },
  {
   "cell_type": "code",
   "execution_count": 26,
   "id": "25ec105f",
   "metadata": {},
   "outputs": [
    {
     "data": {
      "text/plain": [
       "array([[1],\n",
       "       [7]])"
      ]
     },
     "execution_count": 26,
     "metadata": {},
     "output_type": "execute_result"
    }
   ],
   "source": [
    "# print [1,7]\n",
    "arr[:,0,0:1]"
   ]
  },
  {
   "cell_type": "markdown",
   "id": "538827c2",
   "metadata": {},
   "source": [
    "[Topic](#topic)\n",
    "# 29) Changing Data Along an Axis"
   ]
  },
  {
   "cell_type": "code",
   "execution_count": 27,
   "id": "21e71720",
   "metadata": {},
   "outputs": [],
   "source": [
    "arr[0,0,0]=0"
   ]
  },
  {
   "cell_type": "code",
   "execution_count": 28,
   "id": "9bab3209",
   "metadata": {},
   "outputs": [
    {
     "data": {
      "text/plain": [
       "np.int64(0)"
      ]
     },
     "execution_count": 28,
     "metadata": {},
     "output_type": "execute_result"
    }
   ],
   "source": [
    "arr[0,0,0]"
   ]
  },
  {
   "cell_type": "markdown",
   "id": "45308ab9",
   "metadata": {},
   "source": [
    "[Topic](#topic)\n",
    "# 30) Data Types In Numpy"
   ]
  },
  {
   "cell_type": "markdown",
   "id": "af73ffc5",
   "metadata": {},
   "source": [
    "### Common Data Types in NumPy:\n",
    "- int32, int64: Integer types with different bit sizes.\n",
    "- float32, float64: Floating-point types with different precision.\n",
    "- bool: Boolean data type.\n",
    "- complex64, complex128: Complex number types.\n",
    "- object: For storing objects (e.g., Python objects, strings).\n"
   ]
  },
  {
   "cell_type": "code",
   "execution_count": 29,
   "id": "e356dfdb",
   "metadata": {},
   "outputs": [],
   "source": [
    "arr=np.array(np.arange(0,10))"
   ]
  },
  {
   "cell_type": "code",
   "execution_count": 31,
   "id": "bced7609",
   "metadata": {},
   "outputs": [
    {
     "data": {
      "text/plain": [
       "array([0., 1., 2., 3., 4., 5., 6., 7., 8., 9.], dtype=float32)"
      ]
     },
     "execution_count": 31,
     "metadata": {},
     "output_type": "execute_result"
    }
   ],
   "source": [
    "arr.astype(\"float32\")"
   ]
  },
  {
   "cell_type": "code",
   "execution_count": 32,
   "id": "7f8b363f",
   "metadata": {},
   "outputs": [
    {
     "data": {
      "text/plain": [
       "array([0, 1, 2, 3, 4, 5, 6, 7, 8, 9])"
      ]
     },
     "execution_count": 32,
     "metadata": {},
     "output_type": "execute_result"
    }
   ],
   "source": [
    "arr"
   ]
  },
  {
   "cell_type": "code",
   "execution_count": 33,
   "id": "e49f560f",
   "metadata": {},
   "outputs": [],
   "source": [
    "arr=np.array(np.arange(0,10),dtype=\"float32\")"
   ]
  },
  {
   "cell_type": "code",
   "execution_count": 34,
   "id": "b4808354",
   "metadata": {},
   "outputs": [
    {
     "data": {
      "text/plain": [
       "array([0., 1., 2., 3., 4., 5., 6., 7., 8., 9.], dtype=float32)"
      ]
     },
     "execution_count": 34,
     "metadata": {},
     "output_type": "execute_result"
    }
   ],
   "source": [
    "arr"
   ]
  },
  {
   "cell_type": "code",
   "execution_count": 35,
   "id": "40d41152",
   "metadata": {},
   "outputs": [
    {
     "data": {
      "text/plain": [
       "array([0., 1., 2., 3., 4., 5., 6., 7., 8., 9.])"
      ]
     },
     "execution_count": 35,
     "metadata": {},
     "output_type": "execute_result"
    }
   ],
   "source": [
    "arr.astype(\"float64\")"
   ]
  },
  {
   "cell_type": "code",
   "execution_count": 37,
   "id": "d29bfb81",
   "metadata": {},
   "outputs": [],
   "source": [
    "arr1=np.array(np.arange(0,10),dtype=\"int64\")\n",
    "arr2=np.array(np.arange(0,10),dtype=\"int32\")\n",
    "arr3=np.array(np.arange(0,10),dtype=\"float32\")\n",
    "arr4=np.array(np.arange(0,10),dtype=\"float64\")\n"
   ]
  },
  {
   "cell_type": "code",
   "execution_count": 38,
   "id": "5bfb5277",
   "metadata": {},
   "outputs": [
    {
     "data": {
      "text/plain": [
       "80"
      ]
     },
     "execution_count": 38,
     "metadata": {},
     "output_type": "execute_result"
    }
   ],
   "source": [
    "arr1.nbytes\n"
   ]
  },
  {
   "cell_type": "code",
   "execution_count": 39,
   "id": "8de3be67",
   "metadata": {},
   "outputs": [
    {
     "data": {
      "text/plain": [
       "40"
      ]
     },
     "execution_count": 39,
     "metadata": {},
     "output_type": "execute_result"
    }
   ],
   "source": [
    "arr2.nbytes\n"
   ]
  },
  {
   "cell_type": "code",
   "execution_count": 40,
   "id": "0735b288",
   "metadata": {},
   "outputs": [
    {
     "data": {
      "text/plain": [
       "40"
      ]
     },
     "execution_count": 40,
     "metadata": {},
     "output_type": "execute_result"
    }
   ],
   "source": [
    "arr3.nbytes\n"
   ]
  },
  {
   "cell_type": "code",
   "execution_count": 41,
   "id": "5413b59d",
   "metadata": {},
   "outputs": [
    {
     "data": {
      "text/plain": [
       "80"
      ]
     },
     "execution_count": 41,
     "metadata": {},
     "output_type": "execute_result"
    }
   ],
   "source": [
    "arr4.nbytes"
   ]
  },
  {
   "cell_type": "code",
   "execution_count": 42,
   "id": "dd08239e",
   "metadata": {},
   "outputs": [],
   "source": [
    "arr5=np.array([\"apple\",\"banana\",\"fish\",\"eagle\"])\n",
    "arr6=np.array([\"apple\",\"banana\",\"fish\",\"eagle\"],dtype=\"U10\")"
   ]
  },
  {
   "cell_type": "code",
   "execution_count": 43,
   "id": "4288fe8b",
   "metadata": {},
   "outputs": [
    {
     "data": {
      "text/plain": [
       "96"
      ]
     },
     "execution_count": 43,
     "metadata": {},
     "output_type": "execute_result"
    }
   ],
   "source": [
    "arr5.nbytes"
   ]
  },
  {
   "cell_type": "code",
   "execution_count": 44,
   "id": "5154b946",
   "metadata": {},
   "outputs": [
    {
     "data": {
      "text/plain": [
       "160"
      ]
     },
     "execution_count": 44,
     "metadata": {},
     "output_type": "execute_result"
    }
   ],
   "source": [
    "arr6.nbytes"
   ]
  },
  {
   "cell_type": "code",
   "execution_count": 46,
   "id": "f96e2088",
   "metadata": {},
   "outputs": [],
   "source": [
    "arr7=np.array([1+2j,1-2j,1+3j],dtype=\"complex64\")\n",
    "arr8=np.array([1+2j,1-2j,1+3j],dtype=\"complex128\")"
   ]
  },
  {
   "cell_type": "code",
   "execution_count": 47,
   "id": "9cc49763",
   "metadata": {},
   "outputs": [
    {
     "data": {
      "text/plain": [
       "24"
      ]
     },
     "execution_count": 47,
     "metadata": {},
     "output_type": "execute_result"
    }
   ],
   "source": [
    "arr7.nbytes"
   ]
  },
  {
   "cell_type": "code",
   "execution_count": 48,
   "id": "121b1c40",
   "metadata": {},
   "outputs": [
    {
     "data": {
      "text/plain": [
       "48"
      ]
     },
     "execution_count": 48,
     "metadata": {},
     "output_type": "execute_result"
    }
   ],
   "source": [
    "arr8.nbytes"
   ]
  },
  {
   "cell_type": "code",
   "execution_count": 49,
   "id": "89da2ec6",
   "metadata": {},
   "outputs": [],
   "source": [
    "arr9=np.array([{\"Hello\":\"1\"},\"Banana\",13],dtype=\"object\")"
   ]
  },
  {
   "cell_type": "code",
   "execution_count": 50,
   "id": "8713fe02",
   "metadata": {},
   "outputs": [
    {
     "data": {
      "text/plain": [
       "24"
      ]
     },
     "execution_count": 50,
     "metadata": {},
     "output_type": "execute_result"
    }
   ],
   "source": [
    "arr9.nbytes"
   ]
  },
  {
   "cell_type": "markdown",
   "id": "4c9fc375",
   "metadata": {},
   "source": [
    "[Topic](#topic)\n",
    "# 31) Broadcasting"
   ]
  },
  {
   "cell_type": "markdown",
   "id": "a501932f",
   "metadata": {},
   "source": [
    "### Broadcasting use no extra memory. Works based on SIMD CPU Optimization.\n",
    "##### 🔧 SIMD (Single Instruction Multiple Dataset) Instruction Sets\n",
    "| Vendor | Instruction Set   | Vector Width |\n",
    "| ------ | ----------------- | ------------ |\n",
    "| Intel CISC (Complex Instruction Set Computer)  | SSE (128-bit)     | 4 floats     |\n",
    "| Intel CISC (Complex Instruction Set Computer) | AVX (256-bit)     | 8 floats     |\n",
    "| Intel CISC (Complex Instruction Set Computer) | AVX-512 (512-bit) | 16 floats    |\n",
    "| ARM   CISC (Complex Instruction Set Computer) | NEON (128-bit)    | 4 floats     |\n",
    "| RISC-V (Reduced Instruction Set Computer) | V extension       | Flexible     |\n"
   ]
  },
  {
   "cell_type": "code",
   "execution_count": 54,
   "id": "e35fbacb",
   "metadata": {},
   "outputs": [
    {
     "data": {
      "text/plain": [
       "array([ 0,  2,  4,  6,  8, 10, 12, 14, 16, 18])"
      ]
     },
     "execution_count": 54,
     "metadata": {},
     "output_type": "execute_result"
    }
   ],
   "source": [
    "arr10=np.array(np.arange(0,10))\n",
    "arr11=np.array(np.arange(0,10))\n",
    "arr12=arr10+arr11\n",
    "arr12"
   ]
  },
  {
   "cell_type": "code",
   "execution_count": 55,
   "id": "4d3a6243",
   "metadata": {},
   "outputs": [
    {
     "data": {
      "text/plain": [
       "array([  0,   4,  16,  36,  64, 100, 144, 196, 256, 324])"
      ]
     },
     "execution_count": 55,
     "metadata": {},
     "output_type": "execute_result"
    }
   ],
   "source": [
    "arr12**2"
   ]
  },
  {
   "cell_type": "code",
   "execution_count": 56,
   "id": "f1483caf",
   "metadata": {},
   "outputs": [
    {
     "name": "stdout",
     "output_type": "stream",
     "text": [
      "[[ 7  9 11 13 15]\n",
      " [12 14 16 18 20]]\n"
     ]
    }
   ],
   "source": [
    "arr13=np.array([1,2,3,4,5])\n",
    "arr14=np.array([[6,7,8,9,10],[11,12,13,14,15]])\n",
    "arr15=arr13+arr14\n",
    "print(arr15)"
   ]
  },
  {
   "cell_type": "markdown",
   "id": "64ff77f8",
   "metadata": {},
   "source": [
    "[Topic](#topic)\n",
    "# 32) mean, std, normalized_data "
   ]
  },
  {
   "cell_type": "code",
   "execution_count": 59,
   "id": "baf7d495",
   "metadata": {},
   "outputs": [
    {
     "name": "stdout",
     "output_type": "stream",
     "text": [
      "[-1.41421356 -0.70710678  0.          0.70710678  1.41421356]\n"
     ]
    }
   ],
   "source": [
    "arr1=np.array([1,2,3,4,5])\n",
    "mean=arr1.mean()\n",
    "standard_deviation=arr1.std()\n",
    "normalized_data=(arr1-mean)/standard_deviation\n",
    "print(normalized_data)"
   ]
  },
  {
   "cell_type": "code",
   "execution_count": 62,
   "id": "14a45c3e",
   "metadata": {},
   "outputs": [
    {
     "name": "stdout",
     "output_type": "stream",
     "text": [
      "[[-1.22474487 -1.22474487 -1.22474487]\n",
      " [ 0.          0.          0.        ]\n",
      " [ 1.22474487  1.22474487  1.22474487]]\n"
     ]
    }
   ],
   "source": [
    "# normalized_data based on each column\n",
    "arr2=np.array([[10,20,30],[40,50,60],[70,80,90]])\n",
    "mean=arr2.mean(axis=0)\n",
    "std=arr2.std(axis=0)\n",
    "normalized_data=(arr2-mean)/std\n",
    "print(normalized_data)"
   ]
  },
  {
   "cell_type": "markdown",
   "id": "e48b5408",
   "metadata": {},
   "source": [
    "[Topic](#topic)\n",
    "# 33) np.min(array)"
   ]
  },
  {
   "cell_type": "code",
   "execution_count": 63,
   "id": "d5f77711",
   "metadata": {},
   "outputs": [],
   "source": [
    "ar1=np.array(np.arange(10,20,3))"
   ]
  },
  {
   "cell_type": "code",
   "execution_count": 64,
   "id": "a74b8538",
   "metadata": {},
   "outputs": [
    {
     "data": {
      "text/plain": [
       "np.int64(10)"
      ]
     },
     "execution_count": 64,
     "metadata": {},
     "output_type": "execute_result"
    }
   ],
   "source": [
    "np.min(ar1)"
   ]
  },
  {
   "cell_type": "markdown",
   "id": "e7c70484",
   "metadata": {},
   "source": [
    "[Topic](#topic)\n",
    "# 34) np.max(array)"
   ]
  },
  {
   "cell_type": "code",
   "execution_count": 65,
   "id": "82c0c4b7",
   "metadata": {},
   "outputs": [
    {
     "data": {
      "text/plain": [
       "np.int64(19)"
      ]
     },
     "execution_count": 65,
     "metadata": {},
     "output_type": "execute_result"
    }
   ],
   "source": [
    "np.max(ar1)"
   ]
  },
  {
   "cell_type": "markdown",
   "id": "145cf0de",
   "metadata": {},
   "source": [
    "[Topic](#topic)\n",
    "# 34) np.var(array)"
   ]
  },
  {
   "cell_type": "code",
   "execution_count": 66,
   "id": "b725450a",
   "metadata": {},
   "outputs": [
    {
     "data": {
      "text/plain": [
       "np.float64(11.25)"
      ]
     },
     "execution_count": 66,
     "metadata": {},
     "output_type": "execute_result"
    }
   ],
   "source": [
    "np.var(ar1)"
   ]
  },
  {
   "cell_type": "markdown",
   "id": "55d1ba6b",
   "metadata": {},
   "source": [
    "[Topic](#topic)\n",
    "# 35) np.sum(array)"
   ]
  },
  {
   "cell_type": "code",
   "execution_count": 67,
   "id": "f4ffbe52",
   "metadata": {},
   "outputs": [
    {
     "data": {
      "text/plain": [
       "np.int64(58)"
      ]
     },
     "execution_count": 67,
     "metadata": {},
     "output_type": "execute_result"
    }
   ],
   "source": [
    "np.sum(ar1)"
   ]
  },
  {
   "cell_type": "markdown",
   "id": "8858ed36",
   "metadata": {},
   "source": [
    "[Topic](#topic)\n",
    "# 36) np.prod(array)"
   ]
  },
  {
   "cell_type": "code",
   "execution_count": 68,
   "id": "ee56f97c",
   "metadata": {},
   "outputs": [
    {
     "data": {
      "text/plain": [
       "np.int64(39520)"
      ]
     },
     "execution_count": 68,
     "metadata": {},
     "output_type": "execute_result"
    }
   ],
   "source": [
    "np.prod(ar1)"
   ]
  },
  {
   "cell_type": "markdown",
   "id": "62f57ada",
   "metadata": {},
   "source": [
    "[Topic](#topic)\n",
    "# 37) np.median(array)"
   ]
  },
  {
   "cell_type": "code",
   "execution_count": 69,
   "id": "03ee328a",
   "metadata": {},
   "outputs": [
    {
     "data": {
      "text/plain": [
       "np.float64(14.5)"
      ]
     },
     "execution_count": 69,
     "metadata": {},
     "output_type": "execute_result"
    }
   ],
   "source": [
    "np.median(ar1)"
   ]
  },
  {
   "cell_type": "markdown",
   "id": "dc74ee72",
   "metadata": {},
   "source": [
    "[Topic](#topic)\n",
    "# 38) np.log(array)"
   ]
  },
  {
   "cell_type": "code",
   "execution_count": 70,
   "id": "b2cf1b39",
   "metadata": {},
   "outputs": [
    {
     "data": {
      "text/plain": [
       "array([2.30258509, 2.56494936, 2.77258872, 2.94443898])"
      ]
     },
     "execution_count": 70,
     "metadata": {},
     "output_type": "execute_result"
    }
   ],
   "source": [
    "np.log(ar1)"
   ]
  },
  {
   "cell_type": "markdown",
   "id": "a87c43de",
   "metadata": {},
   "source": [
    "[Topic](#topic)\n",
    "# 39) np.percentile(array,n th percentile)"
   ]
  },
  {
   "cell_type": "code",
   "execution_count": 71,
   "id": "ada04e0c",
   "metadata": {},
   "outputs": [
    {
     "data": {
      "text/plain": [
       "np.float64(10.9)"
      ]
     },
     "execution_count": 71,
     "metadata": {},
     "output_type": "execute_result"
    }
   ],
   "source": [
    "np.percentile(ar1,10)"
   ]
  },
  {
   "cell_type": "markdown",
   "id": "b7fce799",
   "metadata": {},
   "source": [
    "[Topic](#topic)\n",
    "# 40) np.argmin(array)"
   ]
  },
  {
   "cell_type": "code",
   "execution_count": 73,
   "id": "e8e121d6",
   "metadata": {},
   "outputs": [
    {
     "data": {
      "text/plain": [
       "np.int64(0)"
      ]
     },
     "execution_count": 73,
     "metadata": {},
     "output_type": "execute_result"
    }
   ],
   "source": [
    "np.argmin(ar1) # return minimum element index\n"
   ]
  },
  {
   "cell_type": "markdown",
   "id": "a1acde0b",
   "metadata": {},
   "source": [
    "[Topic](#topic)\n",
    "# 41) np.argmax(array)"
   ]
  },
  {
   "cell_type": "code",
   "execution_count": 75,
   "id": "eb4d162e",
   "metadata": {},
   "outputs": [
    {
     "data": {
      "text/plain": [
       "np.int64(1)"
      ]
     },
     "execution_count": 75,
     "metadata": {},
     "output_type": "execute_result"
    }
   ],
   "source": [
    "np.argmax(np.array([10,90,10]))"
   ]
  },
  {
   "cell_type": "markdown",
   "id": "887e44f2",
   "metadata": {},
   "source": [
    "[Topic](#topic)\n",
    "# 42) np.unique(array)"
   ]
  },
  {
   "cell_type": "code",
   "execution_count": 76,
   "id": "474d0e27",
   "metadata": {},
   "outputs": [
    {
     "data": {
      "text/plain": [
       "array([10, 13, 16, 19])"
      ]
     },
     "execution_count": 76,
     "metadata": {},
     "output_type": "execute_result"
    }
   ],
   "source": [
    "np.unique(ar1)"
   ]
  },
  {
   "cell_type": "markdown",
   "id": "bad107b1",
   "metadata": {},
   "source": [
    "[Topic](#topic)\n",
    "# 43) np.corrcoef(array)  for correlation coefficient"
   ]
  },
  {
   "cell_type": "code",
   "execution_count": 77,
   "id": "2897a407",
   "metadata": {},
   "outputs": [
    {
     "data": {
      "text/plain": [
       "np.float64(1.0)"
      ]
     },
     "execution_count": 77,
     "metadata": {},
     "output_type": "execute_result"
    }
   ],
   "source": [
    "np.corrcoef(ar1)"
   ]
  },
  {
   "cell_type": "markdown",
   "id": "0c0e675d",
   "metadata": {},
   "source": [
    "[Topic](#topic)\n",
    "# 44) np.cumsum(array)  for cumulative sum"
   ]
  },
  {
   "cell_type": "code",
   "execution_count": 79,
   "id": "cec87303",
   "metadata": {},
   "outputs": [
    {
     "data": {
      "text/plain": [
       "array([10, 23, 39, 58])"
      ]
     },
     "execution_count": 79,
     "metadata": {},
     "output_type": "execute_result"
    }
   ],
   "source": [
    "np.cumsum(ar1)"
   ]
  },
  {
   "cell_type": "markdown",
   "id": "b5df74ca",
   "metadata": {},
   "source": [
    "[Topic](#topic)\n",
    "# 45) np.diff(array)  for differences between nth element"
   ]
  },
  {
   "cell_type": "code",
   "execution_count": 80,
   "id": "a92c2c30",
   "metadata": {},
   "outputs": [
    {
     "data": {
      "text/plain": [
       "array([3, 3, 3])"
      ]
     },
     "execution_count": 80,
     "metadata": {},
     "output_type": "execute_result"
    }
   ],
   "source": [
    "np.diff(ar1)"
   ]
  },
  {
   "cell_type": "markdown",
   "id": "c75b9de5",
   "metadata": {},
   "source": [
    "[Topic](#topic)\n",
    "# 46) np.linspace(array) "
   ]
  },
  {
   "cell_type": "markdown",
   "id": "6bfa7770",
   "metadata": {},
   "source": [
    "np.linspace() হল NumPy লাইব্রেরির একটি ফাংশন, যার কাজ হল দুটি সংখ্যার মধ্যে নির্দিষ্ট সংখ্যক সমান ব্যবধানের মান তৈরি করা।"
   ]
  },
  {
   "cell_type": "code",
   "execution_count": 83,
   "id": "a13928b7",
   "metadata": {},
   "outputs": [
    {
     "data": {
      "text/plain": [
       "array([0.])"
      ]
     },
     "execution_count": 83,
     "metadata": {},
     "output_type": "execute_result"
    }
   ],
   "source": [
    "np.linspace(0,10,1)"
   ]
  },
  {
   "cell_type": "code",
   "execution_count": 89,
   "id": "7dce107a",
   "metadata": {},
   "outputs": [
    {
     "data": {
      "text/plain": [
       "array([ 1.,  6., 11., 16.])"
      ]
     },
     "execution_count": 89,
     "metadata": {},
     "output_type": "execute_result"
    }
   ],
   "source": [
    "np.linspace(1,16,4)"
   ]
  },
  {
   "cell_type": "markdown",
   "id": "f54938a5",
   "metadata": {},
   "source": [
    "[Topic](#topic)\n",
    "# 47) np.log(array) "
   ]
  },
  {
   "cell_type": "code",
   "execution_count": 90,
   "id": "869a6dc3",
   "metadata": {},
   "outputs": [
    {
     "data": {
      "text/plain": [
       "array([2.30258509, 2.56494936, 2.77258872, 2.94443898])"
      ]
     },
     "execution_count": 90,
     "metadata": {},
     "output_type": "execute_result"
    }
   ],
   "source": [
    "np.log(ar1)"
   ]
  },
  {
   "cell_type": "markdown",
   "id": "f78a3878",
   "metadata": {},
   "source": [
    "[Topic](#topic)\n",
    "# 48) np.exp(array) "
   ]
  },
  {
   "cell_type": "code",
   "execution_count": 91,
   "id": "5d96322d",
   "metadata": {},
   "outputs": [
    {
     "data": {
      "text/plain": [
       "array([2.20264658e+04, 4.42413392e+05, 8.88611052e+06, 1.78482301e+08])"
      ]
     },
     "execution_count": 91,
     "metadata": {},
     "output_type": "execute_result"
    }
   ],
   "source": [
    "np.exp(ar1)"
   ]
  }
 ],
 "metadata": {
  "kernelspec": {
   "display_name": "Python 3",
   "language": "python",
   "name": "python3"
  },
  "language_info": {
   "codemirror_mode": {
    "name": "ipython",
    "version": 3
   },
   "file_extension": ".py",
   "mimetype": "text/x-python",
   "name": "python",
   "nbconvert_exporter": "python",
   "pygments_lexer": "ipython3",
   "version": "3.12.11"
  }
 },
 "nbformat": 4,
 "nbformat_minor": 5
}
