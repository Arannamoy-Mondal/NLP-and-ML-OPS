{
 "cells": [
  {
   "cell_type": "markdown",
   "id": "85b66d65",
   "metadata": {},
   "source": [
    "# Topic\n",
    "1) [zip()](#1-zip)\n",
    "2) [np.array()](#2-array)\n",
    "3) [np.arange()](#3-arange)\n",
    "4) [array slicing](#4-slicing)\n",
    "5) [time-comparison-list-vs-numpy-array](#5-time-comparison-list-vs-numpy-array)\n",
    "6) [2d array](#6-2d-array)\n",
    "7) [memory-comparison-numpy-vs-list](#7-memory-comparison-numpy-vs-list)\n",
    "8) [vectorization and list comprehension time complexity difference](#8-vectorization)"
   ]
  },
  {
   "cell_type": "code",
   "execution_count": 1,
   "id": "b3350572",
   "metadata": {},
   "outputs": [],
   "source": [
    "import numpy as np"
   ]
  },
  {
   "cell_type": "code",
   "execution_count": 8,
   "id": "b3dfe846",
   "metadata": {},
   "outputs": [],
   "source": [
    "import time\n"
   ]
  },
  {
   "cell_type": "markdown",
   "id": "66884f0d",
   "metadata": {},
   "source": [
    "[Topic](#topic)\n",
    "# 1 zip"
   ]
  },
  {
   "cell_type": "code",
   "execution_count": 31,
   "id": "a6e9567a",
   "metadata": {},
   "outputs": [
    {
     "name": "stdout",
     "output_type": "stream",
     "text": [
      "0.11004948616027832\n",
      "2\n"
     ]
    }
   ],
   "source": [
    "t1=time.time()\n",
    "size=1_000_000\n",
    "list1=list(range(size))\n",
    "list2=list(range(size))\n",
    "list3=[x+y for x,y in zip(list1,list2)]\n",
    "print(time.time()-t1)\n",
    "print(list3[1])"
   ]
  },
  {
   "cell_type": "markdown",
   "id": "f130519d",
   "metadata": {},
   "source": [
    "[Topic](#topic)\n",
    "# 2) array()"
   ]
  },
  {
   "cell_type": "code",
   "execution_count": 32,
   "id": "8d0ee90c",
   "metadata": {},
   "outputs": [
    {
     "name": "stdout",
     "output_type": "stream",
     "text": [
      "0.009958505630493164\n",
      "0\n",
      "<class 'numpy.ndarray'>\n"
     ]
    }
   ],
   "source": [
    "t1=time.time()\n",
    "ar1=np.array(np.arange(0,size))\n",
    "ar2=np.array(np.arange(0,size))\n",
    "ar3=ar1+ar2\n",
    "print(time.time()-t1)\n",
    "print(ar1[0])\n",
    "print(type(ar1))"
   ]
  },
  {
   "cell_type": "markdown",
   "id": "757a023b",
   "metadata": {},
   "source": [
    "[Topic](#topic)\n",
    "# 3) arange()"
   ]
  },
  {
   "cell_type": "code",
   "execution_count": 52,
   "id": "6124a759",
   "metadata": {},
   "outputs": [
    {
     "name": "stdout",
     "output_type": "stream",
     "text": [
      "[1 2 3 4 5 6 7 8 9]\n",
      "<class 'numpy.ndarray'>\n",
      "[1 3 5 7 9]\n"
     ]
    }
   ],
   "source": [
    "ar1=np.arange(1,10)\n",
    "print(ar1)\n",
    "print(type(ar1))\n",
    "print(np.arange(1,10,2))"
   ]
  },
  {
   "cell_type": "markdown",
   "id": "bf13e432",
   "metadata": {},
   "source": [
    "[Topic](#topic)\n",
    "# 4) slicing "
   ]
  },
  {
   "cell_type": "code",
   "execution_count": 23,
   "id": "4603a589",
   "metadata": {},
   "outputs": [
    {
     "name": "stdout",
     "output_type": "stream",
     "text": [
      "[0, 2, 4, 6, 8, 10, 12, 14, 16, 18]\n"
     ]
    }
   ],
   "source": [
    "print(list3[0:10])"
   ]
  },
  {
   "cell_type": "markdown",
   "id": "b1b772b7",
   "metadata": {},
   "source": [
    "[Topic](#topic)\n",
    "# 5) time comparison list vs numpy array"
   ]
  },
  {
   "cell_type": "code",
   "execution_count": 36,
   "id": "142fb11f",
   "metadata": {},
   "outputs": [
    {
     "name": "stdout",
     "output_type": "stream",
     "text": [
      "0.14596867561340332\n",
      "0.007377147674560547\n"
     ]
    }
   ],
   "source": [
    "size=1_000_000\n",
    "t1=time.time()\n",
    "list1=list(range(size))\n",
    "list2=list(range(size))\n",
    "list3=[x+y for x,y in zip(list1,list2)]\n",
    "t2=time.time()\n",
    "print(t2-t1)\n",
    "\n",
    "t3=time.time()\n",
    "array1=np.array(np.arange(size))\n",
    "array2=np.array(np.arange(size))\n",
    "array3=array1+array2\n",
    "t4=time.time()\n",
    "print(t4-t3)"
   ]
  },
  {
   "cell_type": "markdown",
   "id": "7d41be3d",
   "metadata": {},
   "source": [
    "[Topic](#topic)\n",
    "# 7) Memory comparison numpy vs list"
   ]
  },
  {
   "cell_type": "code",
   "execution_count": 41,
   "id": "96e05dcb",
   "metadata": {},
   "outputs": [
    {
     "name": "stdout",
     "output_type": "stream",
     "text": [
      "8250710937.5  megabyte\n",
      "7812.5  megabyte\n"
     ]
    }
   ],
   "source": [
    "import sys\n",
    "print((sys.getsizeof(list3)*len(list3))/1024, \" megabyte\")\n",
    "print(array3.nbytes/1024,\" megabyte\")"
   ]
  },
  {
   "cell_type": "markdown",
   "id": "80c4d797",
   "metadata": {},
   "source": [
    "[Topic](#topic)\n",
    "# 6) 2d array"
   ]
  },
  {
   "cell_type": "code",
   "execution_count": 38,
   "id": "0ecb88ae",
   "metadata": {},
   "outputs": [
    {
     "name": "stdout",
     "output_type": "stream",
     "text": [
      "[[1 2 3 4]\n",
      " [5 6 7 8]]\n"
     ]
    }
   ],
   "source": [
    "array_2d=np.array([[1,2,3,4],[5,6,7,8]])\n",
    "print(array_2d)"
   ]
  },
  {
   "cell_type": "markdown",
   "id": "1d7e3176",
   "metadata": {},
   "source": [
    "[Topic](#topic)\n",
    "# 8) vectorization"
   ]
  },
  {
   "cell_type": "code",
   "execution_count": 43,
   "id": "84b14339",
   "metadata": {},
   "outputs": [
    {
     "name": "stdout",
     "output_type": "stream",
     "text": [
      "0.06417346000671387\n",
      "0.0013196468353271484\n"
     ]
    }
   ],
   "source": [
    "t1=time.time()\n",
    "list4=[x*2 for x in list1]\n",
    "t2=time.time()\n",
    "print(time.time()-t1)\n",
    "t2=time.time()\n",
    "array4=array1*2 # vectorization\n",
    "print(time.time()-t2)"
   ]
  },
  {
   "cell_type": "markdown",
   "id": "5bb2d87d",
   "metadata": {},
   "source": [
    "[Topic](#topic)\n",
    "# 9) np.zeros()"
   ]
  },
  {
   "cell_type": "code",
   "execution_count": 44,
   "id": "04c28d3d",
   "metadata": {},
   "outputs": [
    {
     "data": {
      "text/plain": [
       "array([[0., 0., 0.],\n",
       "       [0., 0., 0.],\n",
       "       [0., 0., 0.]])"
      ]
     },
     "execution_count": 44,
     "metadata": {},
     "output_type": "execute_result"
    }
   ],
   "source": [
    "arr0=np.zeros((3,3))\n",
    "arr0"
   ]
  },
  {
   "cell_type": "markdown",
   "id": "2b57c645",
   "metadata": {},
   "source": [
    "[Topic](#topic)\n",
    "# 10) np.eye()"
   ]
  },
  {
   "cell_type": "code",
   "execution_count": 45,
   "id": "efe13826",
   "metadata": {},
   "outputs": [
    {
     "name": "stdout",
     "output_type": "stream",
     "text": [
      "[[1. 0. 0.]\n",
      " [0. 1. 0.]\n",
      " [0. 0. 1.]]\n"
     ]
    }
   ],
   "source": [
    "print(np.eye(3,3))"
   ]
  },
  {
   "cell_type": "markdown",
   "id": "af18a8ef",
   "metadata": {},
   "source": [
    "[Topic](#topic)\n",
    "# 11) np.ones()"
   ]
  },
  {
   "cell_type": "code",
   "execution_count": 47,
   "id": "b9db201a",
   "metadata": {},
   "outputs": [
    {
     "name": "stdout",
     "output_type": "stream",
     "text": [
      "[[1. 1. 1.]\n",
      " [1. 1. 1.]\n",
      " [1. 1. 1.]]\n"
     ]
    }
   ],
   "source": [
    "print(np.ones((3,3)))"
   ]
  },
  {
   "cell_type": "markdown",
   "id": "1a061886",
   "metadata": {},
   "source": [
    "[Topic](#topic)\n",
    "# 12) np.full()"
   ]
  },
  {
   "cell_type": "code",
   "execution_count": 51,
   "id": "2894435a",
   "metadata": {},
   "outputs": [
    {
     "name": "stdout",
     "output_type": "stream",
     "text": [
      "[[7 7 7]\n",
      " [7 7 7]\n",
      " [7 7 7]]\n"
     ]
    }
   ],
   "source": [
    "print(np.full((3,3),7))"
   ]
  }
 ],
 "metadata": {
  "kernelspec": {
   "display_name": "Python 3",
   "language": "python",
   "name": "python3"
  },
  "language_info": {
   "codemirror_mode": {
    "name": "ipython",
    "version": 3
   },
   "file_extension": ".py",
   "mimetype": "text/x-python",
   "name": "python",
   "nbconvert_exporter": "python",
   "pygments_lexer": "ipython3",
   "version": "3.11.13"
  }
 },
 "nbformat": 4,
 "nbformat_minor": 5
}
