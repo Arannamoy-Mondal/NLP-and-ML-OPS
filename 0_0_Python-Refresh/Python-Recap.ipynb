{
 "cells": [
  {
   "cell_type": "markdown",
   "id": "02d54ede",
   "metadata": {},
   "source": [
    "# Topics\n",
    "- [end](#using-end)\n",
    "- [single line comment](#single-line-comment)\n",
    "- [multiline comment](#multiline-comment)\n",
    "- [variable type](#variable-type)\n",
    "- [differnce between \"//\" and \"/\"](#difference-between--and-)\n",
    "- [type casting](#type-casting)\n",
    "- [slicing](#slicing--1)\n",
    "- [strip](#strip)\n",
    "- [replace](#replace)\n",
    "- [len](#length-of-string-tuple-list)\n",
    "- [% formating](#2--formatting)\n",
    "- [f string](#3-f-string)"
   ]
  },
  {
   "cell_type": "markdown",
   "id": "11d5562c",
   "metadata": {},
   "source": [
    "- [Topic](#topics)\n",
    "# using end"
   ]
  },
  {
   "cell_type": "code",
   "execution_count": 4,
   "id": "c72a12d9",
   "metadata": {},
   "outputs": [
    {
     "name": "stdout",
     "output_type": "stream",
     "text": [
      "Hello world uap"
     ]
    }
   ],
   "source": [
    "print(\"Hello world\",end=\" uap\")\n"
   ]
  },
  {
   "cell_type": "markdown",
   "id": "2bfb0ebf",
   "metadata": {},
   "source": [
    "- [Topic](#topics)\n",
    "# multiline comment"
   ]
  },
  {
   "cell_type": "code",
   "execution_count": 5,
   "id": "2b92e39a",
   "metadata": {},
   "outputs": [
    {
     "data": {
      "text/plain": [
       "'This is a multiline comment'"
      ]
     },
     "execution_count": 5,
     "metadata": {},
     "output_type": "execute_result"
    }
   ],
   "source": [
    "'''This is a multiline comment'''"
   ]
  },
  {
   "cell_type": "markdown",
   "id": "ebd3e011",
   "metadata": {},
   "source": [
    "- [Topic](#topics)\n",
    "# single line comment"
   ]
  },
  {
   "cell_type": "code",
   "execution_count": null,
   "id": "4775f690",
   "metadata": {},
   "outputs": [],
   "source": [
    "# name=\"Hello\"\n",
    "# age=\"World\""
   ]
  },
  {
   "cell_type": "markdown",
   "id": "a982ae3d",
   "metadata": {},
   "source": [
    "- [Topic](#topics)\n",
    "# variable type"
   ]
  },
  {
   "cell_type": "code",
   "execution_count": 7,
   "id": "6a7e18b7",
   "metadata": {},
   "outputs": [
    {
     "name": "stdout",
     "output_type": "stream",
     "text": [
      "<class 'int'> <class 'float'> <class 'str'> <class 'str'> <class 'bool'>\n"
     ]
    }
   ],
   "source": [
    "integer_number=3\n",
    "decimal_number=3.44\n",
    "text='\"Hello world\"'\n",
    "string=\"Hello world\"\n",
    "is_python_powerful=True\n",
    "print(type(integer_number),type(decimal_number),type(text),type(string),type(is_python_powerful))"
   ]
  },
  {
   "cell_type": "markdown",
   "id": "7e1e24db",
   "metadata": {},
   "source": [
    "- [Topic](#topics)\n",
    "# difference between \"//\" and \"/\""
   ]
  },
  {
   "cell_type": "code",
   "execution_count": 8,
   "id": "d4a95ec2",
   "metadata": {},
   "outputs": [
    {
     "name": "stdout",
     "output_type": "stream",
     "text": [
      "0 \n",
      " 0.8333333333333334\n"
     ]
    }
   ],
   "source": [
    "x=5//6\n",
    "y=5/6\n",
    "print(x,\"\\n\",y)"
   ]
  },
  {
   "cell_type": "markdown",
   "id": "9e401482",
   "metadata": {},
   "source": [
    "- [Topic](#topics)\n",
    "# type casting"
   ]
  },
  {
   "cell_type": "code",
   "execution_count": 10,
   "id": "cfd13108",
   "metadata": {},
   "outputs": [
    {
     "name": "stdout",
     "output_type": "stream",
     "text": [
      "<class 'float'>\n",
      "<class 'str'>\n"
     ]
    }
   ],
   "source": [
    "a=5.66\n",
    "print(type(a))\n",
    "print(type(str(a)))"
   ]
  },
  {
   "cell_type": "markdown",
   "id": "2ff61041",
   "metadata": {},
   "source": [
    "- [Topic](#topics)\n",
    "# length of string, tuple, list "
   ]
  },
  {
   "cell_type": "code",
   "execution_count": 12,
   "id": "ca075999",
   "metadata": {},
   "outputs": [
    {
     "name": "stdout",
     "output_type": "stream",
     "text": [
      "13\n",
      "11\n"
     ]
    }
   ],
   "source": [
    "string=\"Hello world! \"\n",
    "print(len(string))\n",
    "print(len(\"Hello world\"))"
   ]
  },
  {
   "cell_type": "markdown",
   "id": "653544fa",
   "metadata": {},
   "source": [
    "- [Topic](#topics)\n",
    "# slicing -1"
   ]
  },
  {
   "cell_type": "code",
   "execution_count": 34,
   "id": "28685ee8",
   "metadata": {},
   "outputs": [
    {
     "name": "stdout",
     "output_type": "stream",
     "text": [
      "d\n",
      "H\n",
      "d\n",
      "\n",
      "Hello Worl\n",
      "Hello World\n",
      "Hello World\n",
      "Hello World\n"
     ]
    }
   ],
   "source": [
    "string=\"Hello World\"\n",
    "print(string[-1])\n",
    "print(string[-len(string)])\n",
    "print(string[-1])\n",
    "print(string[-1:-5])\n",
    "print(string[-len(string):-1])\n",
    "print(string[-len(string):])\n",
    "print(string[0:len(string)])\n",
    "print(string[0:])"
   ]
  },
  {
   "cell_type": "markdown",
   "id": "e8439773",
   "metadata": {},
   "source": [
    "- [Topic](#topics)\n",
    "# strip "
   ]
  },
  {
   "cell_type": "code",
   "execution_count": 42,
   "id": "b3b40ba6",
   "metadata": {},
   "outputs": [
    {
     "name": "stdout",
     "output_type": "stream",
     "text": [
      "H e l l o , w o r l d\n"
     ]
    }
   ],
   "source": [
    "print(\"H e l l o , w o r l d\".strip())\n"
   ]
  },
  {
   "cell_type": "code",
   "execution_count": 43,
   "id": "26435680",
   "metadata": {},
   "outputs": [
    {
     "name": "stdout",
     "output_type": "stream",
     "text": [
      "Hello      World     !\n"
     ]
    }
   ],
   "source": [
    "print(\"Hello      World     !\".strip())\n"
   ]
  },
  {
   "cell_type": "code",
   "execution_count": 44,
   "id": "2be91be5",
   "metadata": {},
   "outputs": [
    {
     "name": "stdout",
     "output_type": "stream",
     "text": [
      "Hello World\n"
     ]
    }
   ],
   "source": [
    "print(\"         Hello World\".strip())\n"
   ]
  },
  {
   "cell_type": "markdown",
   "id": "b271d842",
   "metadata": {},
   "source": [
    "- [Topic](#topics)\n",
    "# replace"
   ]
  },
  {
   "cell_type": "code",
   "execution_count": 45,
   "id": "bf553595",
   "metadata": {},
   "outputs": [
    {
     "name": "stdout",
     "output_type": "stream",
     "text": [
      "aello World\n"
     ]
    }
   ],
   "source": [
    "print(string.replace(\"H\",\"a\"))\n"
   ]
  },
  {
   "cell_type": "code",
   "execution_count": 46,
   "id": "0fed07fc",
   "metadata": {},
   "outputs": [
    {
     "name": "stdout",
     "output_type": "stream",
     "text": [
      "Hello World\n"
     ]
    }
   ],
   "source": [
    "print(string)"
   ]
  },
  {
   "cell_type": "code",
   "execution_count": 47,
   "id": "f26b8915",
   "metadata": {},
   "outputs": [
    {
     "name": "stdout",
     "output_type": "stream",
     "text": [
      "4952\n"
     ]
    }
   ],
   "source": [
    "print(str(49)+str(52))"
   ]
  },
  {
   "cell_type": "markdown",
   "id": "f89406a6",
   "metadata": {},
   "source": [
    "- [Topics](#topics)\n",
    "\n",
    "# 2 % formatting"
   ]
  },
  {
   "cell_type": "code",
   "execution_count": 4,
   "id": "98641dce",
   "metadata": {},
   "outputs": [
    {
     "name": "stdout",
     "output_type": "stream",
     "text": [
      "%s Hello World\n",
      "%d 4\n",
      "%f 4.66\n"
     ]
    }
   ],
   "source": [
    "name=\"Hello World\"\n",
    "print(\"%s\",name)\n",
    "\n",
    "integer_number=4\n",
    "print(\"%d\",integer_number)\n",
    "\n",
    "float_number=4.66\n",
    "print(\"%f\",float_number)\n"
   ]
  },
  {
   "cell_type": "markdown",
   "id": "6c4a0c79",
   "metadata": {},
   "source": [
    "- [Topics](#topics)\n",
    "\n",
    "#  3 f string"
   ]
  },
  {
   "cell_type": "code",
   "execution_count": 5,
   "id": "71571d2f",
   "metadata": {},
   "outputs": [
    {
     "name": "stdout",
     "output_type": "stream",
     "text": [
      "4.66\n"
     ]
    }
   ],
   "source": [
    "print(f\"{float_number}\")"
   ]
  },
  {
   "cell_type": "markdown",
   "id": "5d6f8406",
   "metadata": {},
   "source": [
    "- [Topics](#topics)\n",
    "# 4 str.capitilize"
   ]
  },
  {
   "cell_type": "code",
   "execution_count": 7,
   "id": "4458ecf2",
   "metadata": {},
   "outputs": [
    {
     "name": "stdout",
     "output_type": "stream",
     "text": [
      "Hello word\n"
     ]
    }
   ],
   "source": [
    "print(\"hello word\".capitalize())"
   ]
  },
  {
   "cell_type": "markdown",
   "id": "d8aec49b",
   "metadata": {},
   "source": [
    "- [Topics](#topics)\n",
    "# 5 str.upper"
   ]
  },
  {
   "cell_type": "code",
   "execution_count": 8,
   "id": "4a6a8add",
   "metadata": {},
   "outputs": [
    {
     "name": "stdout",
     "output_type": "stream",
     "text": [
      "HELLO WORLD\n"
     ]
    }
   ],
   "source": [
    "print(\"Hello World\".upper())"
   ]
  },
  {
   "cell_type": "markdown",
   "id": "dbaede83",
   "metadata": {},
   "source": [
    "- [Topics](#topics)\n",
    "\n",
    "# 6 str.lower"
   ]
  },
  {
   "cell_type": "code",
   "execution_count": 9,
   "id": "57e97e40",
   "metadata": {},
   "outputs": [
    {
     "name": "stdout",
     "output_type": "stream",
     "text": [
      "hello world\n"
     ]
    }
   ],
   "source": [
    "print(\"Hello World\".lower())"
   ]
  },
  {
   "cell_type": "markdown",
   "id": "0d179e8b",
   "metadata": {},
   "source": [
    "- [Topics](#topics)\n",
    "# 7 str.startwith()"
   ]
  },
  {
   "cell_type": "code",
   "execution_count": 11,
   "id": "35c61b24",
   "metadata": {},
   "outputs": [
    {
     "name": "stdout",
     "output_type": "stream",
     "text": [
      "False\n",
      "True\n",
      "True\n"
     ]
    }
   ],
   "source": [
    "print(\"hello world\".startswith(\"hllow\"))\n",
    "print(\"hello world\".startswith(\"hello\"))\n",
    "print(\"hello world\".endswith(\"world\"))"
   ]
  },
  {
   "cell_type": "markdown",
   "id": "7a01a740",
   "metadata": {},
   "source": [
    "- [Topics](#topics)\n",
    "# 8 str.split"
   ]
  },
  {
   "cell_type": "code",
   "execution_count": 15,
   "id": "54d23f84",
   "metadata": {},
   "outputs": [
    {
     "name": "stdout",
     "output_type": "stream",
     "text": [
      "['Hello', 'World']\n",
      "hello world  \n"
     ]
    }
   ],
   "source": [
    "print(\"Hello,World\".split(\",\"))\n",
    "print(\"hello world\",\" \")"
   ]
  },
  {
   "cell_type": "markdown",
   "id": "ff20042c",
   "metadata": {},
   "source": [
    "- [Topics](#topics)\n",
    "# 9 arithmatic operator"
   ]
  },
  {
   "cell_type": "code",
   "execution_count": 16,
   "id": "fce82d0e",
   "metadata": {},
   "outputs": [
    {
     "name": "stdout",
     "output_type": "stream",
     "text": [
      "13\n",
      "3.3333333333333335\n",
      "3\n",
      "1000\n",
      "1\n"
     ]
    }
   ],
   "source": [
    "a=10\n",
    "b=3\n",
    "\n",
    "print(a+b)\n",
    "print(a/b)\n",
    "print(a//b)\n",
    "print(a**b)\n",
    "print(a%b)"
   ]
  },
  {
   "cell_type": "markdown",
   "id": "88f9f5f9",
   "metadata": {},
   "source": [
    "- [Topics](#topics)\n",
    "# 10 comparison operator"
   ]
  },
  {
   "cell_type": "code",
   "execution_count": 20,
   "id": "33d76185",
   "metadata": {},
   "outputs": [
    {
     "name": "stdout",
     "output_type": "stream",
     "text": [
      "False\n",
      "True\n",
      "True\n",
      "False\n",
      "True\n",
      "False\n"
     ]
    }
   ],
   "source": [
    "print(a==b)\n",
    "print(a!=b)\n",
    "print(a>b)\n",
    "print(a<b)\n",
    "print(a>=b)\n",
    "print(a<=b)\n"
   ]
  },
  {
   "cell_type": "markdown",
   "id": "e1d54985",
   "metadata": {},
   "source": [
    "- [Topics](#topics)\n",
    "#  11 logical operator\n"
   ]
  },
  {
   "cell_type": "code",
   "execution_count": 21,
   "id": "32dd4f54",
   "metadata": {},
   "outputs": [
    {
     "name": "stdout",
     "output_type": "stream",
     "text": [
      "True\n",
      "False\n",
      "False\n"
     ]
    }
   ],
   "source": [
    "print(False or True)\n",
    "print(False and True)\n",
    "print(not True)"
   ]
  },
  {
   "cell_type": "markdown",
   "id": "f8c8d3a5",
   "metadata": {},
   "source": [
    "- [Topics](#topics)\n",
    "# 12 assignment operator"
   ]
  },
  {
   "cell_type": "code",
   "execution_count": 23,
   "id": "3e7f6ca4",
   "metadata": {},
   "outputs": [
    {
     "name": "stdout",
     "output_type": "stream",
     "text": [
      "11\n",
      "8\n",
      "80\n",
      "8\n",
      "0.8\n"
     ]
    }
   ],
   "source": [
    "x=1\n",
    "x+=a\n",
    "print(x)\n",
    "x-=b\n",
    "print(x)\n",
    "x*=a\n",
    "print(x)\n",
    "x//=a\n",
    "print(x)\n",
    "x/=a\n",
    "print(x)"
   ]
  },
  {
   "cell_type": "markdown",
   "id": "81b4d74b",
   "metadata": {},
   "source": [
    "- [Topics](#topics)\n",
    "# 13 identity operator"
   ]
  },
  {
   "cell_type": "code",
   "execution_count": 28,
   "id": "b1587c47",
   "metadata": {},
   "outputs": [
    {
     "name": "stdout",
     "output_type": "stream",
     "text": [
      "False\n",
      "True\n",
      "False\n",
      "False\n",
      "True\n",
      "False\n",
      "True\n"
     ]
    },
    {
     "name": "stderr",
     "output_type": "stream",
     "text": [
      "<>:6: SyntaxWarning: \"is\" with a literal. Did you mean \"==\"?\n",
      "<>:7: SyntaxWarning: \"is not\" with a literal. Did you mean \"!=\"?\n",
      "<>:6: SyntaxWarning: \"is\" with a literal. Did you mean \"==\"?\n",
      "<>:7: SyntaxWarning: \"is not\" with a literal. Did you mean \"!=\"?\n",
      "/tmp/ipykernel_14454/898775981.py:6: SyntaxWarning: \"is\" with a literal. Did you mean \"==\"?\n",
      "  print(1 is x)\n",
      "/tmp/ipykernel_14454/898775981.py:7: SyntaxWarning: \"is not\" with a literal. Did you mean \"!=\"?\n",
      "  print(10 is not x)\n"
     ]
    }
   ],
   "source": [
    "x=[1,2,3,4,5]\n",
    "y=[1,2,3,4,5]\n",
    "z=[1,2,3,5,4]\n",
    "w=[1]\n",
    "u=[1]\n",
    "print(1 is x)\n",
    "print(10 is not x)\n",
    "print(x is y)\n",
    "print(x is z)\n",
    "print(x is not z)\n",
    "print(w is u)\n",
    "print(w is w)"
   ]
  },
  {
   "cell_type": "markdown",
   "id": "37eab7e8",
   "metadata": {},
   "source": [
    "- [Topics](#topics)\n",
    "# 14 membership operator"
   ]
  },
  {
   "cell_type": "code",
   "execution_count": 30,
   "id": "91974422",
   "metadata": {},
   "outputs": [
    {
     "name": "stdout",
     "output_type": "stream",
     "text": [
      "True\n",
      "False\n",
      "False\n",
      "True\n"
     ]
    }
   ],
   "source": [
    "print(1 in x)\n",
    "print(1 not in x)\n",
    "print(w in x)\n",
    "print(10 not in x)"
   ]
  },
  {
   "cell_type": "markdown",
   "id": "1773c92e",
   "metadata": {},
   "source": [
    "- [Topics](#topics)\n",
    "# 15 list creation"
   ]
  },
  {
   "cell_type": "code",
   "execution_count": 32,
   "id": "cde11d4a",
   "metadata": {},
   "outputs": [
    {
     "name": "stdout",
     "output_type": "stream",
     "text": [
      "[1, 2, 3, 4, 5]\n"
     ]
    }
   ],
   "source": [
    "l1=[1,2,3,4,5]\n",
    "print(l1)"
   ]
  },
  {
   "cell_type": "markdown",
   "id": "11ddc377",
   "metadata": {},
   "source": [
    "- [Topics](#topics)\n",
    "# 16 access list element"
   ]
  },
  {
   "cell_type": "code",
   "execution_count": 33,
   "id": "ada9f1f0",
   "metadata": {},
   "outputs": [
    {
     "name": "stdout",
     "output_type": "stream",
     "text": [
      "1\n",
      "[1, 2, 3, 4, 5]\n",
      "[1, 2, 3, 4, 5]\n"
     ]
    }
   ],
   "source": [
    "print(l1[0])\n",
    "print(l1[0:])\n",
    "print(l1[-len(l1):])"
   ]
  },
  {
   "cell_type": "markdown",
   "id": "dc0bfaaf",
   "metadata": {},
   "source": [
    "- [Topics](#topics)\n",
    "# 17 change list element\n"
   ]
  },
  {
   "cell_type": "code",
   "execution_count": 36,
   "id": "237845ec",
   "metadata": {},
   "outputs": [
    {
     "name": "stdout",
     "output_type": "stream",
     "text": [
      "[1, 2]\n",
      "[1, 2, 3, 4, 10]\n"
     ]
    }
   ],
   "source": [
    "l1[-1]=10\n",
    "print(l1[:2])\n",
    "print(l1[0:])"
   ]
  },
  {
   "cell_type": "markdown",
   "id": "7af5eb62",
   "metadata": {},
   "source": [
    "- [Topics](#topics)\n",
    "# 18 append in list"
   ]
  },
  {
   "cell_type": "code",
   "execution_count": 37,
   "id": "68ebe724",
   "metadata": {},
   "outputs": [
    {
     "name": "stdout",
     "output_type": "stream",
     "text": [
      "[1, 2, 3, 4, 10, 100]\n"
     ]
    }
   ],
   "source": [
    "l1.append(100)\n",
    "print(l1)"
   ]
  },
  {
   "cell_type": "markdown",
   "id": "a2e4067d",
   "metadata": {},
   "source": [
    "- [Topics](#topics)\n",
    "# 19 insert in list"
   ]
  },
  {
   "cell_type": "code",
   "execution_count": 38,
   "id": "5bed4e21",
   "metadata": {},
   "outputs": [
    {
     "name": "stdout",
     "output_type": "stream",
     "text": [
      "[0, 1, 2, 3, 4, 10, 100]\n"
     ]
    }
   ],
   "source": [
    "l1.insert(0,0)\n",
    "print(l1)"
   ]
  },
  {
   "cell_type": "markdown",
   "id": "8700bcf3",
   "metadata": {},
   "source": [
    "- [Topics](#topics)\n",
    "\n",
    "# 20 pop in list"
   ]
  },
  {
   "cell_type": "code",
   "execution_count": 42,
   "id": "67f7917e",
   "metadata": {},
   "outputs": [
    {
     "name": "stdout",
     "output_type": "stream",
     "text": [
      "[4, 10, 100]\n"
     ]
    }
   ],
   "source": [
    "# pop works based on index. syntax: l1.pop(index)\n",
    "l1.pop(0)\n",
    "print(l1)"
   ]
  },
  {
   "cell_type": "markdown",
   "id": "9ec564f8",
   "metadata": {},
   "source": [
    "\n",
    "- [Topics](#topics)\n",
    "\n",
    "# 21 iteration on list"
   ]
  },
  {
   "cell_type": "code",
   "execution_count": 43,
   "id": "274bf731",
   "metadata": {},
   "outputs": [
    {
     "name": "stdout",
     "output_type": "stream",
     "text": [
      "4\n",
      "10\n",
      "100\n"
     ]
    }
   ],
   "source": [
    "for i in l1:\n",
    "    print(i)"
   ]
  },
  {
   "cell_type": "code",
   "execution_count": 53,
   "id": "dda179bb",
   "metadata": {},
   "outputs": [
    {
     "name": "stdout",
     "output_type": "stream",
     "text": [
      "C\n",
      "C++\n",
      "C#\n",
      "Java\n",
      "JavaScript\n"
     ]
    }
   ],
   "source": [
    "languages = [\n",
    "    \"C\", \"C++\", \"C#\", \"Java\", \"JavaScript\", \"TypeScript\", \"Go\", \"Rust\", \"Swift\",\n",
    "    \"Kotlin\", \"Ruby\", \"PHP\", \"Perl\", \"Objective-C\", \"Dart\", \"Haskell\", \"Lisp\",\n",
    "    \"Scheme\", \"F#\", \"OCaml\", \"Racket\", \"Erlang\", \"Elixir\", \"Assembly\", \"Zig\",\n",
    "    \"V\", \"Nim\", \"Ada\", \"Fortran\", \"COBOL\", \"R\", \"MATLAB\", \"Julia\", \"Solidity\",\n",
    "    \"VHDL\", \"Verilog\", \"WebAssembly\", \"Hack\", \"VBScript\", \"Tcl\", \"REXX\", \"Bash\",\n",
    "    \"PowerShell\", \"Prolog\", \"Logtalk\",\"Python\"\n",
    "]\n",
    "\n",
    "\n",
    "for i in range (0,5):\n",
    "    print(languages[i])"
   ]
  },
  {
   "cell_type": "markdown",
   "id": "4c3711f1",
   "metadata": {},
   "source": [
    "\n",
    "- [Topics](#topics)\n",
    "# 22 list comprehension"
   ]
  },
  {
   "cell_type": "code",
   "execution_count": 59,
   "id": "85ccd4bf",
   "metadata": {},
   "outputs": [
    {
     "name": "stdout",
     "output_type": "stream",
     "text": [
      "['C', 'C++', 'Java', 'JavaScript', 'TypeScript', 'Go', 'Python']\n",
      "[1, 4, 9, 16]\n",
      "[1.4142135623730951, 1.7320508075688772, 2.0]\n"
     ]
    }
   ],
   "source": [
    "languages_i_know=[x for x in languages if (x==\"C\" or x==\"C++\" or x==\"Go\" or x==\"Java\" or x==\"JavaScript\" or x==\"TypeScript\" or x==\"Python\")]\n",
    "\n",
    "print(languages_i_know)\n",
    "\n",
    "square_=[x**2 for x in range (1,5,1)]\n",
    "print(square_)\n",
    "\n",
    "\n",
    "import math\n",
    "square_root=[math.sqrt(x) for x in range(2,5,1)]\n",
    "\n",
    "print(square_root)"
   ]
  },
  {
   "cell_type": "markdown",
   "id": "59b22847",
   "metadata": {},
   "source": [
    "- [Topics](#topics)\n",
    "# 23 sort list"
   ]
  },
  {
   "cell_type": "code",
   "execution_count": 62,
   "id": "b5f17923",
   "metadata": {},
   "outputs": [
    {
     "name": "stdout",
     "output_type": "stream",
     "text": [
      "[1.4142135623730951, 1.7320508075688772, 2.0]\n"
     ]
    }
   ],
   "source": [
    "square_root.sort()\n",
    "print(square_root)"
   ]
  },
  {
   "cell_type": "markdown",
   "id": "29afc603",
   "metadata": {},
   "source": [
    "- [Topics](#topics)\n",
    "# 24 copy list"
   ]
  },
  {
   "cell_type": "code",
   "execution_count": 65,
   "id": "e21abc09",
   "metadata": {},
   "outputs": [
    {
     "name": "stdout",
     "output_type": "stream",
     "text": [
      "['C', 'C++', 'C#', 'Java', 'JavaScript', 'TypeScript', 'Go', 'Rust', 'Swift', 'Kotlin', 'Ruby', 'PHP', 'Perl', 'Objective-C', 'Dart', 'Haskell', 'Lisp', 'Scheme', 'F#', 'OCaml', 'Racket', 'Erlang', 'Elixir', 'Assembly', 'Zig', 'V', 'Nim', 'Ada', 'Fortran', 'COBOL', 'R', 'MATLAB', 'Julia', 'Solidity', 'VHDL', 'Verilog', 'WebAssembly', 'Hack', 'VBScript', 'Tcl', 'REXX', 'Bash', 'PowerShell', 'Prolog', 'Logtalk', 'Python']\n",
      "['C', 'C++', 'C#', 'Java', 'JavaScript', 'TypeScript', 'Go', 'Rust', 'Swift', 'Kotlin', 'Ruby', 'PHP', 'Perl', 'Objective-C', 'Dart', 'Haskell', 'Lisp', 'Scheme', 'F#', 'OCaml', 'Racket', 'Erlang', 'Elixir', 'Assembly', 'Zig', 'V', 'Nim', 'Ada', 'Fortran', 'COBOL', 'R', 'MATLAB', 'Julia', 'Solidity', 'VHDL', 'Verilog', 'WebAssembly', 'Hack', 'VBScript', 'Tcl', 'REXX', 'Bash', 'PowerShell', 'Prolog', 'Logtalk', 'Python'] \n",
      " ['C', 'C#', 'C#', 'Java', 'JavaScript', 'TypeScript', 'Go', 'Rust', 'Swift', 'Kotlin', 'Ruby', 'PHP', 'Perl', 'Objective-C', 'Dart', 'Haskell', 'Lisp', 'Scheme', 'F#', 'OCaml', 'Racket', 'Erlang', 'Elixir', 'Assembly', 'Zig', 'V', 'Nim', 'Ada', 'Fortran', 'COBOL', 'R', 'MATLAB', 'Julia', 'Solidity', 'VHDL', 'Verilog', 'WebAssembly', 'Hack', 'VBScript', 'Tcl', 'REXX', 'Bash', 'PowerShell', 'Prolog', 'Logtalk', 'Python']\n"
     ]
    }
   ],
   "source": [
    "copy_languages=languages.copy()\n",
    "print(copy_languages)\n",
    "\n",
    "copy_languages[1]=\"C#\"\n",
    "print(languages,\"\\n\",copy_languages)"
   ]
  },
  {
   "cell_type": "markdown",
   "id": "776b96c5",
   "metadata": {},
   "source": [
    "- [Topics](#topics)\n",
    "# 25 deepcopy"
   ]
  },
  {
   "cell_type": "code",
   "execution_count": null,
   "id": "faa7c0d1",
   "metadata": {},
   "outputs": [],
   "source": []
  },
  {
   "cell_type": "markdown",
   "id": "411d3ea7",
   "metadata": {},
   "source": [
    "- [Topics](#topics)\n",
    "# 26 join list"
   ]
  },
  {
   "cell_type": "code",
   "execution_count": 82,
   "id": "268a10ec",
   "metadata": {},
   "outputs": [
    {
     "name": "stdout",
     "output_type": "stream",
     "text": [
      "['Docker', 'Podman', 'Kubernetes', 'Jenkins']\n"
     ]
    }
   ],
   "source": [
    "l1=[\"Docker\",\"Podman\"]\n",
    "l2=[\"Kubernetes\",\"Jenkins\"]\n",
    "l3=l1+l2\n",
    "print(l3)"
   ]
  },
  {
   "cell_type": "markdown",
   "id": "df9c939f",
   "metadata": {},
   "source": [
    "- [Topics](#topics)\n",
    "# 27 nested list"
   ]
  },
  {
   "cell_type": "code",
   "execution_count": 83,
   "id": "476b8d12",
   "metadata": {},
   "outputs": [
    {
     "name": "stdout",
     "output_type": "stream",
     "text": [
      "[['Docker', 'Podman'], ['Kubernetes', 'Jenkins'], ['Docker', 'Podman', 'Kubernetes', 'Jenkins']]\n"
     ]
    }
   ],
   "source": [
    "l4=[l1,l2,l3]\n",
    "print(l4)"
   ]
  },
  {
   "cell_type": "code",
   "execution_count": 84,
   "id": "cca0b345",
   "metadata": {},
   "outputs": [
    {
     "name": "stdout",
     "output_type": "stream",
     "text": [
      "Docker\n"
     ]
    }
   ],
   "source": [
    "print(l4[0][0])"
   ]
  },
  {
   "cell_type": "code",
   "execution_count": 85,
   "id": "077cf36f",
   "metadata": {},
   "outputs": [
    {
     "name": "stdout",
     "output_type": "stream",
     "text": [
      "['Docker', 'Podman']\n"
     ]
    }
   ],
   "source": [
    "print(l4[0][0:])"
   ]
  },
  {
   "cell_type": "code",
   "execution_count": 86,
   "id": "42bd59e3",
   "metadata": {},
   "outputs": [
    {
     "name": "stdout",
     "output_type": "stream",
     "text": [
      "['Docker']\n"
     ]
    }
   ],
   "source": [
    "print(l4[0][:1])"
   ]
  },
  {
   "cell_type": "code",
   "execution_count": 87,
   "id": "286c2ae9",
   "metadata": {},
   "outputs": [
    {
     "name": "stdout",
     "output_type": "stream",
     "text": [
      "[['Docker', 'Podman'], ['Kubernetes', 'Jenkins'], ['Docker', 'Podman', 'Kubernetes', 'Jenkins']]\n"
     ]
    }
   ],
   "source": [
    "print(l4[0:][0:])"
   ]
  },
  {
   "cell_type": "code",
   "execution_count": 88,
   "id": "41e4f14f",
   "metadata": {},
   "outputs": [
    {
     "name": "stdout",
     "output_type": "stream",
     "text": [
      "[['Kubernetes', 'Jenkins']]\n"
     ]
    }
   ],
   "source": [
    "print(l4[1:][0:1])"
   ]
  },
  {
   "cell_type": "code",
   "execution_count": 89,
   "id": "4ae5dfc2",
   "metadata": {},
   "outputs": [
    {
     "name": "stdout",
     "output_type": "stream",
     "text": [
      "[['Docker', 'Podman', 'Kubernetes', 'Jenkins']]\n"
     ]
    }
   ],
   "source": [
    "print(l4[1:][1:])"
   ]
  },
  {
   "cell_type": "code",
   "execution_count": 90,
   "id": "c4b2ceae",
   "metadata": {},
   "outputs": [
    {
     "name": "stdout",
     "output_type": "stream",
     "text": [
      "[['Docker', 'Podman'], ['Kubernetes', 'Jenkins'], ['Github', 'Gitlab']]\n"
     ]
    }
   ],
   "source": [
    "l5=[[\"Docker\",\"Podman\"],[\"Kubernetes\",\"Jenkins\"],[\"Github\",\"Gitlab\"]]\n",
    "print(l5)"
   ]
  },
  {
   "cell_type": "code",
   "execution_count": 93,
   "id": "040694e8",
   "metadata": {},
   "outputs": [
    {
     "name": "stdout",
     "output_type": "stream",
     "text": [
      "[['Kubernetes', 'Jenkins'], ['Github', 'Gitlab']]\n"
     ]
    }
   ],
   "source": [
    "print(l5[1:][0:])"
   ]
  },
  {
   "cell_type": "markdown",
   "id": "b06b4345",
   "metadata": {},
   "source": [
    "- [Topics](#topics)\n",
    "# 28 tuple creation"
   ]
  },
  {
   "cell_type": "code",
   "execution_count": 94,
   "id": "ea0f0bcc",
   "metadata": {},
   "outputs": [
    {
     "name": "stdout",
     "output_type": "stream",
     "text": [
      "(1, 2, 3, 4, 5)\n"
     ]
    }
   ],
   "source": [
    "t1=(1,2,3,4,5)\n",
    "print(t1)"
   ]
  },
  {
   "cell_type": "code",
   "execution_count": 95,
   "id": "c33e35e2",
   "metadata": {},
   "outputs": [
    {
     "name": "stdout",
     "output_type": "stream",
     "text": [
      "(('One', 1), ('Two', 2), ('Three', 3))\n"
     ]
    }
   ],
   "source": [
    "t2=((\"One\",1),(\"Two\",2),(\"Three\",3))\n",
    "print(t2)"
   ]
  },
  {
   "cell_type": "markdown",
   "id": "ff3c3aae",
   "metadata": {},
   "source": [
    "- [Topics](#topics)\n",
    "# 29 access tuple "
   ]
  },
  {
   "cell_type": "code",
   "execution_count": 96,
   "id": "3c94510e",
   "metadata": {},
   "outputs": [
    {
     "name": "stdout",
     "output_type": "stream",
     "text": [
      "(('One', 1), ('Two', 2), ('Three', 3))\n"
     ]
    }
   ],
   "source": [
    "print(t2[0:])"
   ]
  },
  {
   "cell_type": "markdown",
   "id": "9a5a6329",
   "metadata": {},
   "source": [
    "- [Topics](#topics)\n",
    "# 30 add element in tuple"
   ]
  },
  {
   "cell_type": "code",
   "execution_count": 98,
   "id": "6807a579",
   "metadata": {},
   "outputs": [
    {
     "name": "stdout",
     "output_type": "stream",
     "text": [
      "(('One', 1), ('Two', 2), ('Three', 3), 'Four', 4, 'Four', 4)\n"
     ]
    }
   ],
   "source": [
    "t2=t2+((\"Four\",4))\n",
    "print(t2)"
   ]
  },
  {
   "cell_type": "markdown",
   "id": "cfcd8d83",
   "metadata": {},
   "source": [
    "- [Topics](#topics)\n",
    "# 31 immutable situation"
   ]
  },
  {
   "cell_type": "code",
   "execution_count": 100,
   "id": "2417c0f6",
   "metadata": {},
   "outputs": [
    {
     "ename": "TypeError",
     "evalue": "'tuple' object does not support item assignment",
     "output_type": "error",
     "traceback": [
      "\u001b[31m---------------------------------------------------------------------------\u001b[39m",
      "\u001b[31mTypeError\u001b[39m                                 Traceback (most recent call last)",
      "\u001b[36mCell\u001b[39m\u001b[36m \u001b[39m\u001b[32mIn[100]\u001b[39m\u001b[32m, line 1\u001b[39m\n\u001b[32m----> \u001b[39m\u001b[32m1\u001b[39m \u001b[43mt2\u001b[49m\u001b[43m[\u001b[49m\u001b[32;43m1\u001b[39;49m\u001b[43m]\u001b[49m=\u001b[33m\"\u001b[39m\u001b[33mhello\u001b[39m\u001b[33m\"\u001b[39m \u001b[38;5;66;03m# update not possible due to immutable architecture of tuple but can add any thing. where list does not follow immutable architecture\u001b[39;00m\n",
      "\u001b[31mTypeError\u001b[39m: 'tuple' object does not support item assignment"
     ]
    }
   ],
   "source": [
    "t2[1]=\"hello\" # update not possible due to immutable architecture of tuple but can add any thing. where list does not follow immutable architecture"
   ]
  },
  {
   "cell_type": "markdown",
   "id": "e0973a36",
   "metadata": {},
   "source": [
    "- [Topics](#topics)\n",
    "# 32 unpack tuple"
   ]
  },
  {
   "cell_type": "code",
   "execution_count": 101,
   "id": "6dd88437",
   "metadata": {},
   "outputs": [
    {
     "name": "stdout",
     "output_type": "stream",
     "text": [
      "('One', 1)\n",
      "('Two', 2)\n",
      "('Three', 3)\n",
      "['Four', 4, 'Four', 4]\n"
     ]
    }
   ],
   "source": [
    "one,two,three,*others=t2\n",
    "print(one)\n",
    "print(two)\n",
    "print(three)\n",
    "print(others)"
   ]
  },
  {
   "cell_type": "markdown",
   "id": "8167d322",
   "metadata": {},
   "source": [
    "- [Topics](#topics)\n",
    "# 33 iteration on tuple"
   ]
  },
  {
   "cell_type": "code",
   "execution_count": 103,
   "id": "94421c73",
   "metadata": {},
   "outputs": [
    {
     "name": "stdout",
     "output_type": "stream",
     "text": [
      "('One', 1)\n",
      "('Two', 2)\n",
      "('Three', 3)\n",
      "Four\n",
      "4\n",
      "Four\n",
      "4\n"
     ]
    }
   ],
   "source": [
    "for i in t2:\n",
    "    print(i)"
   ]
  },
  {
   "cell_type": "markdown",
   "id": "49314aaa",
   "metadata": {},
   "source": [
    "- [Topics](#topics)\n",
    "# 34 join tuple"
   ]
  },
  {
   "cell_type": "code",
   "execution_count": 104,
   "id": "525df041",
   "metadata": {},
   "outputs": [
    {
     "name": "stdout",
     "output_type": "stream",
     "text": [
      "(('One', 1), ('Two', 2), ('Three', 3), 'Four', 4, 'Four', 4, ('One', 1), ('Two', 2), ('Three', 3), 'Four', 4, 'Four', 4)\n"
     ]
    }
   ],
   "source": [
    "t3=t2+t2\n",
    "print(t3)"
   ]
  },
  {
   "cell_type": "markdown",
   "id": "e45aed61",
   "metadata": {},
   "source": [
    "- [Topics](#topics)\n",
    "# 35 count tuple"
   ]
  },
  {
   "cell_type": "code",
   "execution_count": 109,
   "id": "58b46920",
   "metadata": {},
   "outputs": [
    {
     "name": "stdout",
     "output_type": "stream",
     "text": [
      "2\n"
     ]
    }
   ],
   "source": [
    "print(t3.count((\"One\",1))) # tuple.count(search item return the count of item)"
   ]
  },
  {
   "cell_type": "markdown",
   "id": "ed912b18",
   "metadata": {},
   "source": [
    "- [Topics](#topics)\n",
    "# 36 index tuple"
   ]
  },
  {
   "cell_type": "code",
   "execution_count": 111,
   "id": "621d5671",
   "metadata": {},
   "outputs": [
    {
     "name": "stdout",
     "output_type": "stream",
     "text": [
      "0\n",
      "4\n"
     ]
    }
   ],
   "source": [
    "print(t3.index((\"One\",1)))\n",
    "print(t3.index(4))"
   ]
  },
  {
   "cell_type": "markdown",
   "id": "639f645f",
   "metadata": {},
   "source": [
    "- [Topics](#topics)\n",
    "# 37 set creation"
   ]
  },
  {
   "cell_type": "code",
   "execution_count": 112,
   "id": "38ae1c46",
   "metadata": {},
   "outputs": [
    {
     "name": "stdout",
     "output_type": "stream",
     "text": [
      "{1, 2, 3, 4, 5, 6}\n"
     ]
    }
   ],
   "source": [
    "st1={1,2,3,4,6,5}\n",
    "print(st1)"
   ]
  },
  {
   "cell_type": "markdown",
   "id": "7305017c",
   "metadata": {},
   "source": [
    "- [Topics](#topics)\n",
    "# 38 access element set\n"
   ]
  },
  {
   "cell_type": "code",
   "execution_count": 113,
   "id": "fe554815",
   "metadata": {},
   "outputs": [
    {
     "name": "stdout",
     "output_type": "stream",
     "text": [
      "1\n",
      "2\n",
      "3\n",
      "4\n",
      "5\n",
      "6\n"
     ]
    }
   ],
   "source": [
    "for i in st1:\n",
    "    print(i)"
   ]
  },
  {
   "cell_type": "code",
   "execution_count": 114,
   "id": "d0787502",
   "metadata": {},
   "outputs": [
    {
     "name": "stdout",
     "output_type": "stream",
     "text": [
      "True\n"
     ]
    }
   ],
   "source": [
    "print(1 in st1)"
   ]
  },
  {
   "cell_type": "markdown",
   "id": "7a60c4fa",
   "metadata": {},
   "source": [
    "- [Topics](#topics)\n",
    "# 39 add set"
   ]
  },
  {
   "cell_type": "code",
   "execution_count": 117,
   "id": "6de128a0",
   "metadata": {},
   "outputs": [
    {
     "name": "stdout",
     "output_type": "stream",
     "text": [
      "{1, 2, 3, 4, 5, 6}\n",
      "{1, 2, 3, 4, 5, 6, 7}\n"
     ]
    }
   ],
   "source": [
    "st1.add(6)\n",
    "print(st1)\n",
    "st1.add(7)\n",
    "print(st1)"
   ]
  },
  {
   "cell_type": "code",
   "execution_count": 127,
   "id": "eebc3c5c",
   "metadata": {},
   "outputs": [
    {
     "name": "stdout",
     "output_type": "stream",
     "text": [
      "Hello World\n",
      "3\n"
     ]
    }
   ],
   "source": [
    "i1=\"      Hello World     \"\n",
    "print(i1.strip())\n",
    "\n",
    "ans=0\n",
    "for i in i1:\n",
    "    if i==\"a\" or i==\"e\" or i==\"i\" or i==\"o\" or i==\"u\":\n",
    "        ans+=1\n",
    "\n",
    "print(ans)\n"
   ]
  },
  {
   "cell_type": "markdown",
   "id": "a81dcf61",
   "metadata": {},
   "source": [
    "- [Topics](#topics)\n",
    "# 40 update set"
   ]
  },
  {
   "cell_type": "code",
   "execution_count": 146,
   "id": "ace393c2",
   "metadata": {},
   "outputs": [
    {
     "name": "stdout",
     "output_type": "stream",
     "text": [
      "{1, 2, 3, 4, 5, 6, 7}\n",
      "{1, 2, 3, 4, 5, 6, 7, 8}\n",
      "{1, 2, 3, 4, 5, 6, 7, 8, 10, 11, 12, 13, 15}\n"
     ]
    }
   ],
   "source": [
    "st2={1,2,3,4,5,6}\n",
    "st2.add(7)\n",
    "print(st2)\n",
    "st2.update({7,8})\n",
    "print(st2)\n",
    "st2.update({1,10,11,12,13,15})\n",
    "print(st2)"
   ]
  },
  {
   "cell_type": "markdown",
   "id": "26aa1c29",
   "metadata": {},
   "source": [
    "- [Topics](#topics)\n",
    "# 50 remove set"
   ]
  },
  {
   "cell_type": "code",
   "execution_count": 151,
   "id": "4c7edf4c",
   "metadata": {},
   "outputs": [
    {
     "name": "stdout",
     "output_type": "stream",
     "text": [
      "{1, 3, 4, 5, 6, 7, 8, 10, 11, 12, 13, 15}\n"
     ]
    }
   ],
   "source": [
    "if 2 in st2:\n",
    "    st2.remove(2)\n",
    "print(st2)"
   ]
  },
  {
   "cell_type": "markdown",
   "id": "420375e8",
   "metadata": {},
   "source": [
    "- [Topics](#topics)\n",
    "# 51 discard set"
   ]
  },
  {
   "cell_type": "code",
   "execution_count": 154,
   "id": "8df8d490",
   "metadata": {},
   "outputs": [
    {
     "name": "stdout",
     "output_type": "stream",
     "text": [
      "{1, 3, 4, 5, 6, 7, 8, 10, 11, 12, 13, 15}\n"
     ]
    }
   ],
   "source": [
    "st2.discard(2)\n",
    "print(st2)"
   ]
  },
  {
   "cell_type": "markdown",
   "id": "8e3e4fa5",
   "metadata": {},
   "source": [
    "- [Topics](#topics)\n",
    "# 52 pop set"
   ]
  },
  {
   "cell_type": "code",
   "execution_count": 156,
   "id": "14f903fb",
   "metadata": {},
   "outputs": [
    {
     "name": "stdout",
     "output_type": "stream",
     "text": [
      "3\n",
      "4\n"
     ]
    }
   ],
   "source": [
    "pop_e=st2.pop()\n",
    "print(pop_e)\n",
    "print(st2.pop())"
   ]
  },
  {
   "cell_type": "markdown",
   "id": "d4d7168b",
   "metadata": {},
   "source": [
    "- [Topics](#topics)\n",
    "# 53 iteration on set"
   ]
  },
  {
   "cell_type": "code",
   "execution_count": 157,
   "id": "8bba8aa5",
   "metadata": {},
   "outputs": [
    {
     "name": "stdout",
     "output_type": "stream",
     "text": [
      "5\n",
      "6\n",
      "7\n",
      "8\n",
      "10\n",
      "11\n",
      "12\n",
      "13\n",
      "15\n"
     ]
    }
   ],
   "source": [
    "for i in st2:\n",
    "    print(i)"
   ]
  },
  {
   "cell_type": "markdown",
   "id": "990452f7",
   "metadata": {},
   "source": [
    "- [Topics](#topics)\n",
    "# 54 join/union set"
   ]
  },
  {
   "cell_type": "code",
   "execution_count": 159,
   "id": "45a63e04",
   "metadata": {},
   "outputs": [
    {
     "name": "stdout",
     "output_type": "stream",
     "text": [
      "{5, 6, 7, 8, 10, 11, 12, 13, 15}\n"
     ]
    }
   ],
   "source": [
    "st3=st2 | st2\n",
    "print(st3)"
   ]
  },
  {
   "cell_type": "markdown",
   "id": "dbfb0945",
   "metadata": {},
   "source": [
    "\n",
    "- [Topics](#topics)\n",
    "# 55 intersection set\n"
   ]
  },
  {
   "cell_type": "code",
   "execution_count": 160,
   "id": "bf428721",
   "metadata": {},
   "outputs": [
    {
     "name": "stdout",
     "output_type": "stream",
     "text": [
      "{5, 6, 7, 8, 10, 11, 12, 13, 15}\n"
     ]
    }
   ],
   "source": [
    "print(st2 & st3)"
   ]
  },
  {
   "cell_type": "markdown",
   "id": "d6af2b77",
   "metadata": {},
   "source": [
    "- [Topics](#topics)\n",
    "# 56 set copy "
   ]
  },
  {
   "cell_type": "code",
   "execution_count": 161,
   "id": "4e9d1286",
   "metadata": {},
   "outputs": [
    {
     "name": "stdout",
     "output_type": "stream",
     "text": [
      "{5, 6, 7, 8, 10, 11, 12, 13, 15}\n",
      "set()\n"
     ]
    }
   ],
   "source": [
    "st4=st3.copy()\n",
    "print(st4)\n",
    "st4.clear()\n",
    "print(st4)"
   ]
  },
  {
   "cell_type": "markdown",
   "id": "cd14c1c6",
   "metadata": {},
   "source": [
    "- [Topics](#topics)\n",
    "# 57 dictionary creation"
   ]
  },
  {
   "cell_type": "code",
   "execution_count": 163,
   "id": "c7b97171",
   "metadata": {},
   "outputs": [
    {
     "name": "stdout",
     "output_type": "stream",
     "text": [
      "{'one': 1, 'two': 2, 'three': 2}\n"
     ]
    }
   ],
   "source": [
    "dict1={'one':1,'two':2,'three':2}\n",
    "print(dict1)"
   ]
  },
  {
   "cell_type": "markdown",
   "id": "6975b673",
   "metadata": {},
   "source": [
    "- [Topics](#topics)\n",
    "# 58 dict access items"
   ]
  },
  {
   "cell_type": "code",
   "execution_count": 164,
   "id": "b2bb4660",
   "metadata": {},
   "outputs": [
    {
     "name": "stdout",
     "output_type": "stream",
     "text": [
      "1\n"
     ]
    }
   ],
   "source": [
    "print(dict1['one'])"
   ]
  },
  {
   "cell_type": "markdown",
   "id": "5d08f255",
   "metadata": {},
   "source": [
    "- [Topics](#topics)\n",
    "# 59 dict change items"
   ]
  },
  {
   "cell_type": "code",
   "execution_count": 165,
   "id": "b42bf06e",
   "metadata": {},
   "outputs": [
    {
     "name": "stdout",
     "output_type": "stream",
     "text": [
      "{'one': 1000000000, 'two': 2, 'three': 2}\n"
     ]
    }
   ],
   "source": [
    "dict1['one']=1000000000\n",
    "print(dict1)"
   ]
  },
  {
   "cell_type": "markdown",
   "id": "64f6403b",
   "metadata": {},
   "source": [
    "- [Topics](#topics)\n",
    "# 60 dictionary add items"
   ]
  },
  {
   "cell_type": "code",
   "execution_count": 166,
   "id": "8022ef43",
   "metadata": {},
   "outputs": [
    {
     "name": "stdout",
     "output_type": "stream",
     "text": [
      "{'one': 1000000000, 'two': 2, 'three': 2, 'four': 4}\n"
     ]
    }
   ],
   "source": [
    "dict1[\"four\"]=4\n",
    "print(dict1)"
   ]
  },
  {
   "cell_type": "markdown",
   "id": "722cafb1",
   "metadata": {},
   "source": [
    "- [Topics](#topics)\n",
    "# 61 dictionary pop items"
   ]
  },
  {
   "cell_type": "code",
   "execution_count": 167,
   "id": "97f95827",
   "metadata": {},
   "outputs": [
    {
     "name": "stdout",
     "output_type": "stream",
     "text": [
      "{'two': 2, 'three': 2, 'four': 4}\n"
     ]
    }
   ],
   "source": [
    "rm_items=dict1.pop(\"one\")\n",
    "print(dict1)"
   ]
  },
  {
   "cell_type": "markdown",
   "id": "a827dfd6",
   "metadata": {},
   "source": [
    "- [Topics](#topics)\n",
    "# 62 dictionary pop last item\n"
   ]
  },
  {
   "cell_type": "code",
   "execution_count": 168,
   "id": "5a34268a",
   "metadata": {},
   "outputs": [
    {
     "name": "stdout",
     "output_type": "stream",
     "text": [
      "{'two': 2, 'three': 2}\n"
     ]
    }
   ],
   "source": [
    "rm_item=dict1.popitem()\n",
    "print(dict1)"
   ]
  },
  {
   "cell_type": "markdown",
   "id": "c09eacb4",
   "metadata": {},
   "source": [
    "- [Topics](#topics)\n",
    "# 63 dictionary iteration "
   ]
  },
  {
   "cell_type": "code",
   "execution_count": 169,
   "id": "79105234",
   "metadata": {},
   "outputs": [
    {
     "name": "stdout",
     "output_type": "stream",
     "text": [
      "two \t 2\n",
      "three \t 2\n"
     ]
    }
   ],
   "source": [
    "for key,value in dict1.items():\n",
    "    print(key,\"\\t\",value)"
   ]
  }
 ],
 "metadata": {
  "kernelspec": {
   "display_name": "Python 3",
   "language": "python",
   "name": "python3"
  },
  "language_info": {
   "codemirror_mode": {
    "name": "ipython",
    "version": 3
   },
   "file_extension": ".py",
   "mimetype": "text/x-python",
   "name": "python",
   "nbconvert_exporter": "python",
   "pygments_lexer": "ipython3",
   "version": "3.11.13"
  }
 },
 "nbformat": 4,
 "nbformat_minor": 5
}
