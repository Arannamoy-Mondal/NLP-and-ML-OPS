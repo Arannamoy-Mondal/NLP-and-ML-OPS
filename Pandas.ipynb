{
 "cells": [
  {
   "cell_type": "markdown",
   "metadata": {},
   "source": [
    "# Series and Dataframe"
   ]
  },
  {
   "cell_type": "markdown",
   "metadata": {},
   "source": [
    "Series হলো একক কলামের ডাটা স্ট্রাকচার, যা একটি লেবেলযুক্ত ইনডেক্সসহ এক-মাত্রিক (1D) অ্যারে-এর মতো কাজ করে। এটি সংখ্যাসূচক, স্ট্রিং, বা অন্যান্য ধরনের ডাটা রাখতে পারে।\n",
    "\n",
    "Series-এর বৈশিষ্ট্যঃ\n",
    "\n",
    "এটি NumPy অ্যারের মতো কাজ করে, তবে ইনডেক্সিং সুবিধা বেশি।\n",
    "\n",
    "কাস্টম ইনডেক্স ব্যবহার করা যায়।\n",
    "\n",
    "বিভিন্ন ধরনের অপারেশন সহজেই করা যায়।\n",
    "\n",
    "DataFrame হলো একাধিক Series-এর সমন্বয়ে তৈরি একটি টেবিলের মতো (2D) ডাটা স্ট্রাকচার। এটি একাধিক কলাম ও সারি ধারণ করতে পারে।\n",
    "\n",
    "DataFrame-এর বৈশিষ্ট্যঃ\n",
    "\n",
    "এটি একাধিক কলাম এবং সারি নিয়ে তৈরি হয়।\n",
    "\n",
    "প্রতিটি কলাম এক ধরনের ডাটা রাখতে পারে (যেমন সংখ্যা, স্ট্রিং, বা মিশ্র ডাটা)।\n",
    "\n",
    "CSV, Excel, SQL ইত্যাদি ফাইল থেকে সহজেই ডাটা লোড করা যায়।\n",
    "\n"
   ]
  },
  {
   "cell_type": "code",
   "execution_count": 1,
   "metadata": {},
   "outputs": [
    {
     "name": "stdout",
     "output_type": "stream",
     "text": [
      "Requirement already satisfied: pandas in ./.venv/lib/python3.12/site-packages (2.2.3)\n",
      "Requirement already satisfied: numpy>=1.26.0 in ./.venv/lib/python3.12/site-packages (from pandas) (2.2.4)\n",
      "Requirement already satisfied: python-dateutil>=2.8.2 in ./.venv/lib/python3.12/site-packages (from pandas) (2.9.0.post0)\n",
      "Requirement already satisfied: pytz>=2020.1 in ./.venv/lib/python3.12/site-packages (from pandas) (2025.2)\n",
      "Requirement already satisfied: tzdata>=2022.7 in ./.venv/lib/python3.12/site-packages (from pandas) (2025.2)\n",
      "Requirement already satisfied: six>=1.5 in ./.venv/lib/python3.12/site-packages (from python-dateutil>=2.8.2->pandas) (1.17.0)\n"
     ]
    }
   ],
   "source": [
    "# pandas install\n",
    "!pip install pandas"
   ]
  },
  {
   "cell_type": "code",
   "execution_count": null,
   "metadata": {},
   "outputs": [],
   "source": []
  }
 ],
 "metadata": {
  "kernelspec": {
   "display_name": ".venv",
   "language": "python",
   "name": "python3"
  },
  "language_info": {
   "codemirror_mode": {
    "name": "ipython",
    "version": 3
   },
   "file_extension": ".py",
   "mimetype": "text/x-python",
   "name": "python",
   "nbconvert_exporter": "python",
   "pygments_lexer": "ipython3",
   "version": "3.12.3"
  }
 },
 "nbformat": 4,
 "nbformat_minor": 2
}
