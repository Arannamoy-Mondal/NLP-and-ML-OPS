{
 "cells": [
  {
   "cell_type": "code",
   "execution_count": 1,
   "id": "15505b28",
   "metadata": {},
   "outputs": [
    {
     "name": "stdout",
     "output_type": "stream",
     "text": [
      "[1, 4, 9, 16, 25]\n"
     ]
    }
   ],
   "source": [
    "# Example-1: squaring numbers\n",
    "numbers=[1,2,3,4,5]\n",
    "squared_numbers=[x**2 for x in numbers]\n",
    "print(squared_numbers)"
   ]
  },
  {
   "cell_type": "code",
   "execution_count": 4,
   "id": "8310b6c7",
   "metadata": {},
   "outputs": [
    {
     "name": "stdout",
     "output_type": "stream",
     "text": [
      "[2, 4] [1, 3, 5]\n"
     ]
    }
   ],
   "source": [
    "# Example-2: filtering numbers\n",
    "even_numbers=[x for x in numbers if x%2==0]\n",
    "odd_numbers=[x for x in numbers if x%2!=0]\n",
    "print(even_numbers,odd_numbers)"
   ]
  },
  {
   "cell_type": "code",
   "execution_count": 5,
   "id": "8d9202d0",
   "metadata": {},
   "outputs": [
    {
     "name": "stdout",
     "output_type": "stream",
     "text": [
      "[('A', 10), ('B', 20), ('C', 30)]\n"
     ]
    }
   ],
   "source": [
    "# Example-3: make tuples from list\n",
    "sign=[\"A\",\"B\",\"C\"]\n",
    "value=[10,20,30]\n",
    "pairs=[(x,y) for x,y in zip(sign,value)]\n",
    "print(pairs)"
   ]
  }
 ],
 "metadata": {
  "kernelspec": {
   "display_name": ".venv",
   "language": "python",
   "name": "python3"
  },
  "language_info": {
   "codemirror_mode": {
    "name": "ipython",
    "version": 3
   },
   "file_extension": ".py",
   "mimetype": "text/x-python",
   "name": "python",
   "nbconvert_exporter": "python",
   "pygments_lexer": "ipython3",
   "version": "3.12.3"
  }
 },
 "nbformat": 4,
 "nbformat_minor": 5
}
