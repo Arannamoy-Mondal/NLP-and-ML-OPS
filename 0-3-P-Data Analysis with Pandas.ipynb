{
 "cells": [
  {
   "cell_type": "code",
   "execution_count": null,
   "id": "776087e4",
   "metadata": {},
   "outputs": [
    {
     "data": {
      "text/plain": [
       "0    10\n",
       "1    20\n",
       "2    30\n",
       "3    40\n",
       "4    50\n",
       "dtype: int64"
      ]
     },
     "execution_count": 3,
     "metadata": {},
     "output_type": "execute_result"
    }
   ],
   "source": [
    "import pandas as pd;\n",
    "\n",
    "# creating serires from list\n",
    "data=[10,20,30,40,50]\n",
    "pd.Series(data)"
   ]
  },
  {
   "cell_type": "code",
   "execution_count": 8,
   "id": "98a59eff",
   "metadata": {},
   "outputs": [
    {
     "name": "stdout",
     "output_type": "stream",
     "text": [
      "a    10\n",
      "b    20\n",
      "c    30\n",
      "d    40\n",
      "e    50\n",
      "dtype: int64\n"
     ]
    }
   ],
   "source": [
    "# creating serires from list from custom index\n",
    "index=['a','b','c','d','e']\n",
    "series_data=pd.Series(data,index=index)\n",
    "print(series_data)"
   ]
  },
  {
   "cell_type": "code",
   "execution_count": 10,
   "id": "91a8963e",
   "metadata": {},
   "outputs": [
    {
     "name": "stdout",
     "output_type": "stream",
     "text": [
      "10\n",
      "10\n"
     ]
    }
   ],
   "source": [
    "# access element in series\n",
    "print(series_data['a'])\n",
    "print(pd.Series(data)[0])"
   ]
  },
  {
   "cell_type": "code",
   "execution_count": 11,
   "id": "ee0088ec",
   "metadata": {},
   "outputs": [
    {
     "name": "stdout",
     "output_type": "stream",
     "text": [
      "a     20\n",
      "b     40\n",
      "c     60\n",
      "d     80\n",
      "e    100\n",
      "dtype: int64\n"
     ]
    }
   ],
   "source": [
    "# perform arithmatic operation \n",
    "\n",
    "print(series_data*2)"
   ]
  },
  {
   "cell_type": "code",
   "execution_count": null,
   "id": "0cf72031",
   "metadata": {},
   "outputs": [
    {
     "name": "stdout",
     "output_type": "stream",
     "text": [
      "40\n",
      "Multiply 2 only for even element:\n",
      " 0    10\n",
      "1    20\n",
      "2    30\n",
      "3    40\n",
      "4    50\n",
      "dtype: int64\n"
     ]
    }
   ],
   "source": [
    "# perform arithmatic custom operation\n",
    "\n",
    "print(series_data['b']*2)\n",
    "\n",
    "series=pd.Series(data)\n",
    "print(\"Multiply 2 only for even element:\\n\",\n",
    "      series[series%2==0])\n",
    "\n"
   ]
  },
  {
   "cell_type": "code",
   "execution_count": null,
   "id": "b619ac8e",
   "metadata": {},
   "outputs": [
    {
     "name": "stdout",
     "output_type": "stream",
     "text": [
      "Print all even element 0    10\n",
      "1    20\n",
      "2    30\n",
      "3    40\n",
      "4    50\n",
      "dtype: int64\n",
      "Print all odd element Series([], dtype: int64)\n"
     ]
    }
   ],
   "source": [
    "# filtering series\n",
    "\n",
    "print(\"Print all even element\\n\",series[series%2==0])\n",
    "print(\"Print all odd element\\n\",series[series%2!=0])"
   ]
  },
  {
   "cell_type": "code",
   "execution_count": 25,
   "id": "558771bd",
   "metadata": {},
   "outputs": [
    {
     "name": "stdout",
     "output_type": "stream",
     "text": [
      "Mean:  30.0\n",
      "Mode:  0    10\n",
      "1    20\n",
      "2    30\n",
      "3    40\n",
      "4    50\n",
      "dtype: int64\n",
      "Standard deviation 15.811388300841896\n"
     ]
    }
   ],
   "source": [
    "# statistical operation\n",
    "print('Mean: ',series.mean())\n",
    "print('Mode: ',series.mode())\n",
    "print('Standard deviation',series.std())"
   ]
  },
  {
   "cell_type": "code",
   "execution_count": 27,
   "id": "5515efc1",
   "metadata": {},
   "outputs": [
    {
     "name": "stdout",
     "output_type": "stream",
     "text": [
      "RangeIndex(start=0, stop=5, step=1)\n"
     ]
    }
   ],
   "source": [
    "# Accessing the index level\n",
    "print(series.index)"
   ]
  },
  {
   "cell_type": "code",
   "execution_count": 28,
   "id": "95ee6e40",
   "metadata": {},
   "outputs": [
    {
     "name": "stdout",
     "output_type": "stream",
     "text": [
      "[10 20 30 40 50]\n"
     ]
    }
   ],
   "source": [
    "# Access the value\n",
    "print(series.values)"
   ]
  },
  {
   "cell_type": "code",
   "execution_count": 30,
   "id": "d76a3069",
   "metadata": {},
   "outputs": [
    {
     "name": "stdout",
     "output_type": "stream",
     "text": [
      "count     5.000000\n",
      "mean     30.000000\n",
      "std      15.811388\n",
      "min      10.000000\n",
      "25%      20.000000\n",
      "50%      30.000000\n",
      "75%      40.000000\n",
      "max      50.000000\n",
      "dtype: float64\n"
     ]
    }
   ],
   "source": [
    "# all statistical value\n",
    "print(series.describe())"
   ]
  },
  {
   "cell_type": "code",
   "execution_count": null,
   "id": "7752380c",
   "metadata": {},
   "outputs": [
    {
     "name": "stdout",
     "output_type": "stream",
     "text": [
      "      Name Age           City\n",
      "0    Alice  25       New York\n",
      "1      Bob  30    Los Angeles\n",
      "2  Charlie  28        Chicago\n",
      "3    David  35  San Fransisco\n",
      "         Name Age      City\n",
      "count       4   4         4\n",
      "unique      4   4         4\n",
      "top     Alice  25  New York\n",
      "freq        1   1         1\n",
      "<pandas.core.groupby.generic.DataFrameGroupBy object at 0x79fb499262a0>\n"
     ]
    }
   ],
   "source": [
    "data={\n",
    "    'Name':['Alice','Bob','Charlie','David'],\n",
    "    'Age':['25','30','28','35'],\n",
    "    'City':['New York','Los Angeles','Chicago','San Fransisco']\n",
    "}\n",
    "\n",
    "df=pd.DataFrame(data)\n",
    "print(df)\n",
    "print(df.describe())\n",
    "\n",
    "# group by \n",
    "print(df.groupby('City'))"
   ]
  },
  {
   "cell_type": "code",
   "execution_count": null,
   "id": "e030fada",
   "metadata": {},
   "outputs": [
    {
     "name": "stdout",
     "output_type": "stream",
     "text": [
      "<pandas.core.groupby.generic.DataFrameGroupBy object at 0x79fb4992eb40>\n"
     ]
    }
   ],
   "source": [
    "\n",
    "\n"
   ]
  }
 ],
 "metadata": {
  "kernelspec": {
   "display_name": ".venv",
   "language": "python",
   "name": "python3"
  },
  "language_info": {
   "codemirror_mode": {
    "name": "ipython",
    "version": 3
   },
   "file_extension": ".py",
   "mimetype": "text/x-python",
   "name": "python",
   "nbconvert_exporter": "python",
   "pygments_lexer": "ipython3",
   "version": "3.12.3"
  }
 },
 "nbformat": 4,
 "nbformat_minor": 5
}
