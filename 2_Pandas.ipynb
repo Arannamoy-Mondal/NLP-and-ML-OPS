{
 "cells": [
  {
   "cell_type": "markdown",
   "id": "640ccbd9",
   "metadata": {},
   "source": [
    "# install pandas"
   ]
  },
  {
   "cell_type": "code",
   "execution_count": 3,
   "id": "39b53636",
   "metadata": {},
   "outputs": [
    {
     "name": "stdout",
     "output_type": "stream",
     "text": [
      "Requirement already satisfied: pandas in ./.venv/lib/python3.12/site-packages (2.2.3)\n",
      "Requirement already satisfied: numpy>=1.26.0 in ./.venv/lib/python3.12/site-packages (from pandas) (2.2.6)\n",
      "Requirement already satisfied: python-dateutil>=2.8.2 in ./.venv/lib/python3.12/site-packages (from pandas) (2.9.0.post0)\n",
      "Requirement already satisfied: pytz>=2020.1 in ./.venv/lib/python3.12/site-packages (from pandas) (2025.2)\n",
      "Requirement already satisfied: tzdata>=2022.7 in ./.venv/lib/python3.12/site-packages (from pandas) (2025.2)\n",
      "Requirement already satisfied: six>=1.5 in ./.venv/lib/python3.12/site-packages (from python-dateutil>=2.8.2->pandas) (1.17.0)\n"
     ]
    }
   ],
   "source": [
    "!pip install pandas"
   ]
  },
  {
   "cell_type": "markdown",
   "id": "8e6fbc11",
   "metadata": {},
   "source": [
    "- import pandas as pd alias"
   ]
  },
  {
   "cell_type": "code",
   "execution_count": 4,
   "id": "74dd9539",
   "metadata": {},
   "outputs": [],
   "source": [
    "import pandas as pd;"
   ]
  },
  {
   "cell_type": "markdown",
   "id": "17a37cb9",
   "metadata": {},
   "source": [
    "# Series"
   ]
  },
  {
   "cell_type": "code",
   "execution_count": null,
   "id": "77ddf624",
   "metadata": {},
   "outputs": [
    {
     "name": "stdout",
     "output_type": "stream",
     "text": [
      "0    1\n",
      "1    2\n",
      "2    3\n",
      "3    4\n",
      "4    5\n",
      "dtype: int64\n"
     ]
    }
   ],
   "source": [
    "data=[1,2,3,4,5]\n",
    "print(pd.Series(data)) # make series"
   ]
  },
  {
   "cell_type": "code",
   "execution_count": 6,
   "id": "aa21f832",
   "metadata": {},
   "outputs": [
    {
     "name": "stdout",
     "output_type": "stream",
     "text": [
      "0      0\n",
      "1      2\n",
      "2      4\n",
      "3      6\n",
      "4      8\n",
      "5     10\n",
      "6     12\n",
      "7     14\n",
      "8     16\n",
      "9     18\n",
      "10    20\n",
      "11    22\n",
      "12    24\n",
      "13    26\n",
      "14    28\n",
      "15    30\n",
      "16    32\n",
      "17    34\n",
      "18    36\n",
      "19    38\n",
      "20    40\n",
      "21    42\n",
      "22    44\n",
      "23    46\n",
      "24    48\n",
      "25    50\n",
      "26    52\n",
      "27    54\n",
      "28    56\n",
      "29    58\n",
      "30    60\n",
      "31    62\n",
      "32    64\n",
      "33    66\n",
      "34    68\n",
      "35    70\n",
      "36    72\n",
      "37    74\n",
      "38    76\n",
      "39    78\n",
      "40    80\n",
      "41    82\n",
      "42    84\n",
      "43    86\n",
      "44    88\n",
      "45    90\n",
      "46    92\n",
      "47    94\n",
      "48    96\n",
      "49    98\n",
      "dtype: int64\n"
     ]
    }
   ],
   "source": [
    "import numpy as np;\n",
    "data=np.array(np.arange(0,100,2))\n",
    "print(pd.Series(data))"
   ]
  },
  {
   "cell_type": "markdown",
   "id": "f3664b9e",
   "metadata": {},
   "source": [
    "## Create series from a dictionary using pandas"
   ]
  },
  {
   "cell_type": "code",
   "execution_count": 8,
   "id": "b38e7181",
   "metadata": {},
   "outputs": [
    {
     "name": "stdout",
     "output_type": "stream",
     "text": [
      "a    1\n",
      "b    2\n",
      "c    3\n",
      "dtype: int64\n"
     ]
    }
   ],
   "source": [
    "data={'a':1,'b':2,'c':3}\n",
    "series_dict=pd.Series(data)\n",
    "print(series_dict)"
   ]
  },
  {
   "cell_type": "code",
   "execution_count": null,
   "id": "31491b3e",
   "metadata": {},
   "outputs": [
    {
     "name": "stdout",
     "output_type": "stream",
     "text": [
      "a    1\n",
      "b    2\n",
      "c    3\n",
      "d    4\n",
      "e    5\n",
      "dtype: int64\n"
     ]
    }
   ],
   "source": [
    "data=[1,2,3,4,5]\n",
    "index=['a','b','c','d','e']\n",
    "print(pd.Series(data,index))"
   ]
  },
  {
   "cell_type": "markdown",
   "id": "4f07df56",
   "metadata": {},
   "source": [
    "# Data frame"
   ]
  },
  {
   "cell_type": "markdown",
   "id": "2cf27283",
   "metadata": {},
   "source": [
    "- <h2>create dataframe from dictionary of list<h2>"
   ]
  },
  {
   "cell_type": "code",
   "execution_count": null,
   "id": "40a5af02",
   "metadata": {},
   "outputs": [
    {
     "name": "stdout",
     "output_type": "stream",
     "text": [
      "    Name  Age       City\n",
      "0  Krish   25  Bangalore\n",
      "1   John   30   New York\n",
      "2   Jack   45  Arlington\n",
      "<class 'pandas.core.frame.DataFrame'>\n",
      "{'Name': ['Krish', 'John', 'Jack'], 'Age': [25, 30, 45], 'City': ['Bangalore', 'New York', 'Arlington']}\n"
     ]
    }
   ],
   "source": [
    "\n",
    "data={\n",
    "    'Name':['Krish','John','Jack'],\n",
    "    'Age': [25,30,45],\n",
    "    'City':['Bangalore','New York', 'Arlington']\n",
    "}\n",
    "\n",
    "df=pd.DataFrame(data)\n",
    "print(df)\n",
    "print(type(df))\n",
    "\n",
    "\n",
    "# can also use numpy\n",
    "\n",
    "print(np.array(data))"
   ]
  },
  {
   "cell_type": "markdown",
   "id": "faa6896d",
   "metadata": {},
   "source": [
    "- <h2>Create a dataframe from a list of a dictionary</h2>"
   ]
  },
  {
   "cell_type": "code",
   "execution_count": 28,
   "id": "024509e7",
   "metadata": {},
   "outputs": [
    {
     "name": "stdout",
     "output_type": "stream",
     "text": [
      "    Name  Age       City\n",
      "0  Krish   32  Bangalore\n",
      "1   John   40   New York\n",
      "2   Jack   45  Arlington\n"
     ]
    }
   ],
   "source": [
    "data=[\n",
    "    {'Name':'Krish','Age':32,'City':'Bangalore'},\n",
    "    {'Name':'John','Age':40,'City':'New York'},\n",
    "    {'Name':'Jack','Age':45,'City':'Arlington'}\n",
    "]\n",
    "\n",
    "df=pd.DataFrame(data)\n",
    "print(df)"
   ]
  },
  {
   "cell_type": "markdown",
   "id": "fef1e60c",
   "metadata": {},
   "source": [
    "# Read data from file"
   ]
  },
  {
   "cell_type": "code",
   "execution_count": null,
   "id": "eaac5984",
   "metadata": {},
   "outputs": [
    {
     "name": "stdout",
     "output_type": "stream",
     "text": [
      "Last 5 data:\n",
      "            Name  Age      City                    Profession\n",
      "45  Kritin Paul   36  Itanagar      IoT Blockchain Developer\n",
      "46  Shaunak Dey   35    Imphal     Software Systems Engineer\n",
      "47  Aviraj Giri   33    Kohima  Web3 Infrastructure Engineer\n",
      "48  Neil Chetri   30   Gangtok    AI Infrastructure Engineer\n",
      "49    Ronav Rai   27      Puri      Cybersecurity Researcher\n",
      "First 5 data:\n",
      "            Name  Age       City            Profession\n",
      "0  Aarav Sharma   32  Bangalore  Blockchain Developer\n"
     ]
    }
   ],
   "source": [
    "data=pd.read_json('./data.json')\n",
    "print(\"Last 5 data:\\n\",data.tail(5)) # access last 5 data\n",
    "print(\"First 1 data:\\n\",data.head(1)) # access first 5 data"
   ]
  },
  {
   "cell_type": "code",
   "execution_count": null,
   "id": "6576960b",
   "metadata": {},
   "outputs": [
    {
     "name": "stdout",
     "output_type": "stream",
     "text": [
      "45        IoT Blockchain Developer\n",
      "46       Software Systems Engineer\n",
      "47    Web3 Infrastructure Engineer\n",
      "48      AI Infrastructure Engineer\n",
      "49        Cybersecurity Researcher\n",
      "Name: Profession, dtype: object\n"
     ]
    }
   ],
   "source": [
    "# specific column\n",
    "print(data['Profession'].tail(5)) # only profession show"
   ]
  },
  {
   "cell_type": "code",
   "execution_count": 37,
   "id": "9914a26a",
   "metadata": {},
   "outputs": [
    {
     "name": "stdout",
     "output_type": "stream",
     "text": [
      "Name                  Aarav Sharma\n",
      "Age                             32\n",
      "City                     Bangalore\n",
      "Profession    Blockchain Developer\n",
      "Name: 0, dtype: object\n"
     ]
    }
   ],
   "source": [
    "# pick up 0th row from data sheet\n",
    "print(data.loc[0])"
   ]
  },
  {
   "cell_type": "code",
   "execution_count": 38,
   "id": "6529f44f",
   "metadata": {},
   "outputs": [
    {
     "name": "stdout",
     "output_type": "stream",
     "text": [
      "Name                  Aarav Sharma\n",
      "Age                             32\n",
      "City                     Bangalore\n",
      "Profession    Blockchain Developer\n",
      "Name: 0, dtype: object\n"
     ]
    }
   ],
   "source": [
    "print(data.iloc[0])"
   ]
  },
  {
   "cell_type": "code",
   "execution_count": 40,
   "id": "0d825c7a",
   "metadata": {},
   "outputs": [
    {
     "name": "stdout",
     "output_type": "stream",
     "text": [
      "Aarav Sharma\n",
      "Aarav Sharma\n"
     ]
    },
    {
     "name": "stderr",
     "output_type": "stream",
     "text": [
      "/tmp/ipykernel_29113/3695451042.py:1: FutureWarning: Series.__getitem__ treating keys as positions is deprecated. In a future version, integer keys will always be treated as labels (consistent with DataFrame behavior). To access a value by position, use `ser.iloc[pos]`\n",
      "  print(data.loc[0][0])\n",
      "/tmp/ipykernel_29113/3695451042.py:2: FutureWarning: Series.__getitem__ treating keys as positions is deprecated. In a future version, integer keys will always be treated as labels (consistent with DataFrame behavior). To access a value by position, use `ser.iloc[pos]`\n",
      "  print(data.iloc[0][0])\n"
     ]
    }
   ],
   "source": [
    "print(data.loc[0][0])\n",
    "print(data.iloc[0][0])"
   ]
  },
  {
   "cell_type": "markdown",
   "id": "966d975b",
   "metadata": {},
   "source": [
    "# accesing specific element using 'at'"
   ]
  },
  {
   "cell_type": "code",
   "execution_count": 44,
   "id": "eacdd195",
   "metadata": {},
   "outputs": [
    {
     "data": {
      "text/plain": [
       "45    Kritin Paul\n",
       "46    Shaunak Dey\n",
       "47    Aviraj Giri\n",
       "48    Neil Chetri\n",
       "49      Ronav Rai\n",
       "Name: Name, dtype: object"
      ]
     },
     "execution_count": 44,
     "metadata": {},
     "output_type": "execute_result"
    }
   ],
   "source": [
    "data['Name'].tail(5)\n"
   ]
  },
  {
   "cell_type": "code",
   "execution_count": 45,
   "id": "90dc4508",
   "metadata": {},
   "outputs": [
    {
     "data": {
      "text/plain": [
       "0      Blockchain Developer\n",
       "1    Smart Contract Auditor\n",
       "2      Full Stack Developer\n",
       "3         Backend Developer\n",
       "4           DevOps Engineer\n",
       "Name: Profession, dtype: object"
      ]
     },
     "execution_count": 45,
     "metadata": {},
     "output_type": "execute_result"
    }
   ],
   "source": [
    "data['Profession'].head(5)"
   ]
  },
  {
   "cell_type": "code",
   "execution_count": 47,
   "id": "a954da91",
   "metadata": {},
   "outputs": [
    {
     "data": {
      "text/plain": [
       "'Smart Contract Auditor'"
      ]
     },
     "execution_count": 47,
     "metadata": {},
     "output_type": "execute_result"
    }
   ],
   "source": [
    "data.at[1,'Profession']"
   ]
  },
  {
   "cell_type": "code",
   "execution_count": 54,
   "id": "fb66f57d",
   "metadata": {},
   "outputs": [
    {
     "data": {
      "text/plain": [
       "'Ishaan Reddy'"
      ]
     },
     "execution_count": 54,
     "metadata": {},
     "output_type": "execute_result"
    }
   ],
   "source": [
    "data.at[2,'Name']"
   ]
  },
  {
   "cell_type": "markdown",
   "id": "0c2da169",
   "metadata": {},
   "source": [
    "# accessing specific element using 'itat'"
   ]
  },
  {
   "cell_type": "code",
   "execution_count": 56,
   "id": "abc1eaa9",
   "metadata": {},
   "outputs": [
    {
     "data": {
      "text/plain": [
       "'Pune'"
      ]
     },
     "execution_count": 56,
     "metadata": {},
     "output_type": "execute_result"
    }
   ],
   "source": [
    "data.iat[2,2]"
   ]
  },
  {
   "cell_type": "markdown",
   "id": "e90ab00a",
   "metadata": {},
   "source": [
    "# add a column"
   ]
  },
  {
   "cell_type": "code",
   "execution_count": 61,
   "id": "0ad6756e",
   "metadata": {},
   "outputs": [
    {
     "name": "stdout",
     "output_type": "stream",
     "text": [
      "   0  Salary\n",
      "0  1       1\n",
      "1  2       2\n",
      "2  3       3\n",
      "3  4       4\n",
      "4  5       5\n"
     ]
    }
   ],
   "source": [
    "test=[1,2,3,4,5]\n",
    "df=pd.DataFrame(test)\n",
    "df['Salary']=[1,2,3,4,5]\n",
    "print(df)"
   ]
  },
  {
   "cell_type": "markdown",
   "id": "682f1122",
   "metadata": {},
   "source": [
    "# remove a column"
   ]
  },
  {
   "cell_type": "code",
   "execution_count": 67,
   "id": "9f128b0b",
   "metadata": {},
   "outputs": [
    {
     "name": "stdout",
     "output_type": "stream",
     "text": [
      "   0\n",
      "0  1\n",
      "1  2\n",
      "2  3\n",
      "3  4\n",
      "4  5\n"
     ]
    }
   ],
   "source": [
    "df.drop('Salary',axis=1,inplace=True)\n",
    "print(df)"
   ]
  },
  {
   "cell_type": "code",
   "execution_count": 68,
   "id": "64663479",
   "metadata": {},
   "outputs": [
    {
     "name": "stdout",
     "output_type": "stream",
     "text": [
      "   0\n",
      "0  1\n",
      "1  2\n",
      "2  3\n",
      "3  4\n",
      "4  5\n"
     ]
    }
   ],
   "source": [
    "print(df)"
   ]
  },
  {
   "cell_type": "markdown",
   "id": "f7a54062",
   "metadata": {},
   "source": [
    "# add age to the column"
   ]
  },
  {
   "cell_type": "code",
   "execution_count": 72,
   "id": "72dd4ac4",
   "metadata": {},
   "outputs": [
    {
     "name": "stdout",
     "output_type": "stream",
     "text": [
      "           Name  Age      City                    Profession\n",
      "45  Kritin Paul   37  Itanagar      IoT Blockchain Developer\n",
      "46  Shaunak Dey   36    Imphal     Software Systems Engineer\n",
      "47  Aviraj Giri   34    Kohima  Web3 Infrastructure Engineer\n",
      "48  Neil Chetri   31   Gangtok    AI Infrastructure Engineer\n",
      "49    Ronav Rai   28      Puri      Cybersecurity Researcher\n"
     ]
    }
   ],
   "source": [
    "data['Age']=data['Age']+1\n",
    "print(data.tail(5))"
   ]
  },
  {
   "cell_type": "code",
   "execution_count": 73,
   "id": "7b686055",
   "metadata": {},
   "outputs": [
    {
     "name": "stdout",
     "output_type": "stream",
     "text": [
      "           Name  Age      City                    Profession\n",
      "45  Kritin Paul   37  Itanagar      IoT Blockchain Developer\n",
      "46  Shaunak Dey   36    Imphal     Software Systems Engineer\n",
      "47  Aviraj Giri   34    Kohima  Web3 Infrastructure Engineer\n",
      "48  Neil Chetri   31   Gangtok    AI Infrastructure Engineer\n",
      "49    Ronav Rai   28      Puri      Cybersecurity Researcher\n"
     ]
    }
   ],
   "source": [
    "print(data.tail(5))"
   ]
  },
  {
   "cell_type": "markdown",
   "id": "8f81757a",
   "metadata": {},
   "source": [
    "# delete a specific row "
   ]
  },
  {
   "cell_type": "code",
   "execution_count": 81,
   "id": "b65978b6",
   "metadata": {},
   "outputs": [
    {
     "name": "stdout",
     "output_type": "stream",
     "text": [
      "                Name  Age      City                    Profession\n",
      "43       Tejas Barua   29    Dispur      Blockchain UX Specialist\n",
      "44  Sarthak Dasgupta   35  Guwahati      Decentralized App Tester\n",
      "45       Kritin Paul   37  Itanagar      IoT Blockchain Developer\n",
      "46       Shaunak Dey   36    Imphal     Software Systems Engineer\n",
      "47       Aviraj Giri   34    Kohima  Web3 Infrastructure Engineer\n"
     ]
    }
   ],
   "source": [
    "data.drop(48,inplace=True)\n",
    "print(data.tail(5))"
   ]
  },
  {
   "cell_type": "markdown",
   "id": "1a7c14c2",
   "metadata": {},
   "source": [
    "# describe of datasheet"
   ]
  },
  {
   "cell_type": "code",
   "execution_count": 84,
   "id": "fb7b0ce5",
   "metadata": {},
   "outputs": [
    {
     "name": "stdout",
     "output_type": "stream",
     "text": [
      "             Age\n",
      "count  48.000000\n",
      "mean   33.520833\n",
      "std     3.649480\n",
      "min    27.000000\n",
      "25%    31.000000\n",
      "50%    33.000000\n",
      "75%    36.000000\n",
      "max    41.000000\n"
     ]
    }
   ],
   "source": [
    "print(data.describe()) # show the statistical data"
   ]
  }
 ],
 "metadata": {
  "kernelspec": {
   "display_name": ".venv",
   "language": "python",
   "name": "python3"
  },
  "language_info": {
   "codemirror_mode": {
    "name": "ipython",
    "version": 3
   },
   "file_extension": ".py",
   "mimetype": "text/x-python",
   "name": "python",
   "nbconvert_exporter": "python",
   "pygments_lexer": "ipython3",
   "version": "3.12.3"
  }
 },
 "nbformat": 4,
 "nbformat_minor": 5
}
