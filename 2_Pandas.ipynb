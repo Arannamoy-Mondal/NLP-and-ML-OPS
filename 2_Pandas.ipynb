{
 "cells": [
  {
   "cell_type": "markdown",
   "id": "640ccbd9",
   "metadata": {},
   "source": [
    "# install pandas"
   ]
  },
  {
   "cell_type": "code",
   "execution_count": 3,
   "id": "39b53636",
   "metadata": {},
   "outputs": [
    {
     "name": "stdout",
     "output_type": "stream",
     "text": [
      "Requirement already satisfied: pandas in ./.venv/lib/python3.12/site-packages (2.2.3)\n",
      "Requirement already satisfied: numpy>=1.26.0 in ./.venv/lib/python3.12/site-packages (from pandas) (2.2.6)\n",
      "Requirement already satisfied: python-dateutil>=2.8.2 in ./.venv/lib/python3.12/site-packages (from pandas) (2.9.0.post0)\n",
      "Requirement already satisfied: pytz>=2020.1 in ./.venv/lib/python3.12/site-packages (from pandas) (2025.2)\n",
      "Requirement already satisfied: tzdata>=2022.7 in ./.venv/lib/python3.12/site-packages (from pandas) (2025.2)\n",
      "Requirement already satisfied: six>=1.5 in ./.venv/lib/python3.12/site-packages (from python-dateutil>=2.8.2->pandas) (1.17.0)\n"
     ]
    }
   ],
   "source": [
    "!pip install pandas"
   ]
  },
  {
   "cell_type": "markdown",
   "id": "8e6fbc11",
   "metadata": {},
   "source": [
    "- import pandas as pd alias"
   ]
  },
  {
   "cell_type": "code",
   "execution_count": 4,
   "id": "74dd9539",
   "metadata": {},
   "outputs": [],
   "source": [
    "import pandas as pd;"
   ]
  },
  {
   "cell_type": "markdown",
   "id": "17a37cb9",
   "metadata": {},
   "source": [
    "# Series"
   ]
  },
  {
   "cell_type": "code",
   "execution_count": null,
   "id": "77ddf624",
   "metadata": {},
   "outputs": [
    {
     "name": "stdout",
     "output_type": "stream",
     "text": [
      "0    1\n",
      "1    2\n",
      "2    3\n",
      "3    4\n",
      "4    5\n",
      "dtype: int64\n"
     ]
    }
   ],
   "source": [
    "data=[1,2,3,4,5]\n",
    "print(pd.Series(data)) # make series"
   ]
  },
  {
   "cell_type": "code",
   "execution_count": 6,
   "id": "aa21f832",
   "metadata": {},
   "outputs": [
    {
     "name": "stdout",
     "output_type": "stream",
     "text": [
      "0      0\n",
      "1      2\n",
      "2      4\n",
      "3      6\n",
      "4      8\n",
      "5     10\n",
      "6     12\n",
      "7     14\n",
      "8     16\n",
      "9     18\n",
      "10    20\n",
      "11    22\n",
      "12    24\n",
      "13    26\n",
      "14    28\n",
      "15    30\n",
      "16    32\n",
      "17    34\n",
      "18    36\n",
      "19    38\n",
      "20    40\n",
      "21    42\n",
      "22    44\n",
      "23    46\n",
      "24    48\n",
      "25    50\n",
      "26    52\n",
      "27    54\n",
      "28    56\n",
      "29    58\n",
      "30    60\n",
      "31    62\n",
      "32    64\n",
      "33    66\n",
      "34    68\n",
      "35    70\n",
      "36    72\n",
      "37    74\n",
      "38    76\n",
      "39    78\n",
      "40    80\n",
      "41    82\n",
      "42    84\n",
      "43    86\n",
      "44    88\n",
      "45    90\n",
      "46    92\n",
      "47    94\n",
      "48    96\n",
      "49    98\n",
      "dtype: int64\n"
     ]
    }
   ],
   "source": [
    "import numpy as np;\n",
    "data=np.array(np.arange(0,100,2))\n",
    "print(pd.Series(data))"
   ]
  },
  {
   "cell_type": "markdown",
   "id": "f3664b9e",
   "metadata": {},
   "source": [
    "## Create series from a dictionary using pandas"
   ]
  },
  {
   "cell_type": "code",
   "execution_count": 8,
   "id": "b38e7181",
   "metadata": {},
   "outputs": [
    {
     "name": "stdout",
     "output_type": "stream",
     "text": [
      "a    1\n",
      "b    2\n",
      "c    3\n",
      "dtype: int64\n"
     ]
    }
   ],
   "source": [
    "data={'a':1,'b':2,'c':3}\n",
    "series_dict=pd.Series(data)\n",
    "print(series_dict)"
   ]
  },
  {
   "cell_type": "code",
   "execution_count": null,
   "id": "31491b3e",
   "metadata": {},
   "outputs": [
    {
     "name": "stdout",
     "output_type": "stream",
     "text": [
      "a    1\n",
      "b    2\n",
      "c    3\n",
      "d    4\n",
      "e    5\n",
      "dtype: int64\n"
     ]
    }
   ],
   "source": [
    "data=[1,2,3,4,5]\n",
    "index=['a','b','c','d','e']\n",
    "print(pd.Series(data,index))"
   ]
  },
  {
   "cell_type": "markdown",
   "id": "4f07df56",
   "metadata": {},
   "source": [
    "# Data frame"
   ]
  },
  {
   "cell_type": "markdown",
   "id": "2cf27283",
   "metadata": {},
   "source": [
    "- <h2>create dataframe from dictionary of list<h2>"
   ]
  },
  {
   "cell_type": "code",
   "execution_count": null,
   "id": "40a5af02",
   "metadata": {},
   "outputs": [
    {
     "name": "stdout",
     "output_type": "stream",
     "text": [
      "    Name  Age       City\n",
      "0  Krish   25  Bangalore\n",
      "1   John   30   New York\n",
      "2   Jack   45  Arlington\n",
      "<class 'pandas.core.frame.DataFrame'>\n",
      "{'Name': ['Krish', 'John', 'Jack'], 'Age': [25, 30, 45], 'City': ['Bangalore', 'New York', 'Arlington']}\n"
     ]
    }
   ],
   "source": [
    "\n",
    "data={\n",
    "    'Name':['Krish','John','Jack'],\n",
    "    'Age': [25,30,45],\n",
    "    'City':['Bangalore','New York', 'Arlington']\n",
    "}\n",
    "\n",
    "df=pd.DataFrame(data)\n",
    "print(df)\n",
    "print(type(df))\n",
    "\n",
    "\n",
    "# can also use numpy\n",
    "\n",
    "print(np.array(data))"
   ]
  },
  {
   "cell_type": "markdown",
   "id": "faa6896d",
   "metadata": {},
   "source": [
    "- <h2>Create a dataframe from a list of a dictionary</h2>"
   ]
  },
  {
   "cell_type": "code",
   "execution_count": 28,
   "id": "024509e7",
   "metadata": {},
   "outputs": [
    {
     "name": "stdout",
     "output_type": "stream",
     "text": [
      "    Name  Age       City\n",
      "0  Krish   32  Bangalore\n",
      "1   John   40   New York\n",
      "2   Jack   45  Arlington\n"
     ]
    }
   ],
   "source": [
    "data=[\n",
    "    {'Name':'Krish','Age':32,'City':'Bangalore'},\n",
    "    {'Name':'John','Age':40,'City':'New York'},\n",
    "    {'Name':'Jack','Age':45,'City':'Arlington'}\n",
    "]\n",
    "\n",
    "df=pd.DataFrame(data)\n",
    "print(df)"
   ]
  },
  {
   "cell_type": "markdown",
   "id": "fef1e60c",
   "metadata": {},
   "source": [
    "# Read data from file"
   ]
  },
  {
   "cell_type": "code",
   "execution_count": null,
   "id": "eaac5984",
   "metadata": {},
   "outputs": [
    {
     "name": "stdout",
     "output_type": "stream",
     "text": [
      "                  Name  Age         City                    Profession\n",
      "0         Aarav Sharma   32    Bangalore          Blockchain Developer\n",
      "1         Vihaan Mehta   30    Hyderabad        Smart Contract Auditor\n",
      "2         Ishaan Reddy   35         Pune          Full Stack Developer\n",
      "3         Advait Desai   28      Chennai             Backend Developer\n",
      "4          Kunal Joshi   33       Mumbai               DevOps Engineer\n",
      "5          Rudra Gupta   29    Ahmedabad                Data Scientist\n",
      "6        Laksh Agarwal   40        Delhi                AI/ML Engineer\n",
      "7          Yuvraj Nair   31      Kolkata          Blockchain Architect\n",
      "8          Arjun Patel   27        Noida            Frontend Developer\n",
      "9          Devansh Rao   34      Gurgaon      Cloud Solutions Engineer\n",
      "10          Anaya Iyer   29       Jaipur                UI/UX Designer\n",
      "11         Diya Pillai   32       Nagpur          Mobile App Developer\n",
      "12           Meera Das   28      Lucknow                Web3 Developer\n",
      "13      Saanvi Mohanty   30  Bhubaneswar                 AI Researcher\n",
      "14        Ira Banerjee   33      Kolkata         Cybersecurity Analyst\n",
      "15          Aadhya Sen   31      Asansol                System Analyst\n",
      "16           Tanya Roy   27      Silchar      Smart Contract Developer\n",
      "17    Riya Chakraborty   35     Durgapur                 Data Engineer\n",
      "18  Tanvi Bhattacharya   30     Shillong        Product Manager - Tech\n",
      "19       Krishna Singh   36        Patna     Technical Program Manager\n",
      "20        Rishi Tiwari   38       Ranchi             Software Engineer\n",
      "21      Ayaan Tripathi   39       Raipur  Distributed Systems Engineer\n",
      "22        Aarush Verma   28       Bhopal               ML Ops Engineer\n",
      "23       Nikhil Mishra   40       Indore              Python Developer\n",
      "24   Rajveer Choudhary   31      Gwalior                   AI Engineer\n",
      "25        Manav Saxena   34       Kanpur                  Data Analyst\n",
      "26      Reyansh Bansal   33     Varanasi           Technical Architect\n",
      "27    Shaurya Malhotra   37     Amritsar          Software QA Engineer\n",
      "28       Vivaan Kapoor   29     Ludhiana             Security Engineer\n",
      "29        Parth Khanna   26   Chandigarh                DApp Developer\n",
      "30         Dhruv Kohli   30      Panipat         Cloud Native Engineer\n",
      "31          Aryan Gill   32    Jalandhar           AI Product Engineer\n",
      "32         Harsh Vohra   31        Jammu             Crypto Researcher\n",
      "33        Ankit Bhalla   39     Dehradun         Blockchain Consultant\n",
      "34     Siddharth Sethi   38       Shimla      Digital Forensics Expert\n",
      "35      Vedant Mahajan   36       Manali   Game Developer (Blockchain)\n",
      "36       Harshit Rawat   35    Mussoorie         Tech Support Engineer\n",
      "37       Aarav Chauhan   34      Udaipur            Blockchain Analyst\n",
      "38         Yash Thakur   33        Surat                Ethical Hacker\n",
      "39       Naitik Parmar   29       Rajkot   Digital Identity Specialist\n",
      "40       Rudraksh Shah   30     Vadodara                 IT Consultant\n",
      "41         Aryan Ghosh   31       Howrah     Machine Learning Engineer\n",
      "42           Naman Deb   32     Agartala     Crypto Exchange Developer\n",
      "43         Tejas Barua   28       Dispur      Blockchain UX Specialist\n",
      "44    Sarthak Dasgupta   34     Guwahati      Decentralized App Tester\n",
      "45         Kritin Paul   36     Itanagar      IoT Blockchain Developer\n",
      "46         Shaunak Dey   35       Imphal     Software Systems Engineer\n",
      "47         Aviraj Giri   33       Kohima  Web3 Infrastructure Engineer\n",
      "48         Neil Chetri   30      Gangtok    AI Infrastructure Engineer\n",
      "49           Ronav Rai   27         Puri      Cybersecurity Researcher\n"
     ]
    }
   ],
   "source": [
    "data=pd.read_json('./data.json')\n",
    "print(data)"
   ]
  }
 ],
 "metadata": {
  "kernelspec": {
   "display_name": ".venv",
   "language": "python",
   "name": "python3"
  },
  "language_info": {
   "codemirror_mode": {
    "name": "ipython",
    "version": 3
   },
   "file_extension": ".py",
   "mimetype": "text/x-python",
   "name": "python",
   "nbconvert_exporter": "python",
   "pygments_lexer": "ipython3",
   "version": "3.12.3"
  }
 },
 "nbformat": 4,
 "nbformat_minor": 5
}
