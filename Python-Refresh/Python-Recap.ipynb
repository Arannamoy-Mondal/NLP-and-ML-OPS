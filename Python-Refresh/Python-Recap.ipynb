{
 "cells": [
  {
   "cell_type": "markdown",
   "id": "02d54ede",
   "metadata": {},
   "source": [
    "# Topics\n",
    "- [end](#using-end)\n",
    "- [single line comment](#single-line-comment)\n",
    "- [multiline comment](#multiline-comment)\n",
    "- [variable type](#variable-type)\n",
    "- [differnce between \"//\" and \"/\"](#difference-between--and-)\n",
    "- [type casting](#type-casting)\n",
    "- [slicing](#slicing--1)\n",
    "- [strip](#strip)\n",
    "- [replace](#replace)\n",
    "- [len](#length-of-string-tuple-list)"
   ]
  },
  {
   "cell_type": "markdown",
   "id": "11d5562c",
   "metadata": {},
   "source": [
    "- [Topic](#topics)\n",
    "# using end"
   ]
  },
  {
   "cell_type": "code",
   "execution_count": 4,
   "id": "c72a12d9",
   "metadata": {},
   "outputs": [
    {
     "name": "stdout",
     "output_type": "stream",
     "text": [
      "Hello world uap"
     ]
    }
   ],
   "source": [
    "print(\"Hello world\",end=\" uap\")\n"
   ]
  },
  {
   "cell_type": "markdown",
   "id": "2bfb0ebf",
   "metadata": {},
   "source": [
    "- [Topic](#topics)\n",
    "# multiline comment"
   ]
  },
  {
   "cell_type": "code",
   "execution_count": 5,
   "id": "2b92e39a",
   "metadata": {},
   "outputs": [
    {
     "data": {
      "text/plain": [
       "'This is a multiline comment'"
      ]
     },
     "execution_count": 5,
     "metadata": {},
     "output_type": "execute_result"
    }
   ],
   "source": [
    "'''This is a multiline comment'''"
   ]
  },
  {
   "cell_type": "markdown",
   "id": "ebd3e011",
   "metadata": {},
   "source": [
    "- [Topic](#topics)\n",
    "# single line comment"
   ]
  },
  {
   "cell_type": "code",
   "execution_count": null,
   "id": "4775f690",
   "metadata": {},
   "outputs": [],
   "source": [
    "# name=\"Hello\"\n",
    "# age=\"World\""
   ]
  },
  {
   "cell_type": "markdown",
   "id": "a982ae3d",
   "metadata": {},
   "source": [
    "- [Topic](#topics)\n",
    "# variable type"
   ]
  },
  {
   "cell_type": "code",
   "execution_count": 7,
   "id": "6a7e18b7",
   "metadata": {},
   "outputs": [
    {
     "name": "stdout",
     "output_type": "stream",
     "text": [
      "<class 'int'> <class 'float'> <class 'str'> <class 'str'> <class 'bool'>\n"
     ]
    }
   ],
   "source": [
    "integer_number=3\n",
    "decimal_number=3.44\n",
    "text='\"Hello world\"'\n",
    "string=\"Hello world\"\n",
    "is_python_powerful=True\n",
    "print(type(integer_number),type(decimal_number),type(text),type(string),type(is_python_powerful))"
   ]
  },
  {
   "cell_type": "markdown",
   "id": "7e1e24db",
   "metadata": {},
   "source": [
    "- [Topic](#topics)\n",
    "# difference between \"//\" and \"/\""
   ]
  },
  {
   "cell_type": "code",
   "execution_count": 8,
   "id": "d4a95ec2",
   "metadata": {},
   "outputs": [
    {
     "name": "stdout",
     "output_type": "stream",
     "text": [
      "0 \n",
      " 0.8333333333333334\n"
     ]
    }
   ],
   "source": [
    "x=5//6\n",
    "y=5/6\n",
    "print(x,\"\\n\",y)"
   ]
  },
  {
   "cell_type": "markdown",
   "id": "9e401482",
   "metadata": {},
   "source": [
    "- [Topic](#topics)\n",
    "# type casting"
   ]
  },
  {
   "cell_type": "code",
   "execution_count": 10,
   "id": "cfd13108",
   "metadata": {},
   "outputs": [
    {
     "name": "stdout",
     "output_type": "stream",
     "text": [
      "<class 'float'>\n",
      "<class 'str'>\n"
     ]
    }
   ],
   "source": [
    "a=5.66\n",
    "print(type(a))\n",
    "print(type(str(a)))"
   ]
  },
  {
   "cell_type": "markdown",
   "id": "2ff61041",
   "metadata": {},
   "source": [
    "- [Topic](#topics)\n",
    "# length of string, tuple, list "
   ]
  },
  {
   "cell_type": "code",
   "execution_count": 12,
   "id": "ca075999",
   "metadata": {},
   "outputs": [
    {
     "name": "stdout",
     "output_type": "stream",
     "text": [
      "13\n",
      "11\n"
     ]
    }
   ],
   "source": [
    "string=\"Hello world! \"\n",
    "print(len(string))\n",
    "print(len(\"Hello world\"))"
   ]
  },
  {
   "cell_type": "markdown",
   "id": "653544fa",
   "metadata": {},
   "source": [
    "- [Topic](#topics)\n",
    "# slicing -1"
   ]
  },
  {
   "cell_type": "code",
   "execution_count": 34,
   "id": "28685ee8",
   "metadata": {},
   "outputs": [
    {
     "name": "stdout",
     "output_type": "stream",
     "text": [
      "d\n",
      "H\n",
      "d\n",
      "\n",
      "Hello Worl\n",
      "Hello World\n",
      "Hello World\n",
      "Hello World\n"
     ]
    }
   ],
   "source": [
    "string=\"Hello World\"\n",
    "print(string[-1])\n",
    "print(string[-len(string)])\n",
    "print(string[-1])\n",
    "print(string[-1:-5])\n",
    "print(string[-len(string):-1])\n",
    "print(string[-len(string):])\n",
    "print(string[0:len(string)])\n",
    "print(string[0:])"
   ]
  },
  {
   "cell_type": "markdown",
   "id": "e8439773",
   "metadata": {},
   "source": [
    "- [Topic](#topics)\n",
    "# strip "
   ]
  },
  {
   "cell_type": "code",
   "execution_count": 42,
   "id": "b3b40ba6",
   "metadata": {},
   "outputs": [
    {
     "name": "stdout",
     "output_type": "stream",
     "text": [
      "H e l l o , w o r l d\n"
     ]
    }
   ],
   "source": [
    "print(\"H e l l o , w o r l d\".strip())\n"
   ]
  },
  {
   "cell_type": "code",
   "execution_count": 43,
   "id": "26435680",
   "metadata": {},
   "outputs": [
    {
     "name": "stdout",
     "output_type": "stream",
     "text": [
      "Hello      World     !\n"
     ]
    }
   ],
   "source": [
    "print(\"Hello      World     !\".strip())\n"
   ]
  },
  {
   "cell_type": "code",
   "execution_count": 44,
   "id": "2be91be5",
   "metadata": {},
   "outputs": [
    {
     "name": "stdout",
     "output_type": "stream",
     "text": [
      "Hello World\n"
     ]
    }
   ],
   "source": [
    "print(\"         Hello World\".strip())\n"
   ]
  },
  {
   "cell_type": "markdown",
   "id": "b271d842",
   "metadata": {},
   "source": [
    "- [Topic](#topics)\n",
    "# replace"
   ]
  },
  {
   "cell_type": "code",
   "execution_count": 45,
   "id": "bf553595",
   "metadata": {},
   "outputs": [
    {
     "name": "stdout",
     "output_type": "stream",
     "text": [
      "aello World\n"
     ]
    }
   ],
   "source": [
    "print(string.replace(\"H\",\"a\"))\n"
   ]
  },
  {
   "cell_type": "code",
   "execution_count": 46,
   "id": "0fed07fc",
   "metadata": {},
   "outputs": [
    {
     "name": "stdout",
     "output_type": "stream",
     "text": [
      "Hello World\n"
     ]
    }
   ],
   "source": [
    "print(string)"
   ]
  },
  {
   "cell_type": "code",
   "execution_count": 47,
   "id": "f26b8915",
   "metadata": {},
   "outputs": [
    {
     "name": "stdout",
     "output_type": "stream",
     "text": [
      "4952\n"
     ]
    }
   ],
   "source": [
    "print(str(49)+str(52))"
   ]
  }
 ],
 "metadata": {
  "kernelspec": {
   "display_name": "Python 3",
   "language": "python",
   "name": "python3"
  },
  "language_info": {
   "codemirror_mode": {
    "name": "ipython",
    "version": 3
   },
   "file_extension": ".py",
   "mimetype": "text/x-python",
   "name": "python",
   "nbconvert_exporter": "python",
   "pygments_lexer": "ipython3",
   "version": "3.11.13"
  }
 },
 "nbformat": 4,
 "nbformat_minor": 5
}
