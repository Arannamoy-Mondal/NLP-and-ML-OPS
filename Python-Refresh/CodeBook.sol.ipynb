{
 "cells": [
  {
   "cell_type": "code",
   "execution_count": 8,
   "id": "1dd1b1b0",
   "metadata": {},
   "outputs": [],
   "source": [
    "import json"
   ]
  },
  {
   "cell_type": "code",
   "execution_count": 10,
   "id": "d8e4c3da",
   "metadata": {},
   "outputs": [],
   "source": [
    "def load_data(filename):\n",
    "    with open (filename,'r') as file:\n",
    "         data=json.load(file)\n",
    "    return data"
   ]
  },
  {
   "cell_type": "code",
   "execution_count": 15,
   "id": "f9d9b32d",
   "metadata": {},
   "outputs": [
    {
     "data": {
      "text/plain": [
       "{'users': [{'id': 1, 'name': 'Amit', 'friends': [2, 3], 'liked_pages': [101]},\n",
       "  {'id': 2, 'name': 'Priya', 'friends': [1, 4], 'liked_pages': [102]},\n",
       "  {'id': 3, 'name': 'Rahul', 'friends': [1], 'liked_pages': [101, 103]},\n",
       "  {'id': 4, 'name': 'Sara', 'friends': [2], 'liked_pages': [104]}],\n",
       " 'pages': [{'id': 101, 'name': 'Python Developers'},\n",
       "  {'id': 102, 'name': 'Data Science Enthusiasts'},\n",
       "  {'id': 103, 'name': 'AI & ML Community'},\n",
       "  {'id': 104, 'name': 'Web Dev Hub'}]}"
      ]
     },
     "execution_count": 15,
     "metadata": {},
     "output_type": "execute_result"
    }
   ],
   "source": [
    "data=load_data('Data.json')\n",
    "data"
   ]
  },
  {
   "cell_type": "code",
   "execution_count": 37,
   "id": "ebb18ce9",
   "metadata": {},
   "outputs": [
    {
     "name": "stdout",
     "output_type": "stream",
     "text": [
      "\n",
      "Name: Amit\n",
      "Friends:\n",
      "Priya\n",
      "Rahul\n",
      "Pages:\n",
      "Python Developers\n",
      "\n",
      "Name: Priya\n",
      "Friends:\n",
      "Amit\n",
      "Sara\n",
      "Pages:\n",
      "Data Science Enthusiasts\n",
      "\n",
      "Name: Rahul\n",
      "Friends:\n",
      "Amit\n",
      "Pages:\n",
      "Python Developers\n",
      "AI & ML Community\n",
      "\n",
      "Name: Sara\n",
      "Friends:\n",
      "Priya\n",
      "Pages:\n",
      "Web Dev Hub\n"
     ]
    }
   ],
   "source": [
    "def display_pages(id):\n",
    "    for page in data.get('pages'):\n",
    "        if(page.get('id')==id):\n",
    "            return page.get('name')\n",
    "def display_friends(id):\n",
    "    for user in data.get('users'):\n",
    "        if(user.get('id')==id):\n",
    "            return user.get('name')\n",
    "def display_user_data(data):\n",
    "    for user in data['users']:\n",
    "        print(f'\\nName: {user.get('name')}\\nFriends:')\n",
    "        for friend in user['friends']:\n",
    "            print(display_friends(friend))\n",
    "        print('Pages:')\n",
    "        for page in user['liked_pages']:\n",
    "          print(display_pages(page))\n",
    "display_user_data(data=data)\n"
   ]
  },
  {
   "cell_type": "code",
   "execution_count": 17,
   "id": "8a9f054a",
   "metadata": {},
   "outputs": [],
   "source": [
    "def data_clean(filename):\n",
    "    with open(filename,'r') as file:\n",
    "        data2=file.read()\n",
    "        return data2\n"
   ]
  },
  {
   "cell_type": "code",
   "execution_count": 33,
   "id": "bbd0d2cc",
   "metadata": {},
   "outputs": [],
   "source": [
    "data2=json.loads(data_clean('data-2.json'))\n",
    "data2=[user for user in data2['users'] if user['name'].strip()] # remove blank name\n",
    "for user in data2: # remove duplicate friends\n",
    "     user['friends']=list(set(user['friends']))\n",
    "json.dump(data2,open(\"cleaned_data.json\",\"w\"),indent=4)"
   ]
  },
  {
   "cell_type": "code",
   "execution_count": 34,
   "id": "7ba0fd30",
   "metadata": {},
   "outputs": [
    {
     "data": {
      "text/plain": [
       "[{'id': 1, 'name': 'Amit', 'friends': [2, 3], 'liked_pages': [101]},\n",
       " {'id': 2, 'name': 'Priya', 'friends': [1, 4], 'liked_pages': [102]},\n",
       " {'id': 4, 'name': 'Sara', 'friends': [2], 'liked_pages': [104]},\n",
       " {'id': 5, 'name': 'Amit', 'friends': [], 'liked_pages': []}]"
      ]
     },
     "execution_count": 34,
     "metadata": {},
     "output_type": "execute_result"
    }
   ],
   "source": [
    "json.load(open('cleaned_data.json','r'))"
   ]
  },
  {
   "cell_type": "code",
   "execution_count": null,
   "id": "6fb9cb91",
   "metadata": {},
   "outputs": [],
   "source": []
  }
 ],
 "metadata": {
  "kernelspec": {
   "display_name": ".venv",
   "language": "python",
   "name": "python3"
  },
  "language_info": {
   "codemirror_mode": {
    "name": "ipython",
    "version": 3
   },
   "file_extension": ".py",
   "mimetype": "text/x-python",
   "name": "python",
   "nbconvert_exporter": "python",
   "pygments_lexer": "ipython3",
   "version": "3.12.3"
  }
 },
 "nbformat": 4,
 "nbformat_minor": 5
}
