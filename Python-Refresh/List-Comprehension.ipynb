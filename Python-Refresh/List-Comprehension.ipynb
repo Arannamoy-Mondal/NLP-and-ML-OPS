{
 "cells": [
  {
   "cell_type": "code",
   "execution_count": null,
   "id": "9cbe44f2",
   "metadata": {},
   "outputs": [],
   "source": [
    "l1=[x:x**2 for x in range (1,10)]"
   ]
  },
  {
   "cell_type": "code",
   "execution_count": null,
   "id": "edbb528b",
   "metadata": {},
   "outputs": [],
   "source": []
  }
 ],
 "metadata": {
  "kernelspec": {
   "display_name": ".venv",
   "language": "python",
   "name": "python3"
  },
  "language_info": {
   "name": "python",
   "version": "3.12.3"
  }
 },
 "nbformat": 4,
 "nbformat_minor": 5
}
