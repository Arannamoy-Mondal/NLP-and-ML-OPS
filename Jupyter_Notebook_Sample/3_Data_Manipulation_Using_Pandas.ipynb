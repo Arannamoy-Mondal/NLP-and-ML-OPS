{
 "cells": [
  {
   "cell_type": "code",
   "execution_count": 1,
   "id": "562d09de",
   "metadata": {},
   "outputs": [],
   "source": [
    "import pandas as pd;"
   ]
  },
  {
   "cell_type": "code",
   "execution_count": 22,
   "id": "cebb9bf6",
   "metadata": {},
   "outputs": [],
   "source": [
    "df=pd.read_json('data.json')"
   ]
  },
  {
   "cell_type": "code",
   "execution_count": 23,
   "id": "a932bf1b",
   "metadata": {},
   "outputs": [
    {
     "data": {
      "text/html": [
       "<div>\n",
       "<style scoped>\n",
       "    .dataframe tbody tr th:only-of-type {\n",
       "        vertical-align: middle;\n",
       "    }\n",
       "\n",
       "    .dataframe tbody tr th {\n",
       "        vertical-align: top;\n",
       "    }\n",
       "\n",
       "    .dataframe thead th {\n",
       "        text-align: right;\n",
       "    }\n",
       "</style>\n",
       "<table border=\"1\" class=\"dataframe\">\n",
       "  <thead>\n",
       "    <tr style=\"text-align: right;\">\n",
       "      <th></th>\n",
       "      <th>Name</th>\n",
       "      <th>Age</th>\n",
       "      <th>City</th>\n",
       "      <th>Profession</th>\n",
       "    </tr>\n",
       "  </thead>\n",
       "  <tbody>\n",
       "    <tr>\n",
       "      <th>0</th>\n",
       "      <td>Aarav Sharma</td>\n",
       "      <td>32</td>\n",
       "      <td>Bangalore</td>\n",
       "      <td>Blockchain Developer</td>\n",
       "    </tr>\n",
       "    <tr>\n",
       "      <th>1</th>\n",
       "      <td>Vihaan Mehta</td>\n",
       "      <td>30</td>\n",
       "      <td>Hyderabad</td>\n",
       "      <td>Smart Contract Auditor</td>\n",
       "    </tr>\n",
       "    <tr>\n",
       "      <th>2</th>\n",
       "      <td>Ishaan Reddy</td>\n",
       "      <td>35</td>\n",
       "      <td>Pune</td>\n",
       "      <td>Full Stack Developer</td>\n",
       "    </tr>\n",
       "    <tr>\n",
       "      <th>3</th>\n",
       "      <td>Advait Desai</td>\n",
       "      <td>28</td>\n",
       "      <td>Chennai</td>\n",
       "      <td>Backend Developer</td>\n",
       "    </tr>\n",
       "    <tr>\n",
       "      <th>4</th>\n",
       "      <td>Kunal Joshi</td>\n",
       "      <td>33</td>\n",
       "      <td>Mumbai</td>\n",
       "      <td>DevOps Engineer</td>\n",
       "    </tr>\n",
       "  </tbody>\n",
       "</table>\n",
       "</div>"
      ],
      "text/plain": [
       "           Name  Age       City              Profession\n",
       "0  Aarav Sharma   32  Bangalore    Blockchain Developer\n",
       "1  Vihaan Mehta   30  Hyderabad  Smart Contract Auditor\n",
       "2  Ishaan Reddy   35       Pune    Full Stack Developer\n",
       "3  Advait Desai   28    Chennai       Backend Developer\n",
       "4   Kunal Joshi   33     Mumbai         DevOps Engineer"
      ]
     },
     "execution_count": 23,
     "metadata": {},
     "output_type": "execute_result"
    }
   ],
   "source": [
    "df.head(5)"
   ]
  },
  {
   "cell_type": "code",
   "execution_count": 24,
   "id": "48ec0b30",
   "metadata": {},
   "outputs": [
    {
     "data": {
      "text/html": [
       "<div>\n",
       "<style scoped>\n",
       "    .dataframe tbody tr th:only-of-type {\n",
       "        vertical-align: middle;\n",
       "    }\n",
       "\n",
       "    .dataframe tbody tr th {\n",
       "        vertical-align: top;\n",
       "    }\n",
       "\n",
       "    .dataframe thead th {\n",
       "        text-align: right;\n",
       "    }\n",
       "</style>\n",
       "<table border=\"1\" class=\"dataframe\">\n",
       "  <thead>\n",
       "    <tr style=\"text-align: right;\">\n",
       "      <th></th>\n",
       "      <th>Name</th>\n",
       "      <th>Age</th>\n",
       "      <th>City</th>\n",
       "      <th>Profession</th>\n",
       "    </tr>\n",
       "  </thead>\n",
       "  <tbody>\n",
       "    <tr>\n",
       "      <th>45</th>\n",
       "      <td>Kritin Paul</td>\n",
       "      <td>36</td>\n",
       "      <td>Itanagar</td>\n",
       "      <td>IoT Blockchain Developer</td>\n",
       "    </tr>\n",
       "    <tr>\n",
       "      <th>46</th>\n",
       "      <td>Shaunak Dey</td>\n",
       "      <td>35</td>\n",
       "      <td>Imphal</td>\n",
       "      <td>Software Systems Engineer</td>\n",
       "    </tr>\n",
       "    <tr>\n",
       "      <th>47</th>\n",
       "      <td>Aviraj Giri</td>\n",
       "      <td>33</td>\n",
       "      <td>Kohima</td>\n",
       "      <td>Web3 Infrastructure Engineer</td>\n",
       "    </tr>\n",
       "    <tr>\n",
       "      <th>48</th>\n",
       "      <td>Neil Chetri</td>\n",
       "      <td>30</td>\n",
       "      <td>Gangtok</td>\n",
       "      <td>AI Infrastructure Engineer</td>\n",
       "    </tr>\n",
       "    <tr>\n",
       "      <th>49</th>\n",
       "      <td>Ronav Rai</td>\n",
       "      <td>27</td>\n",
       "      <td>Puri</td>\n",
       "      <td>Cybersecurity Researcher</td>\n",
       "    </tr>\n",
       "  </tbody>\n",
       "</table>\n",
       "</div>"
      ],
      "text/plain": [
       "           Name  Age      City                    Profession\n",
       "45  Kritin Paul   36  Itanagar      IoT Blockchain Developer\n",
       "46  Shaunak Dey   35    Imphal     Software Systems Engineer\n",
       "47  Aviraj Giri   33    Kohima  Web3 Infrastructure Engineer\n",
       "48  Neil Chetri   30   Gangtok    AI Infrastructure Engineer\n",
       "49    Ronav Rai   27      Puri      Cybersecurity Researcher"
      ]
     },
     "execution_count": 24,
     "metadata": {},
     "output_type": "execute_result"
    }
   ],
   "source": [
    "df.tail(5)"
   ]
  },
  {
   "cell_type": "code",
   "execution_count": 25,
   "id": "b37838e7",
   "metadata": {},
   "outputs": [
    {
     "data": {
      "text/html": [
       "<div>\n",
       "<style scoped>\n",
       "    .dataframe tbody tr th:only-of-type {\n",
       "        vertical-align: middle;\n",
       "    }\n",
       "\n",
       "    .dataframe tbody tr th {\n",
       "        vertical-align: top;\n",
       "    }\n",
       "\n",
       "    .dataframe thead th {\n",
       "        text-align: right;\n",
       "    }\n",
       "</style>\n",
       "<table border=\"1\" class=\"dataframe\">\n",
       "  <thead>\n",
       "    <tr style=\"text-align: right;\">\n",
       "      <th></th>\n",
       "      <th>Age</th>\n",
       "    </tr>\n",
       "  </thead>\n",
       "  <tbody>\n",
       "    <tr>\n",
       "      <th>count</th>\n",
       "      <td>50.00000</td>\n",
       "    </tr>\n",
       "    <tr>\n",
       "      <th>mean</th>\n",
       "      <td>32.36000</td>\n",
       "    </tr>\n",
       "    <tr>\n",
       "      <th>std</th>\n",
       "      <td>3.67429</td>\n",
       "    </tr>\n",
       "    <tr>\n",
       "      <th>min</th>\n",
       "      <td>26.00000</td>\n",
       "    </tr>\n",
       "    <tr>\n",
       "      <th>25%</th>\n",
       "      <td>30.00000</td>\n",
       "    </tr>\n",
       "    <tr>\n",
       "      <th>50%</th>\n",
       "      <td>32.00000</td>\n",
       "    </tr>\n",
       "    <tr>\n",
       "      <th>75%</th>\n",
       "      <td>35.00000</td>\n",
       "    </tr>\n",
       "    <tr>\n",
       "      <th>max</th>\n",
       "      <td>40.00000</td>\n",
       "    </tr>\n",
       "  </tbody>\n",
       "</table>\n",
       "</div>"
      ],
      "text/plain": [
       "            Age\n",
       "count  50.00000\n",
       "mean   32.36000\n",
       "std     3.67429\n",
       "min    26.00000\n",
       "25%    30.00000\n",
       "50%    32.00000\n",
       "75%    35.00000\n",
       "max    40.00000"
      ]
     },
     "execution_count": 25,
     "metadata": {},
     "output_type": "execute_result"
    }
   ],
   "source": [
    "df.describe()"
   ]
  },
  {
   "cell_type": "code",
   "execution_count": 26,
   "id": "7102d7e9",
   "metadata": {},
   "outputs": [
    {
     "data": {
      "text/plain": [
       "Name          object\n",
       "Age            int64\n",
       "City          object\n",
       "Profession    object\n",
       "dtype: object"
      ]
     },
     "execution_count": 26,
     "metadata": {},
     "output_type": "execute_result"
    }
   ],
   "source": [
    "df.dtypes"
   ]
  },
  {
   "cell_type": "code",
   "execution_count": 27,
   "id": "75742b7b",
   "metadata": {},
   "outputs": [
    {
     "data": {
      "text/html": [
       "<div>\n",
       "<style scoped>\n",
       "    .dataframe tbody tr th:only-of-type {\n",
       "        vertical-align: middle;\n",
       "    }\n",
       "\n",
       "    .dataframe tbody tr th {\n",
       "        vertical-align: top;\n",
       "    }\n",
       "\n",
       "    .dataframe thead th {\n",
       "        text-align: right;\n",
       "    }\n",
       "</style>\n",
       "<table border=\"1\" class=\"dataframe\">\n",
       "  <thead>\n",
       "    <tr style=\"text-align: right;\">\n",
       "      <th></th>\n",
       "      <th>Name</th>\n",
       "      <th>Age</th>\n",
       "      <th>City</th>\n",
       "      <th>Profession</th>\n",
       "    </tr>\n",
       "  </thead>\n",
       "  <tbody>\n",
       "    <tr>\n",
       "      <th>44</th>\n",
       "      <td>False</td>\n",
       "      <td>False</td>\n",
       "      <td>False</td>\n",
       "      <td>False</td>\n",
       "    </tr>\n",
       "    <tr>\n",
       "      <th>45</th>\n",
       "      <td>False</td>\n",
       "      <td>False</td>\n",
       "      <td>False</td>\n",
       "      <td>False</td>\n",
       "    </tr>\n",
       "    <tr>\n",
       "      <th>46</th>\n",
       "      <td>False</td>\n",
       "      <td>False</td>\n",
       "      <td>False</td>\n",
       "      <td>False</td>\n",
       "    </tr>\n",
       "    <tr>\n",
       "      <th>47</th>\n",
       "      <td>False</td>\n",
       "      <td>False</td>\n",
       "      <td>False</td>\n",
       "      <td>False</td>\n",
       "    </tr>\n",
       "    <tr>\n",
       "      <th>48</th>\n",
       "      <td>False</td>\n",
       "      <td>False</td>\n",
       "      <td>False</td>\n",
       "      <td>False</td>\n",
       "    </tr>\n",
       "    <tr>\n",
       "      <th>49</th>\n",
       "      <td>False</td>\n",
       "      <td>False</td>\n",
       "      <td>False</td>\n",
       "      <td>False</td>\n",
       "    </tr>\n",
       "  </tbody>\n",
       "</table>\n",
       "</div>"
      ],
      "text/plain": [
       "     Name    Age   City  Profession\n",
       "44  False  False  False       False\n",
       "45  False  False  False       False\n",
       "46  False  False  False       False\n",
       "47  False  False  False       False\n",
       "48  False  False  False       False\n",
       "49  False  False  False       False"
      ]
     },
     "execution_count": 27,
     "metadata": {},
     "output_type": "execute_result"
    }
   ],
   "source": [
    "## Handeling missing value\n",
    "df.isnull().tail(6)"
   ]
  },
  {
   "cell_type": "code",
   "execution_count": 28,
   "id": "3809df38",
   "metadata": {},
   "outputs": [
    {
     "data": {
      "text/html": [
       "<div>\n",
       "<style scoped>\n",
       "    .dataframe tbody tr th:only-of-type {\n",
       "        vertical-align: middle;\n",
       "    }\n",
       "\n",
       "    .dataframe tbody tr th {\n",
       "        vertical-align: top;\n",
       "    }\n",
       "\n",
       "    .dataframe thead th {\n",
       "        text-align: right;\n",
       "    }\n",
       "</style>\n",
       "<table border=\"1\" class=\"dataframe\">\n",
       "  <thead>\n",
       "    <tr style=\"text-align: right;\">\n",
       "      <th></th>\n",
       "      <th>Name</th>\n",
       "      <th>Age</th>\n",
       "      <th>City</th>\n",
       "      <th>Profession</th>\n",
       "    </tr>\n",
       "  </thead>\n",
       "  <tbody>\n",
       "    <tr>\n",
       "      <th>45</th>\n",
       "      <td>NaN</td>\n",
       "      <td>NaN</td>\n",
       "      <td>NaN</td>\n",
       "      <td>NaN</td>\n",
       "    </tr>\n",
       "    <tr>\n",
       "      <th>46</th>\n",
       "      <td>NaN</td>\n",
       "      <td>NaN</td>\n",
       "      <td>NaN</td>\n",
       "      <td>NaN</td>\n",
       "    </tr>\n",
       "    <tr>\n",
       "      <th>47</th>\n",
       "      <td>NaN</td>\n",
       "      <td>NaN</td>\n",
       "      <td>NaN</td>\n",
       "      <td>NaN</td>\n",
       "    </tr>\n",
       "    <tr>\n",
       "      <th>48</th>\n",
       "      <td>NaN</td>\n",
       "      <td>NaN</td>\n",
       "      <td>NaN</td>\n",
       "      <td>NaN</td>\n",
       "    </tr>\n",
       "    <tr>\n",
       "      <th>49</th>\n",
       "      <td>NaN</td>\n",
       "      <td>NaN</td>\n",
       "      <td>NaN</td>\n",
       "      <td>NaN</td>\n",
       "    </tr>\n",
       "  </tbody>\n",
       "</table>\n",
       "</div>"
      ],
      "text/plain": [
       "   Name  Age City Profession\n",
       "45  NaN  NaN  NaN        NaN\n",
       "46  NaN  NaN  NaN        NaN\n",
       "47  NaN  NaN  NaN        NaN\n",
       "48  NaN  NaN  NaN        NaN\n",
       "49  NaN  NaN  NaN        NaN"
      ]
     },
     "execution_count": 28,
     "metadata": {},
     "output_type": "execute_result"
    }
   ],
   "source": [
    "df[df.isnull()].tail(5)"
   ]
  },
  {
   "cell_type": "code",
   "execution_count": 29,
   "id": "ec700aaf",
   "metadata": {},
   "outputs": [
    {
     "data": {
      "text/plain": [
       "45    False\n",
       "46    False\n",
       "47    False\n",
       "48    False\n",
       "49    False\n",
       "dtype: bool"
      ]
     },
     "execution_count": 29,
     "metadata": {},
     "output_type": "execute_result"
    }
   ],
   "source": [
    "df[df.isnull()].any(axis=1).tail(5)"
   ]
  },
  {
   "cell_type": "code",
   "execution_count": 35,
   "id": "d8d11692",
   "metadata": {},
   "outputs": [],
   "source": [
    "df_filled=df.fillna('Hello')"
   ]
  },
  {
   "cell_type": "markdown",
   "id": "de38f641",
   "metadata": {},
   "source": [
    "# Fill missing value with Remote where city is missing"
   ]
  },
  {
   "cell_type": "code",
   "execution_count": null,
   "id": "ea3610c5",
   "metadata": {},
   "outputs": [],
   "source": [
    "df['City_fillna']=df['City'].fillna('Remote') "
   ]
  },
  {
   "cell_type": "code",
   "execution_count": 38,
   "id": "ae8092dc",
   "metadata": {},
   "outputs": [
    {
     "data": {
      "text/html": [
       "<div>\n",
       "<style scoped>\n",
       "    .dataframe tbody tr th:only-of-type {\n",
       "        vertical-align: middle;\n",
       "    }\n",
       "\n",
       "    .dataframe tbody tr th {\n",
       "        vertical-align: top;\n",
       "    }\n",
       "\n",
       "    .dataframe thead th {\n",
       "        text-align: right;\n",
       "    }\n",
       "</style>\n",
       "<table border=\"1\" class=\"dataframe\">\n",
       "  <thead>\n",
       "    <tr style=\"text-align: right;\">\n",
       "      <th></th>\n",
       "      <th>Name</th>\n",
       "      <th>Age</th>\n",
       "      <th>City</th>\n",
       "      <th>Profession</th>\n",
       "      <th>City_fillna</th>\n",
       "    </tr>\n",
       "  </thead>\n",
       "  <tbody>\n",
       "    <tr>\n",
       "      <th>0</th>\n",
       "      <td>Aarav Sharma</td>\n",
       "      <td>32</td>\n",
       "      <td>Bangalore</td>\n",
       "      <td>Blockchain Developer</td>\n",
       "      <td>Bangalore</td>\n",
       "    </tr>\n",
       "    <tr>\n",
       "      <th>1</th>\n",
       "      <td>Vihaan Mehta</td>\n",
       "      <td>30</td>\n",
       "      <td>Hyderabad</td>\n",
       "      <td>Smart Contract Auditor</td>\n",
       "      <td>Hyderabad</td>\n",
       "    </tr>\n",
       "    <tr>\n",
       "      <th>2</th>\n",
       "      <td>Ishaan Reddy</td>\n",
       "      <td>35</td>\n",
       "      <td>Pune</td>\n",
       "      <td>Full Stack Developer</td>\n",
       "      <td>Pune</td>\n",
       "    </tr>\n",
       "    <tr>\n",
       "      <th>3</th>\n",
       "      <td>Advait Desai</td>\n",
       "      <td>28</td>\n",
       "      <td>Chennai</td>\n",
       "      <td>Backend Developer</td>\n",
       "      <td>Chennai</td>\n",
       "    </tr>\n",
       "    <tr>\n",
       "      <th>4</th>\n",
       "      <td>Kunal Joshi</td>\n",
       "      <td>33</td>\n",
       "      <td>Mumbai</td>\n",
       "      <td>DevOps Engineer</td>\n",
       "      <td>Mumbai</td>\n",
       "    </tr>\n",
       "    <tr>\n",
       "      <th>5</th>\n",
       "      <td>Rudra Gupta</td>\n",
       "      <td>29</td>\n",
       "      <td>Ahmedabad</td>\n",
       "      <td>Data Scientist</td>\n",
       "      <td>Ahmedabad</td>\n",
       "    </tr>\n",
       "    <tr>\n",
       "      <th>6</th>\n",
       "      <td>Laksh Agarwal</td>\n",
       "      <td>40</td>\n",
       "      <td>Delhi</td>\n",
       "      <td>AI/ML Engineer</td>\n",
       "      <td>Delhi</td>\n",
       "    </tr>\n",
       "    <tr>\n",
       "      <th>7</th>\n",
       "      <td>Yuvraj Nair</td>\n",
       "      <td>31</td>\n",
       "      <td>NaN</td>\n",
       "      <td>Blockchain Architect</td>\n",
       "      <td>Remote</td>\n",
       "    </tr>\n",
       "    <tr>\n",
       "      <th>8</th>\n",
       "      <td>Arjun Patel</td>\n",
       "      <td>27</td>\n",
       "      <td>NaN</td>\n",
       "      <td>Frontend Developer</td>\n",
       "      <td>Remote</td>\n",
       "    </tr>\n",
       "    <tr>\n",
       "      <th>9</th>\n",
       "      <td>Devansh Rao</td>\n",
       "      <td>34</td>\n",
       "      <td>NaN</td>\n",
       "      <td>Cloud Solutions Engineer</td>\n",
       "      <td>Remote</td>\n",
       "    </tr>\n",
       "  </tbody>\n",
       "</table>\n",
       "</div>"
      ],
      "text/plain": [
       "            Name  Age       City                Profession City_fillna\n",
       "0   Aarav Sharma   32  Bangalore      Blockchain Developer   Bangalore\n",
       "1   Vihaan Mehta   30  Hyderabad    Smart Contract Auditor   Hyderabad\n",
       "2   Ishaan Reddy   35       Pune      Full Stack Developer        Pune\n",
       "3   Advait Desai   28    Chennai         Backend Developer     Chennai\n",
       "4    Kunal Joshi   33     Mumbai           DevOps Engineer      Mumbai\n",
       "5    Rudra Gupta   29  Ahmedabad            Data Scientist   Ahmedabad\n",
       "6  Laksh Agarwal   40      Delhi            AI/ML Engineer       Delhi\n",
       "7    Yuvraj Nair   31        NaN      Blockchain Architect      Remote\n",
       "8    Arjun Patel   27        NaN        Frontend Developer      Remote\n",
       "9    Devansh Rao   34        NaN  Cloud Solutions Engineer      Remote"
      ]
     },
     "execution_count": 38,
     "metadata": {},
     "output_type": "execute_result"
    }
   ],
   "source": [
    "df.head(10)"
   ]
  },
  {
   "cell_type": "markdown",
   "id": "0edee4a8",
   "metadata": {},
   "source": [
    "# Renaming column"
   ]
  },
  {
   "cell_type": "code",
   "execution_count": 43,
   "id": "bef17b2c",
   "metadata": {},
   "outputs": [
    {
     "data": {
      "text/html": [
       "<div>\n",
       "<style scoped>\n",
       "    .dataframe tbody tr th:only-of-type {\n",
       "        vertical-align: middle;\n",
       "    }\n",
       "\n",
       "    .dataframe tbody tr th {\n",
       "        vertical-align: top;\n",
       "    }\n",
       "\n",
       "    .dataframe thead th {\n",
       "        text-align: right;\n",
       "    }\n",
       "</style>\n",
       "<table border=\"1\" class=\"dataframe\">\n",
       "  <thead>\n",
       "    <tr style=\"text-align: right;\">\n",
       "      <th></th>\n",
       "      <th>Name</th>\n",
       "      <th>Age</th>\n",
       "      <th>Working Location</th>\n",
       "      <th>Profession</th>\n",
       "      <th>City_fillna</th>\n",
       "    </tr>\n",
       "  </thead>\n",
       "  <tbody>\n",
       "    <tr>\n",
       "      <th>0</th>\n",
       "      <td>Aarav Sharma</td>\n",
       "      <td>32</td>\n",
       "      <td>Bangalore</td>\n",
       "      <td>Blockchain Developer</td>\n",
       "      <td>Bangalore</td>\n",
       "    </tr>\n",
       "    <tr>\n",
       "      <th>1</th>\n",
       "      <td>Vihaan Mehta</td>\n",
       "      <td>30</td>\n",
       "      <td>Hyderabad</td>\n",
       "      <td>Smart Contract Auditor</td>\n",
       "      <td>Hyderabad</td>\n",
       "    </tr>\n",
       "    <tr>\n",
       "      <th>2</th>\n",
       "      <td>Ishaan Reddy</td>\n",
       "      <td>35</td>\n",
       "      <td>Pune</td>\n",
       "      <td>Full Stack Developer</td>\n",
       "      <td>Pune</td>\n",
       "    </tr>\n",
       "    <tr>\n",
       "      <th>3</th>\n",
       "      <td>Advait Desai</td>\n",
       "      <td>28</td>\n",
       "      <td>Chennai</td>\n",
       "      <td>Backend Developer</td>\n",
       "      <td>Chennai</td>\n",
       "    </tr>\n",
       "    <tr>\n",
       "      <th>4</th>\n",
       "      <td>Kunal Joshi</td>\n",
       "      <td>33</td>\n",
       "      <td>Mumbai</td>\n",
       "      <td>DevOps Engineer</td>\n",
       "      <td>Mumbai</td>\n",
       "    </tr>\n",
       "  </tbody>\n",
       "</table>\n",
       "</div>"
      ],
      "text/plain": [
       "           Name  Age Working Location              Profession City_fillna\n",
       "0  Aarav Sharma   32        Bangalore    Blockchain Developer   Bangalore\n",
       "1  Vihaan Mehta   30        Hyderabad  Smart Contract Auditor   Hyderabad\n",
       "2  Ishaan Reddy   35             Pune    Full Stack Developer        Pune\n",
       "3  Advait Desai   28          Chennai       Backend Developer     Chennai\n",
       "4   Kunal Joshi   33           Mumbai         DevOps Engineer      Mumbai"
      ]
     },
     "execution_count": 43,
     "metadata": {},
     "output_type": "execute_result"
    }
   ],
   "source": [
    "df=df.rename(columns={'City':'Working Location'})\n",
    "df.head()"
   ]
  },
  {
   "cell_type": "markdown",
   "id": "25823e57",
   "metadata": {},
   "source": [
    "# Change datatypes"
   ]
  },
  {
   "cell_type": "code",
   "execution_count": 44,
   "id": "f4bc1b96",
   "metadata": {},
   "outputs": [],
   "source": [
    "# df['new_column_name']=df[''Column_name'].astype(float)"
   ]
  },
  {
   "cell_type": "markdown",
   "id": "7bcb155d",
   "metadata": {},
   "source": [
    "# Apply operation in each column using lamda function"
   ]
  },
  {
   "cell_type": "code",
   "execution_count": 47,
   "id": "b128d78e",
   "metadata": {},
   "outputs": [
    {
     "data": {
      "text/html": [
       "<div>\n",
       "<style scoped>\n",
       "    .dataframe tbody tr th:only-of-type {\n",
       "        vertical-align: middle;\n",
       "    }\n",
       "\n",
       "    .dataframe tbody tr th {\n",
       "        vertical-align: top;\n",
       "    }\n",
       "\n",
       "    .dataframe thead th {\n",
       "        text-align: right;\n",
       "    }\n",
       "</style>\n",
       "<table border=\"1\" class=\"dataframe\">\n",
       "  <thead>\n",
       "    <tr style=\"text-align: right;\">\n",
       "      <th></th>\n",
       "      <th>Name</th>\n",
       "      <th>Age</th>\n",
       "      <th>Working Location</th>\n",
       "      <th>Profession</th>\n",
       "      <th>City_fillna</th>\n",
       "      <th>New Work Location</th>\n",
       "    </tr>\n",
       "  </thead>\n",
       "  <tbody>\n",
       "    <tr>\n",
       "      <th>0</th>\n",
       "      <td>Aarav Sharma</td>\n",
       "      <td>32</td>\n",
       "      <td>Bangalore</td>\n",
       "      <td>Blockchain Developer</td>\n",
       "      <td>Bangalore</td>\n",
       "      <td>BangaloreBangalore</td>\n",
       "    </tr>\n",
       "    <tr>\n",
       "      <th>1</th>\n",
       "      <td>Vihaan Mehta</td>\n",
       "      <td>30</td>\n",
       "      <td>Hyderabad</td>\n",
       "      <td>Smart Contract Auditor</td>\n",
       "      <td>Hyderabad</td>\n",
       "      <td>HyderabadHyderabad</td>\n",
       "    </tr>\n",
       "    <tr>\n",
       "      <th>2</th>\n",
       "      <td>Ishaan Reddy</td>\n",
       "      <td>35</td>\n",
       "      <td>Pune</td>\n",
       "      <td>Full Stack Developer</td>\n",
       "      <td>Pune</td>\n",
       "      <td>PunePune</td>\n",
       "    </tr>\n",
       "    <tr>\n",
       "      <th>3</th>\n",
       "      <td>Advait Desai</td>\n",
       "      <td>28</td>\n",
       "      <td>Chennai</td>\n",
       "      <td>Backend Developer</td>\n",
       "      <td>Chennai</td>\n",
       "      <td>ChennaiChennai</td>\n",
       "    </tr>\n",
       "    <tr>\n",
       "      <th>4</th>\n",
       "      <td>Kunal Joshi</td>\n",
       "      <td>33</td>\n",
       "      <td>Mumbai</td>\n",
       "      <td>DevOps Engineer</td>\n",
       "      <td>Mumbai</td>\n",
       "      <td>MumbaiMumbai</td>\n",
       "    </tr>\n",
       "  </tbody>\n",
       "</table>\n",
       "</div>"
      ],
      "text/plain": [
       "           Name  Age Working Location              Profession City_fillna  \\\n",
       "0  Aarav Sharma   32        Bangalore    Blockchain Developer   Bangalore   \n",
       "1  Vihaan Mehta   30        Hyderabad  Smart Contract Auditor   Hyderabad   \n",
       "2  Ishaan Reddy   35             Pune    Full Stack Developer        Pune   \n",
       "3  Advait Desai   28          Chennai       Backend Developer     Chennai   \n",
       "4   Kunal Joshi   33           Mumbai         DevOps Engineer      Mumbai   \n",
       "\n",
       "    New Work Location  \n",
       "0  BangaloreBangalore  \n",
       "1  HyderabadHyderabad  \n",
       "2            PunePune  \n",
       "3      ChennaiChennai  \n",
       "4        MumbaiMumbai  "
      ]
     },
     "execution_count": 47,
     "metadata": {},
     "output_type": "execute_result"
    }
   ],
   "source": [
    "df['New Work Location']=df['Working Location'].apply(lambda x:x+x)\n",
    "df.head()"
   ]
  },
  {
   "cell_type": "markdown",
   "id": "62db8c2e",
   "metadata": {},
   "source": [
    "# Data Aggregating"
   ]
  },
  {
   "cell_type": "code",
   "execution_count": 56,
   "id": "69026e9a",
   "metadata": {},
   "outputs": [
    {
     "name": "stdout",
     "output_type": "stream",
     "text": [
      "<pandas.core.groupby.generic.SeriesGroupBy object at 0x721b760261b0>\n"
     ]
    }
   ],
   "source": [
    "group_by=df.groupby(['Working Location'])['Name']\n",
    "print(group_by)"
   ]
  },
  {
   "cell_type": "markdown",
   "id": "c2d14a80",
   "metadata": {},
   "source": [
    "# Aggregate using multiple function"
   ]
  },
  {
   "cell_type": "code",
   "execution_count": 60,
   "id": "68dc9fb1",
   "metadata": {},
   "outputs": [
    {
     "name": "stdout",
     "output_type": "stream",
     "text": [
      "                  count\n",
      "Working Location       \n",
      "Agartala              1\n",
      "Ahmedabad             1\n",
      "Amritsar              1\n",
      "Asansol               1\n",
      "Bangalore             1\n"
     ]
    }
   ],
   "source": [
    "group_by_agg=df.groupby('Working Location')['Name'].agg(['count'])\n",
    "print(group_by_agg.head())"
   ]
  },
  {
   "cell_type": "markdown",
   "id": "b63b85ff",
   "metadata": {},
   "source": [
    "# Merging"
   ]
  },
  {
   "cell_type": "code",
   "execution_count": 65,
   "id": "3c01efb2",
   "metadata": {},
   "outputs": [
    {
     "data": {
      "text/html": [
       "<div>\n",
       "<style scoped>\n",
       "    .dataframe tbody tr th:only-of-type {\n",
       "        vertical-align: middle;\n",
       "    }\n",
       "\n",
       "    .dataframe tbody tr th {\n",
       "        vertical-align: top;\n",
       "    }\n",
       "\n",
       "    .dataframe thead th {\n",
       "        text-align: right;\n",
       "    }\n",
       "</style>\n",
       "<table border=\"1\" class=\"dataframe\">\n",
       "  <thead>\n",
       "    <tr style=\"text-align: right;\">\n",
       "      <th></th>\n",
       "      <th>Key</th>\n",
       "      <th>Value1_x</th>\n",
       "      <th>Value1_y</th>\n",
       "    </tr>\n",
       "  </thead>\n",
       "  <tbody>\n",
       "    <tr>\n",
       "      <th>0</th>\n",
       "      <td>1</td>\n",
       "      <td>A</td>\n",
       "      <td>E</td>\n",
       "    </tr>\n",
       "    <tr>\n",
       "      <th>1</th>\n",
       "      <td>2</td>\n",
       "      <td>B</td>\n",
       "      <td>F</td>\n",
       "    </tr>\n",
       "    <tr>\n",
       "      <th>2</th>\n",
       "      <td>3</td>\n",
       "      <td>C</td>\n",
       "      <td>G</td>\n",
       "    </tr>\n",
       "    <tr>\n",
       "      <th>3</th>\n",
       "      <td>4</td>\n",
       "      <td>D</td>\n",
       "      <td>H</td>\n",
       "    </tr>\n",
       "  </tbody>\n",
       "</table>\n",
       "</div>"
      ],
      "text/plain": [
       "   Key Value1_x Value1_y\n",
       "0    1        A        E\n",
       "1    2        B        F\n",
       "2    3        C        G\n",
       "3    4        D        H"
      ]
     },
     "execution_count": 65,
     "metadata": {},
     "output_type": "execute_result"
    }
   ],
   "source": [
    "df1=pd.DataFrame({'Key':[1,2,3,4],'Value1':['A','B','C','D']})\n",
    "df2=pd.DataFrame({'Key':[1,2,3,4],'Value1':['E','F','G','H']})\n",
    "pd.merge(df1,df2,on='Key',how='inner') # dataframes, based on key or something and then join name how inner or anything else."
   ]
  },
  {
   "cell_type": "code",
   "execution_count": 69,
   "id": "085e35d5",
   "metadata": {},
   "outputs": [
    {
     "data": {
      "text/html": [
       "<div>\n",
       "<style scoped>\n",
       "    .dataframe tbody tr th:only-of-type {\n",
       "        vertical-align: middle;\n",
       "    }\n",
       "\n",
       "    .dataframe tbody tr th {\n",
       "        vertical-align: top;\n",
       "    }\n",
       "\n",
       "    .dataframe thead th {\n",
       "        text-align: right;\n",
       "    }\n",
       "</style>\n",
       "<table border=\"1\" class=\"dataframe\">\n",
       "  <thead>\n",
       "    <tr style=\"text-align: right;\">\n",
       "      <th></th>\n",
       "      <th>Key</th>\n",
       "      <th>Value1_x</th>\n",
       "      <th>Value1_y</th>\n",
       "    </tr>\n",
       "  </thead>\n",
       "  <tbody>\n",
       "    <tr>\n",
       "      <th>0</th>\n",
       "      <td>1</td>\n",
       "      <td>A</td>\n",
       "      <td>E</td>\n",
       "    </tr>\n",
       "    <tr>\n",
       "      <th>1</th>\n",
       "      <td>2</td>\n",
       "      <td>B</td>\n",
       "      <td>F</td>\n",
       "    </tr>\n",
       "    <tr>\n",
       "      <th>2</th>\n",
       "      <td>3</td>\n",
       "      <td>C</td>\n",
       "      <td>G</td>\n",
       "    </tr>\n",
       "    <tr>\n",
       "      <th>3</th>\n",
       "      <td>4</td>\n",
       "      <td>D</td>\n",
       "      <td>H</td>\n",
       "    </tr>\n",
       "  </tbody>\n",
       "</table>\n",
       "</div>"
      ],
      "text/plain": [
       "   Key Value1_x Value1_y\n",
       "0    1        A        E\n",
       "1    2        B        F\n",
       "2    3        C        G\n",
       "3    4        D        H"
      ]
     },
     "execution_count": 69,
     "metadata": {},
     "output_type": "execute_result"
    }
   ],
   "source": [
    "pd.merge(df1,df2,on='Key',how='outer')"
   ]
  },
  {
   "cell_type": "code",
   "execution_count": 71,
   "id": "340f6c29",
   "metadata": {},
   "outputs": [
    {
     "data": {
      "text/html": [
       "<div>\n",
       "<style scoped>\n",
       "    .dataframe tbody tr th:only-of-type {\n",
       "        vertical-align: middle;\n",
       "    }\n",
       "\n",
       "    .dataframe tbody tr th {\n",
       "        vertical-align: top;\n",
       "    }\n",
       "\n",
       "    .dataframe thead th {\n",
       "        text-align: right;\n",
       "    }\n",
       "</style>\n",
       "<table border=\"1\" class=\"dataframe\">\n",
       "  <thead>\n",
       "    <tr style=\"text-align: right;\">\n",
       "      <th></th>\n",
       "      <th>Key</th>\n",
       "      <th>Value1_x</th>\n",
       "      <th>Value1_y</th>\n",
       "    </tr>\n",
       "  </thead>\n",
       "  <tbody>\n",
       "    <tr>\n",
       "      <th>0</th>\n",
       "      <td>1</td>\n",
       "      <td>A</td>\n",
       "      <td>E</td>\n",
       "    </tr>\n",
       "    <tr>\n",
       "      <th>1</th>\n",
       "      <td>2</td>\n",
       "      <td>B</td>\n",
       "      <td>F</td>\n",
       "    </tr>\n",
       "    <tr>\n",
       "      <th>2</th>\n",
       "      <td>3</td>\n",
       "      <td>C</td>\n",
       "      <td>G</td>\n",
       "    </tr>\n",
       "    <tr>\n",
       "      <th>3</th>\n",
       "      <td>4</td>\n",
       "      <td>D</td>\n",
       "      <td>H</td>\n",
       "    </tr>\n",
       "  </tbody>\n",
       "</table>\n",
       "</div>"
      ],
      "text/plain": [
       "   Key Value1_x Value1_y\n",
       "0    1        A        E\n",
       "1    2        B        F\n",
       "2    3        C        G\n",
       "3    4        D        H"
      ]
     },
     "execution_count": 71,
     "metadata": {},
     "output_type": "execute_result"
    }
   ],
   "source": [
    "pd.merge(df1,df2,how='left',on='Key')"
   ]
  }
 ],
 "metadata": {
  "kernelspec": {
   "display_name": ".venv",
   "language": "python",
   "name": "python3"
  },
  "language_info": {
   "codemirror_mode": {
    "name": "ipython",
    "version": 3
   },
   "file_extension": ".py",
   "mimetype": "text/x-python",
   "name": "python",
   "nbconvert_exporter": "python",
   "pygments_lexer": "ipython3",
   "version": "3.12.3"
  }
 },
 "nbformat": 4,
 "nbformat_minor": 5
}
