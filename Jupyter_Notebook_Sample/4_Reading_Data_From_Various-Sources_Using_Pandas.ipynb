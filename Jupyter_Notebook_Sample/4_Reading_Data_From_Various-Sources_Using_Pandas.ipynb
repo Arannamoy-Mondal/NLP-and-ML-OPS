{
 "cells": [
  {
   "cell_type": "code",
   "execution_count": 25,
   "id": "24f36919",
   "metadata": {},
   "outputs": [
    {
     "name": "stdout",
     "output_type": "stream",
     "text": [
      "Collecting lxml\n",
      "  Downloading lxml-5.4.0-cp312-cp312-manylinux_2_28_x86_64.whl.metadata (3.5 kB)\n",
      "Downloading lxml-5.4.0-cp312-cp312-manylinux_2_28_x86_64.whl (5.0 MB)\n",
      "\u001b[2K   \u001b[38;2;114;156;31m━━━━━━━━━━━━━━━━━━━━━━━━━━━━━━━━━━━━━━━━\u001b[0m \u001b[32m5.0/5.0 MB\u001b[0m \u001b[31m1.5 MB/s\u001b[0m eta \u001b[36m0:00:00\u001b[0m[31m1.6 MB/s\u001b[0m eta \u001b[36m0:00:01\u001b[0m\n",
      "\u001b[?25hInstalling collected packages: lxml\n",
      "Successfully installed lxml-5.4.0\n"
     ]
    }
   ],
   "source": [
    "!pip install lxml"
   ]
  },
  {
   "cell_type": "code",
   "execution_count": 27,
   "id": "a6a8416c",
   "metadata": {},
   "outputs": [
    {
     "name": "stdout",
     "output_type": "stream",
     "text": [
      "Collecting html5lib\n",
      "  Downloading html5lib-1.1-py2.py3-none-any.whl.metadata (16 kB)\n",
      "Requirement already satisfied: six>=1.9 in ./.venv/lib/python3.12/site-packages (from html5lib) (1.17.0)\n",
      "Collecting webencodings (from html5lib)\n",
      "  Downloading webencodings-0.5.1-py2.py3-none-any.whl.metadata (2.1 kB)\n",
      "Downloading html5lib-1.1-py2.py3-none-any.whl (112 kB)\n",
      "Downloading webencodings-0.5.1-py2.py3-none-any.whl (11 kB)\n",
      "Installing collected packages: webencodings, html5lib\n",
      "\u001b[2K   \u001b[38;2;114;156;31m━━━━━━━━━━━━━━━━━━━━━━━━━━━━━━━━━━━━━━━━\u001b[0m \u001b[32m2/2\u001b[0m [html5lib]\n",
      "\u001b[1A\u001b[2KSuccessfully installed html5lib-1.1 webencodings-0.5.1\n"
     ]
    }
   ],
   "source": [
    "!pip install html5lib"
   ]
  },
  {
   "cell_type": "code",
   "execution_count": 29,
   "id": "0e34f657",
   "metadata": {},
   "outputs": [
    {
     "name": "stdout",
     "output_type": "stream",
     "text": [
      "Collecting beautifulsoup4\n",
      "  Downloading beautifulsoup4-4.13.4-py3-none-any.whl.metadata (3.8 kB)\n",
      "Collecting soupsieve>1.2 (from beautifulsoup4)\n",
      "  Downloading soupsieve-2.7-py3-none-any.whl.metadata (4.6 kB)\n",
      "Collecting typing-extensions>=4.0.0 (from beautifulsoup4)\n",
      "  Downloading typing_extensions-4.14.0-py3-none-any.whl.metadata (3.0 kB)\n",
      "Downloading beautifulsoup4-4.13.4-py3-none-any.whl (187 kB)\n",
      "Downloading soupsieve-2.7-py3-none-any.whl (36 kB)\n",
      "Downloading typing_extensions-4.14.0-py3-none-any.whl (43 kB)\n",
      "Installing collected packages: typing-extensions, soupsieve, beautifulsoup4\n",
      "\u001b[2K   \u001b[38;2;114;156;31m━━━━━━━━━━━━━━━━━━━━━━━━━━━━━━━━━━━━━━━━\u001b[0m \u001b[32m3/3\u001b[0m [beautifulsoup4]━━━\u001b[0m \u001b[32m2/3\u001b[0m [beautifulsoup4]\n",
      "\u001b[1A\u001b[2KSuccessfully installed beautifulsoup4-4.13.4 soupsieve-2.7 typing-extensions-4.14.0\n"
     ]
    }
   ],
   "source": [
    "!pip install beautifulsoup4"
   ]
  },
  {
   "cell_type": "markdown",
   "id": "f4598a18",
   "metadata": {},
   "source": [
    "# json to df"
   ]
  },
  {
   "cell_type": "code",
   "execution_count": 13,
   "id": "1901e021",
   "metadata": {},
   "outputs": [
    {
     "data": {
      "text/html": [
       "<div>\n",
       "<style scoped>\n",
       "    .dataframe tbody tr th:only-of-type {\n",
       "        vertical-align: middle;\n",
       "    }\n",
       "\n",
       "    .dataframe tbody tr th {\n",
       "        vertical-align: top;\n",
       "    }\n",
       "\n",
       "    .dataframe thead th {\n",
       "        text-align: right;\n",
       "    }\n",
       "</style>\n",
       "<table border=\"1\" class=\"dataframe\">\n",
       "  <thead>\n",
       "    <tr style=\"text-align: right;\">\n",
       "      <th></th>\n",
       "      <th>name</th>\n",
       "    </tr>\n",
       "  </thead>\n",
       "  <tbody>\n",
       "    <tr>\n",
       "      <th>0</th>\n",
       "      <td>Hello</td>\n",
       "    </tr>\n",
       "  </tbody>\n",
       "</table>\n",
       "</div>"
      ],
      "text/plain": [
       "    name\n",
       "0  Hello"
      ]
     },
     "execution_count": 13,
     "metadata": {},
     "output_type": "execute_result"
    }
   ],
   "source": [
    "import pandas as pd\n",
    "from io import StringIO\n",
    "Data='[{\"name\":\"Hello\"}]'\n",
    "df=pd.read_json(StringIO(Data))\n",
    "df"
   ]
  },
  {
   "cell_type": "markdown",
   "id": "961cc685",
   "metadata": {},
   "source": [
    "# df to json"
   ]
  },
  {
   "cell_type": "code",
   "execution_count": 14,
   "id": "a61efd75",
   "metadata": {},
   "outputs": [
    {
     "data": {
      "text/plain": [
       "'{\"name\":{\"0\":\"Hello\"}}'"
      ]
     },
     "execution_count": 14,
     "metadata": {},
     "output_type": "execute_result"
    }
   ],
   "source": [
    "df.to_json()"
   ]
  },
  {
   "cell_type": "markdown",
   "id": "6d9e3044",
   "metadata": {},
   "source": [
    "# df to json according to json"
   ]
  },
  {
   "cell_type": "code",
   "execution_count": 15,
   "id": "f9ccb7a5",
   "metadata": {},
   "outputs": [
    {
     "data": {
      "text/plain": [
       "'{\"0\":{\"name\":\"Hello\"}}'"
      ]
     },
     "execution_count": 15,
     "metadata": {},
     "output_type": "execute_result"
    }
   ],
   "source": [
    "df.to_json(orient='index')"
   ]
  },
  {
   "cell_type": "code",
   "execution_count": 16,
   "id": "71cb18bf",
   "metadata": {},
   "outputs": [
    {
     "data": {
      "text/plain": [
       "'[{\"name\":\"Hello\"}]'"
      ]
     },
     "execution_count": 16,
     "metadata": {},
     "output_type": "execute_result"
    }
   ],
   "source": [
    "df.to_json(orient='records')"
   ]
  },
  {
   "cell_type": "markdown",
   "id": "c1978b9f",
   "metadata": {},
   "source": [
    "# Read data from url"
   ]
  },
  {
   "cell_type": "code",
   "execution_count": 17,
   "id": "a448a120",
   "metadata": {},
   "outputs": [],
   "source": [
    "df=pd.read_csv('https://phw-a-10-backend.vercel.app/campaign',header=None)"
   ]
  },
  {
   "cell_type": "code",
   "execution_count": 19,
   "id": "90a9b117",
   "metadata": {},
   "outputs": [
    {
     "name": "stdout",
     "output_type": "stream",
     "text": [
      "                                   0                       1   \\\n",
      "0  [{\"_id\":\"682075bb2f05e25e6368d9e0\"  title:\"Cloth Donation\"   \n",
      "\n",
      "                     2                                                 3   \\\n",
      "0  type:\"Save Humanity\"  url:\"https://i.ibb.co.com/JFQ2yCqj/download.jpg\"   \n",
      "\n",
      "                                      4            5   \\\n",
      "0  description:\"Dontae Cloth For Winter\"  amount:\"10\"   \n",
      "\n",
      "                            6                             7   \\\n",
      "0  deadline:\"2029-03-16T16:20\"  organizerName:\"Null Pointer\"   \n",
      "\n",
      "                                       8   \\\n",
      "0  organizerEmail:\"darwald2024@gmail.com\"   \n",
      "\n",
      "                                                  9   ...  \\\n",
      "0  created_time:\"Sun May 11 2025 16:02:33 GMT+060...  ...   \n",
      "\n",
      "                             78                     79  \\\n",
      "0  title:\"Voluptatibus quibusd\"  type:\"Personal issue\"   \n",
      "\n",
      "                                 80                                  81  \\\n",
      "0  url:\"https://www.wyhyheqif.mobi\"  description:\"Suscipit facilis dol\"   \n",
      "\n",
      "            82                           83  \\\n",
      "0  amount:\"93\"  deadline:\"2025-04-14T04:50\"   \n",
      "\n",
      "                                             84  \\\n",
      "0  organizerName:\"Programming-Hero Instructors\"   \n",
      "\n",
      "                                                  85  \\\n",
      "0  organizerEmail:\"instructors@programming-hero.com\"   \n",
      "\n",
      "                                                  86                      87  \n",
      "0  created_time:\"Wed May 21 2025 11:43:32 GMT+060...  totalDonatedAmount:0}]  \n",
      "\n",
      "[1 rows x 88 columns]\n"
     ]
    }
   ],
   "source": [
    "print(df.head(1))"
   ]
  },
  {
   "cell_type": "markdown",
   "id": "80849fb9",
   "metadata": {},
   "source": [
    "# Create df to csv"
   ]
  },
  {
   "cell_type": "code",
   "execution_count": 21,
   "id": "c4ae2392",
   "metadata": {},
   "outputs": [],
   "source": [
    "df.to_csv('campaign.csv')"
   ]
  },
  {
   "cell_type": "markdown",
   "id": "64e8b11e",
   "metadata": {},
   "source": [
    "# Read from html"
   ]
  },
  {
   "cell_type": "code",
   "execution_count": 32,
   "id": "53c17b13",
   "metadata": {},
   "outputs": [],
   "source": [
    "url=\"https://en.wikipedia.org/wiki/Mobile_country_code\"\n",
    "df=pd.read_html(url,match='Country',header=0)[0]"
   ]
  },
  {
   "cell_type": "code",
   "execution_count": 36,
   "id": "1b05e1ac",
   "metadata": {},
   "outputs": [],
   "source": [
    "df.to_csv(\"Mobile Countrycode.csv\")\n",
    "df.to_pickle(\"Mobile Countrycode.xl\")"
   ]
  }
 ],
 "metadata": {
  "kernelspec": {
   "display_name": ".venv",
   "language": "python",
   "name": "python3"
  },
  "language_info": {
   "codemirror_mode": {
    "name": "ipython",
    "version": 3
   },
   "file_extension": ".py",
   "mimetype": "text/x-python",
   "name": "python",
   "nbconvert_exporter": "python",
   "pygments_lexer": "ipython3",
   "version": "3.12.3"
  }
 },
 "nbformat": 4,
 "nbformat_minor": 5
}
