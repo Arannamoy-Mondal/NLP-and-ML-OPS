{
 "cells": [
  {
   "cell_type": "code",
   "execution_count": 1,
   "id": "67783ae2",
   "metadata": {},
   "outputs": [
    {
     "name": "stdout",
     "output_type": "stream",
     "text": [
      "Hello\n"
     ]
    }
   ],
   "source": [
    "print(\"Hello\")"
   ]
  },
  {
   "cell_type": "code",
   "execution_count": 6,
   "id": "7c4aab32",
   "metadata": {},
   "outputs": [
    {
     "name": "stdout",
     "output_type": "stream",
     "text": [
      "Hello  30\n"
     ]
    }
   ],
   "source": [
    "name=\"Hello\"\n",
    "number=30\n",
    "print(\"%s  %d\"%(name,number))"
   ]
  },
  {
   "cell_type": "code",
   "execution_count": null,
   "id": "86ab7910",
   "metadata": {},
   "outputs": [
    {
     "name": "stdout",
     "output_type": "stream",
     "text": [
      "Hello, Hello\n"
     ]
    }
   ],
   "source": [
    "# input\n",
    "name=input(\"Enter name\")\n",
    "print(f'Hello, {name}')"
   ]
  },
  {
   "cell_type": "code",
   "execution_count": 10,
   "id": "3c0b317f",
   "metadata": {},
   "outputs": [
    {
     "name": "stdout",
     "output_type": "stream",
     "text": [
      "Hello\n",
      "[1, 2, 3, 5.5, 'Hello']\n"
     ]
    }
   ],
   "source": [
    "#list\n",
    "\n",
    "list=[1,2,3,5.5,'Hello']\n",
    "print(list[-1])\n",
    "print(list[:100])"
   ]
  },
  {
   "cell_type": "code",
   "execution_count": 13,
   "id": "5988521c",
   "metadata": {},
   "outputs": [
    {
     "name": "stdout",
     "output_type": "stream",
     "text": [
      "[1, 2]\n"
     ]
    }
   ],
   "source": [
    "# slicing\n",
    "\n",
    "print(list[:2])\n"
   ]
  }
 ],
 "metadata": {
  "kernelspec": {
   "display_name": ".venv",
   "language": "python",
   "name": "python3"
  },
  "language_info": {
   "codemirror_mode": {
    "name": "ipython",
    "version": 3
   },
   "file_extension": ".py",
   "mimetype": "text/x-python",
   "name": "python",
   "nbconvert_exporter": "python",
   "pygments_lexer": "ipython3",
   "version": "3.12.3"
  }
 },
 "nbformat": 4,
 "nbformat_minor": 5
}
